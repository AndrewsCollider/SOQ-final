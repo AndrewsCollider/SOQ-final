{
 "cells": [
  {
   "cell_type": "code",
   "execution_count": 1,
   "metadata": {
    "_cell_guid": "b1076dfc-b9ad-4769-8c92-a6c4dae69d19",
    "_uuid": "8f2839f25d086af736a60e9eeb907d3b93b6e0e5",
    "execution": {
     "iopub.execute_input": "2024-09-07T09:57:45.551291Z",
     "iopub.status.busy": "2024-09-07T09:57:45.550729Z",
     "iopub.status.idle": "2024-09-07T09:57:47.757403Z",
     "shell.execute_reply": "2024-09-07T09:57:47.756162Z",
     "shell.execute_reply.started": "2024-09-07T09:57:45.551232Z"
    }
   },
   "outputs": [
    {
     "name": "stdout",
     "output_type": "stream",
     "text": [
      "/kaggle/input/soq-hack-datasets/sample_submission.csv\n",
      "/kaggle/input/soq-hack-datasets/train.csv\n",
      "/kaggle/input/soq-hack-datasets/test.csv\n",
      "/kaggle/input/soq-hack-datasets/solution.csv\n"
     ]
    }
   ],
   "source": [
    "import pandas as pd\n",
    "import numpy as np\n",
    "import matplotlib.pyplot as plt\n",
    "import seaborn as sns\n",
    "\n",
    "from sklearn.model_selection import *\n",
    "from sklearn.preprocessing import *\n",
    "from sklearn.metrics import *\n",
    "from imblearn.under_sampling import RandomUnderSampler\n",
    "from sklearn.decomposition import PCA\n",
    "from sklearn.base import TransformerMixin\n",
    "from sklearn.linear_model import LogisticRegression\n",
    "from sklearn.ensemble import GradientBoostingClassifier\n",
    "\n",
    "import lightgbm as lgb\n",
    "from catboost import CatBoostClassifier, Pool\n",
    "from lightgbm import LGBMClassifier\n",
    "from xgboost import XGBClassifier\n",
    "\n",
    "# libs for feature selection\n",
    "from sklearn.inspection import permutation_importance\n",
    "import phik\n",
    "\n",
    "# lib for tuning\n",
    "import optuna\n",
    "from optuna import Trial\n",
    "\n",
    "from IPython.display import display\n",
    "import logging\n",
    "import warnings\n",
    "warnings.filterwarnings('ignore')\n",
    "\n",
    "import os\n",
    "for dirname, _, filenames in os.walk('/kaggle/input'):\n",
    "    for filename in filenames:\n",
    "        print(os.path.join(dirname, filename))"
   ]
  },
  {
   "cell_type": "markdown",
   "metadata": {
    "execution": {
     "iopub.execute_input": "2024-09-06T17:57:42.680445Z",
     "iopub.status.busy": "2024-09-06T17:57:42.678724Z",
     "iopub.status.idle": "2024-09-06T17:57:42.687270Z",
     "shell.execute_reply": "2024-09-06T17:57:42.685703Z",
     "shell.execute_reply.started": "2024-09-06T17:57:42.680384Z"
    }
   },
   "source": [
    "# Short Notebook Describtion"
   ]
  },
  {
   "cell_type": "markdown",
   "metadata": {},
   "source": [
    "This notebook is dedicated to solve **binary classification problem**, where **one class is rare** (the bulk of trades (99%) fall into the \"hold\" category, while only 1% are short and long positions). To solve this problem I used **feature engineering** and three tuned (**with optuna**) boostings. In the end I tried to implement **ensembles**.<br>\n",
    "* If you have what to add in this solution or you know, who to do it better - write about it in comments, please! <br>\n",
    "* In the end of notebook you can see all authors! <br>\n",
    "* **Please, upvote this notebook, if it's useful for you. It's important for me!**"
   ]
  },
  {
   "cell_type": "code",
   "execution_count": null,
   "metadata": {},
   "outputs": [],
   "source": [
    "# for github\n",
    "train = pd.read_csv('Data/train.csv')\n",
    "test = pd.read_csv('Data/test.csv')\n",
    "solution = pd.read_csv('Data/solution.csv')"
   ]
  },
  {
   "cell_type": "code",
   "execution_count": 2,
   "metadata": {
    "execution": {
     "iopub.execute_input": "2024-09-07T09:57:47.760386Z",
     "iopub.status.busy": "2024-09-07T09:57:47.759536Z",
     "iopub.status.idle": "2024-09-07T09:58:10.783162Z",
     "shell.execute_reply": "2024-09-07T09:58:10.782021Z",
     "shell.execute_reply.started": "2024-09-07T09:57:47.760340Z"
    }
   },
   "outputs": [],
   "source": [
    "# datasets from school of quants hackathon\n",
    "\"\"\"train = pd.read_csv('/kaggle/input/soq-hack-datasets/train.csv')\n",
    "test = pd.read_csv('/kaggle/input/soq-hack-datasets/test.csv')\n",
    "solution = pd.read_csv('/kaggle/input/soq-hack-datasets/solution.csv')\"\"\""
   ]
  },
  {
   "cell_type": "markdown",
   "metadata": {},
   "source": [
    "# Data Description\n"
   ]
  },
  {
   "cell_type": "code",
   "execution_count": 3,
   "metadata": {
    "execution": {
     "iopub.execute_input": "2024-09-07T09:58:10.785149Z",
     "iopub.status.busy": "2024-09-07T09:58:10.784629Z",
     "iopub.status.idle": "2024-09-07T09:58:10.796277Z",
     "shell.execute_reply": "2024-09-07T09:58:10.795026Z",
     "shell.execute_reply.started": "2024-09-07T09:58:10.785107Z"
    }
   },
   "outputs": [
    {
     "data": {
      "text/plain": [
       "Index(['rsi_sig', 'vwap_short', 'resist3', 'stoch_k', 'vwap_long', 'support3',\n",
       "       'fibo_sig', 'result', 'stoch_k_sm', 'boll_up', 'stoch_d', 'ichi_sig',\n",
       "       'boll_low', 'stoch_sig', 'macd_rel', 'pivot_pt', 'macd_sig_rel',\n",
       "       'wma_rel', 'stoch_sig_val', 's&p500', 'ichi_a', 'boll_sig', 'adx',\n",
       "       'ichi_conv', 'ma_rel', 'sma_rel', 'rsi', 'sar_rel', 'macd', 'support2',\n",
       "       'atr', 'resist1', 'ema_rel', 'support1', 'ichi_base', 'exch', 'resist2',\n",
       "       'ichi_b', 'macd_hist_rel'],\n",
       "      dtype='object')"
      ]
     },
     "execution_count": 3,
     "metadata": {},
     "output_type": "execute_result"
    }
   ],
   "source": [
    "train.columns"
   ]
  },
  {
   "cell_type": "code",
   "execution_count": 4,
   "metadata": {
    "execution": {
     "iopub.execute_input": "2024-09-07T09:58:10.798457Z",
     "iopub.status.busy": "2024-09-07T09:58:10.797884Z",
     "iopub.status.idle": "2024-09-07T09:58:10.856050Z",
     "shell.execute_reply": "2024-09-07T09:58:10.854650Z",
     "shell.execute_reply.started": "2024-09-07T09:58:10.798413Z"
    }
   },
   "outputs": [
    {
     "data": {
      "text/html": [
       "<div>\n",
       "<style scoped>\n",
       "    .dataframe tbody tr th:only-of-type {\n",
       "        vertical-align: middle;\n",
       "    }\n",
       "\n",
       "    .dataframe tbody tr th {\n",
       "        vertical-align: top;\n",
       "    }\n",
       "\n",
       "    .dataframe thead th {\n",
       "        text-align: right;\n",
       "    }\n",
       "</style>\n",
       "<table border=\"1\" class=\"dataframe\">\n",
       "  <thead>\n",
       "    <tr style=\"text-align: right;\">\n",
       "      <th></th>\n",
       "      <th>rsi_sig</th>\n",
       "      <th>vwap_short</th>\n",
       "      <th>resist3</th>\n",
       "      <th>stoch_k</th>\n",
       "      <th>vwap_long</th>\n",
       "      <th>support3</th>\n",
       "      <th>fibo_sig</th>\n",
       "      <th>result</th>\n",
       "      <th>stoch_k_sm</th>\n",
       "      <th>boll_up</th>\n",
       "      <th>...</th>\n",
       "      <th>support2</th>\n",
       "      <th>atr</th>\n",
       "      <th>resist1</th>\n",
       "      <th>ema_rel</th>\n",
       "      <th>support1</th>\n",
       "      <th>ichi_base</th>\n",
       "      <th>exch</th>\n",
       "      <th>resist2</th>\n",
       "      <th>ichi_b</th>\n",
       "      <th>macd_hist_rel</th>\n",
       "    </tr>\n",
       "  </thead>\n",
       "  <tbody>\n",
       "    <tr>\n",
       "      <th>0</th>\n",
       "      <td>Hold</td>\n",
       "      <td>0.000314</td>\n",
       "      <td>32.11</td>\n",
       "      <td>5.115713</td>\n",
       "      <td>-0.000094</td>\n",
       "      <td>-24.93</td>\n",
       "      <td>Sell</td>\n",
       "      <td>0</td>\n",
       "      <td>41.644171</td>\n",
       "      <td>0.005576</td>\n",
       "      <td>...</td>\n",
       "      <td>-10.67</td>\n",
       "      <td>0.002527</td>\n",
       "      <td>9.50</td>\n",
       "      <td>1.026437</td>\n",
       "      <td>-4.76</td>\n",
       "      <td>2.722192</td>\n",
       "      <td>BC</td>\n",
       "      <td>17.85</td>\n",
       "      <td>5.110871</td>\n",
       "      <td>-1.027237</td>\n",
       "    </tr>\n",
       "    <tr>\n",
       "      <th>1</th>\n",
       "      <td>Sell</td>\n",
       "      <td>0.000000</td>\n",
       "      <td>5.60</td>\n",
       "      <td>85.714286</td>\n",
       "      <td>0.000002</td>\n",
       "      <td>-6.44</td>\n",
       "      <td>Buy</td>\n",
       "      <td>1</td>\n",
       "      <td>113.015873</td>\n",
       "      <td>0.017626</td>\n",
       "      <td>...</td>\n",
       "      <td>-3.43</td>\n",
       "      <td>0.000207</td>\n",
       "      <td>1.37</td>\n",
       "      <td>0.995089</td>\n",
       "      <td>-1.64</td>\n",
       "      <td>-1.103310</td>\n",
       "      <td>BB</td>\n",
       "      <td>2.59</td>\n",
       "      <td>-0.451354</td>\n",
       "      <td>-0.993209</td>\n",
       "    </tr>\n",
       "    <tr>\n",
       "      <th>2</th>\n",
       "      <td>Hold</td>\n",
       "      <td>0.000000</td>\n",
       "      <td>1.30</td>\n",
       "      <td>50.000000</td>\n",
       "      <td>0.000000</td>\n",
       "      <td>-1.30</td>\n",
       "      <td>Sell</td>\n",
       "      <td>1</td>\n",
       "      <td>46.666667</td>\n",
       "      <td>0.002156</td>\n",
       "      <td>...</td>\n",
       "      <td>-0.65</td>\n",
       "      <td>0.000005</td>\n",
       "      <td>0.28</td>\n",
       "      <td>1.000046</td>\n",
       "      <td>-0.37</td>\n",
       "      <td>-0.061000</td>\n",
       "      <td>BB</td>\n",
       "      <td>0.65</td>\n",
       "      <td>-0.020333</td>\n",
       "      <td>-0.999840</td>\n",
       "    </tr>\n",
       "  </tbody>\n",
       "</table>\n",
       "<p>3 rows × 39 columns</p>\n",
       "</div>"
      ],
      "text/plain": [
       "  rsi_sig  vwap_short  resist3    stoch_k  vwap_long  support3 fibo_sig  \\\n",
       "0    Hold    0.000314    32.11   5.115713  -0.000094    -24.93     Sell   \n",
       "1    Sell    0.000000     5.60  85.714286   0.000002     -6.44      Buy   \n",
       "2    Hold    0.000000     1.30  50.000000   0.000000     -1.30     Sell   \n",
       "\n",
       "   result  stoch_k_sm   boll_up  ...  support2       atr  resist1   ema_rel  \\\n",
       "0       0   41.644171  0.005576  ...    -10.67  0.002527     9.50  1.026437   \n",
       "1       1  113.015873  0.017626  ...     -3.43  0.000207     1.37  0.995089   \n",
       "2       1   46.666667  0.002156  ...     -0.65  0.000005     0.28  1.000046   \n",
       "\n",
       "   support1  ichi_base  exch  resist2    ichi_b  macd_hist_rel  \n",
       "0     -4.76   2.722192    BC    17.85  5.110871      -1.027237  \n",
       "1     -1.64  -1.103310    BB     2.59 -0.451354      -0.993209  \n",
       "2     -0.37  -0.061000    BB     0.65 -0.020333      -0.999840  \n",
       "\n",
       "[3 rows x 39 columns]"
      ]
     },
     "execution_count": 4,
     "metadata": {},
     "output_type": "execute_result"
    }
   ],
   "source": [
    "train.head(3)"
   ]
  },
  {
   "cell_type": "markdown",
   "metadata": {},
   "source": [
    "### Categorical Columns:\n",
    "\n",
    "**`rsi_sig`**: Relative Strength Index (RSI) indicator, which helps identify whether an asset is overbought or oversold.\n",
    "\n",
    "**`stoch_sig`**: Stochastic Oscillator, used for generating potential trading signals by identifying overbought and oversold conditions.\n",
    "\n",
    "**`ichi_sig`**: Ichimoku indicator, which helps determine support and resistance levels, as well as market momentum.\n",
    "\n",
    "**`fibo_sig`**: Fibonacci levels, used to identify potential support and resistance zones.\n",
    "\n",
    "**`boll_sig`**: Bollinger Bands indicator, which helps assess market volatility and identify potential entry and exit points for trades.\n",
    "\n",
    "**`exch`**: The exchange or trading platform where the transaction took place.\n",
    "\n",
    "### Numerical Columns:\n",
    "\n",
    "**`ichi_conv, ichi_base, ichi_a, ichi_b`**: Various components of the Ichimoku indicator, which help determine trends and potential reversal points.\n",
    "\n",
    "**`support1, resist1, support2, resist2, support3, resist3`**: Support and resistance levels, which help traders and analysts identify potential price reversal zones and make more informed trading decisions.\n",
    "\n",
    "**`macd, macd_rel, macd_sig_rel, macd_hist_rel`**: MACD indicator, which helps identify the direction and strength of a trend.\n",
    "\n",
    "**`adx`**: Average Directional Index, which helps measure the strength of a trend.\n",
    "\n",
    "**`atr`**: Average True Range, used to evaluate market volatility.\n",
    "\n",
    "**`ma_rel, sma_rel, ema_rel, wma_rel`**: Moving averages (MA, SMA, EMA, WMA), which help identify the current market trend based on historical data.\n",
    "\n",
    "**`s&p500`**: Movement of the S&P 500 index within a 15-minute window.\n",
    "\n",
    "**`vwap_short, vwap_long`**: VWAP (volume-weighted average price) for short and long positions, used to identify optimal trading opportunities.\n",
    "\n",
    "**`rsi, sar_rel`**: RSI indicator and Parabolic Stop and Reverse (SAR) indicator, which help track price movement dynamics.\n",
    "\n",
    "**`stoch_k, stoch_d, stoch_k_sm, stoch_sig_val`**: Various aspects of the Stochastic Oscillator, which help analyze market dynamics.\n",
    "\n",
    "**`boll_up, boll_low`**: Upper and lower Bollinger Bands, used to assess market volatility.\n",
    "\n",
    "**`pivot_pt`**: Pivot point, which helps determine the overall market trend.\n",
    "\n",
    "### Target:\n",
    "\n",
    "**`result`**: Column representing the target variable in your dataset.\n",
    "**Target values: 1 - \"holding\" strategy; 0 - long or short position.**"
   ]
  },
  {
   "cell_type": "markdown",
   "metadata": {},
   "source": [
    "# Feature Engineering"
   ]
  },
  {
   "cell_type": "markdown",
   "metadata": {},
   "source": [
    "Let's create **NEW FEATURES** based on technical analisys and maybe can help our model to predict right stratagy\n",
    "\n",
    "* **`The ratio of resistance level to support level`** can indicate how clear the market is in its direction.\n",
    "  * **Justification:** The closer this ratio is to 1, the more uncertain market participants are. In such cases, it might be better to stick to a \"holding\" strategy.\n",
    "* **`Double overbought/oversold signal`**. If `RSI` and `stoch_k` are simultaneously in the overbought or oversold zones (feature value: 1), holding is unlikely.\n",
    "* **`Volatility and trend strength`**. If market volatility (`ATR`) increases alongside the trend strength (`ADX`), it is likely not the best moment for holding.\n",
    "* **`S&P500 as a market sentiment indicator`**. If this index shows sharp changes in its prices, it may indicate that financial market participants are ready to start selling/buying instead of holding.\n",
    "* **`VWAP`**. If volume-weighted average prices change sharply, it signals activity among financial market participants."
   ]
  },
  {
   "cell_type": "code",
   "execution_count": 5,
   "metadata": {
    "execution": {
     "iopub.execute_input": "2024-09-07T09:58:10.859289Z",
     "iopub.status.busy": "2024-09-07T09:58:10.858838Z",
     "iopub.status.idle": "2024-09-07T09:58:10.870578Z",
     "shell.execute_reply": "2024-09-07T09:58:10.869465Z",
     "shell.execute_reply.started": "2024-09-07T09:58:10.859233Z"
    }
   },
   "outputs": [],
   "source": [
    "def feature_generating(df):\n",
    "    df = df.copy()\n",
    "    \n",
    "    # ratio of resistance level to support level\n",
    "    df['support1_vs_resist1'] = df['support1'] / df['resist1']\n",
    "    df['support2_vs_resist2'] = df['support2'] / df['resist2']\n",
    "    df['support3_vs_resist3'] = df['support3'] / df['resist3']\n",
    "    \n",
    "    # double signal \"is overbought or oversold\"\n",
    "    df['double_sig'] = ((df['rsi'] > 70) & (df['stoch_k'] > 80)) | \\\n",
    "                        ((df['rsi'] < 30) & (df['stoch_k'] < 20))\n",
    "    df['double_sig'] = df['double_sig'].astype(int)\n",
    "    \n",
    "    # Volatility and Trend Strength\n",
    "    df['atr&adx'] = df['atr'] * df['adx']\n",
    "    \n",
    "    # S&P500 - \"Market Sentiment Indicator\"\n",
    "    df['sp500_pct_change'] = df['s&p500'].pct_change()\n",
    "    df['sp500_movement'] = (df['sp500_pct_change'].abs() > 0.005).astype(int)\n",
    "    \n",
    "    # VWAP\n",
    "    df['vwap_short_pct_change'] = df['vwap_short'].pct_change()\n",
    "    df['vwap_long_pct_change'] = df['vwap_long'].pct_change()\n",
    "    \n",
    "    df['vwap_short_signal'] = (df['vwap_short_pct_change'].abs() > 0.005).astype(int)\n",
    "    df['vwap_long_signal'] = (df['vwap_long_pct_change'].abs() > 0.005).astype(int)\n",
    "    \n",
    "    df = df.fillna(method='bfill')\n",
    "    df = df.replace(-np.inf, np.nan)\n",
    "    df = df.fillna(df.min())\n",
    "    df = df.replace(np.inf, np.nan)\n",
    "    df = df.fillna(df.max())\n",
    "    \n",
    "    return df"
   ]
  },
  {
   "cell_type": "code",
   "execution_count": 6,
   "metadata": {
    "execution": {
     "iopub.execute_input": "2024-09-07T09:58:10.872671Z",
     "iopub.status.busy": "2024-09-07T09:58:10.872256Z",
     "iopub.status.idle": "2024-09-07T09:58:23.164863Z",
     "shell.execute_reply": "2024-09-07T09:58:23.163632Z",
     "shell.execute_reply.started": "2024-09-07T09:58:10.872599Z"
    }
   },
   "outputs": [],
   "source": [
    "train = feature_generating(train)\n",
    "test = feature_generating(test)\n",
    "solution = feature_generating(solution)"
   ]
  },
  {
   "cell_type": "code",
   "execution_count": 7,
   "metadata": {
    "execution": {
     "iopub.execute_input": "2024-09-07T09:58:23.166909Z",
     "iopub.status.busy": "2024-09-07T09:58:23.166409Z",
     "iopub.status.idle": "2024-09-07T09:58:23.175820Z",
     "shell.execute_reply": "2024-09-07T09:58:23.174468Z",
     "shell.execute_reply.started": "2024-09-07T09:58:23.166853Z"
    }
   },
   "outputs": [
    {
     "data": {
      "text/plain": [
       "((1366032, 50), (341166, 50), (342, 49))"
      ]
     },
     "execution_count": 7,
     "metadata": {},
     "output_type": "execute_result"
    }
   ],
   "source": [
    "train.shape, test.shape, solution.shape"
   ]
  },
  {
   "cell_type": "code",
   "execution_count": 8,
   "metadata": {
    "execution": {
     "iopub.execute_input": "2024-09-07T09:58:23.177931Z",
     "iopub.status.busy": "2024-09-07T09:58:23.177431Z",
     "iopub.status.idle": "2024-09-07T09:58:23.220763Z",
     "shell.execute_reply": "2024-09-07T09:58:23.219114Z",
     "shell.execute_reply.started": "2024-09-07T09:58:23.177876Z"
    }
   },
   "outputs": [
    {
     "data": {
      "text/html": [
       "<div>\n",
       "<style scoped>\n",
       "    .dataframe tbody tr th:only-of-type {\n",
       "        vertical-align: middle;\n",
       "    }\n",
       "\n",
       "    .dataframe tbody tr th {\n",
       "        vertical-align: top;\n",
       "    }\n",
       "\n",
       "    .dataframe thead th {\n",
       "        text-align: right;\n",
       "    }\n",
       "</style>\n",
       "<table border=\"1\" class=\"dataframe\">\n",
       "  <thead>\n",
       "    <tr style=\"text-align: right;\">\n",
       "      <th></th>\n",
       "      <th>rsi_sig</th>\n",
       "      <th>vwap_short</th>\n",
       "      <th>resist3</th>\n",
       "      <th>stoch_k</th>\n",
       "      <th>vwap_long</th>\n",
       "      <th>support3</th>\n",
       "      <th>fibo_sig</th>\n",
       "      <th>result</th>\n",
       "      <th>stoch_k_sm</th>\n",
       "      <th>boll_up</th>\n",
       "      <th>...</th>\n",
       "      <th>support2_vs_resist2</th>\n",
       "      <th>support3_vs_resist3</th>\n",
       "      <th>double_sig</th>\n",
       "      <th>atr&amp;adx</th>\n",
       "      <th>sp500_pct_change</th>\n",
       "      <th>sp500_movement</th>\n",
       "      <th>vwap_short_pct_change</th>\n",
       "      <th>vwap_long_pct_change</th>\n",
       "      <th>vwap_short_signal</th>\n",
       "      <th>vwap_long_signal</th>\n",
       "    </tr>\n",
       "  </thead>\n",
       "  <tbody>\n",
       "    <tr>\n",
       "      <th>0</th>\n",
       "      <td>Hold</td>\n",
       "      <td>0.000314</td>\n",
       "      <td>32.11</td>\n",
       "      <td>5.115713</td>\n",
       "      <td>-0.000094</td>\n",
       "      <td>-24.93</td>\n",
       "      <td>Sell</td>\n",
       "      <td>0</td>\n",
       "      <td>41.644171</td>\n",
       "      <td>0.005576</td>\n",
       "      <td>...</td>\n",
       "      <td>-0.597759</td>\n",
       "      <td>-0.776394</td>\n",
       "      <td>0</td>\n",
       "      <td>0.028428</td>\n",
       "      <td>-1.182713</td>\n",
       "      <td>0</td>\n",
       "      <td>-1.000000e+00</td>\n",
       "      <td>-1.016865</td>\n",
       "      <td>0</td>\n",
       "      <td>0</td>\n",
       "    </tr>\n",
       "    <tr>\n",
       "      <th>1</th>\n",
       "      <td>Sell</td>\n",
       "      <td>0.000000</td>\n",
       "      <td>5.60</td>\n",
       "      <td>85.714286</td>\n",
       "      <td>0.000002</td>\n",
       "      <td>-6.44</td>\n",
       "      <td>Buy</td>\n",
       "      <td>1</td>\n",
       "      <td>113.015873</td>\n",
       "      <td>0.017626</td>\n",
       "      <td>...</td>\n",
       "      <td>-1.324324</td>\n",
       "      <td>-1.150000</td>\n",
       "      <td>1</td>\n",
       "      <td>0.020667</td>\n",
       "      <td>-1.182713</td>\n",
       "      <td>1</td>\n",
       "      <td>-1.000000e+00</td>\n",
       "      <td>-1.016865</td>\n",
       "      <td>1</td>\n",
       "      <td>1</td>\n",
       "    </tr>\n",
       "    <tr>\n",
       "      <th>2</th>\n",
       "      <td>Hold</td>\n",
       "      <td>0.000000</td>\n",
       "      <td>1.30</td>\n",
       "      <td>50.000000</td>\n",
       "      <td>0.000000</td>\n",
       "      <td>-1.30</td>\n",
       "      <td>Sell</td>\n",
       "      <td>1</td>\n",
       "      <td>46.666667</td>\n",
       "      <td>0.002156</td>\n",
       "      <td>...</td>\n",
       "      <td>-1.000000</td>\n",
       "      <td>-1.000000</td>\n",
       "      <td>0</td>\n",
       "      <td>0.000199</td>\n",
       "      <td>-4.247369</td>\n",
       "      <td>1</td>\n",
       "      <td>-3.335380e+15</td>\n",
       "      <td>-1.000000</td>\n",
       "      <td>0</td>\n",
       "      <td>1</td>\n",
       "    </tr>\n",
       "  </tbody>\n",
       "</table>\n",
       "<p>3 rows × 50 columns</p>\n",
       "</div>"
      ],
      "text/plain": [
       "  rsi_sig  vwap_short  resist3    stoch_k  vwap_long  support3 fibo_sig  \\\n",
       "0    Hold    0.000314    32.11   5.115713  -0.000094    -24.93     Sell   \n",
       "1    Sell    0.000000     5.60  85.714286   0.000002     -6.44      Buy   \n",
       "2    Hold    0.000000     1.30  50.000000   0.000000     -1.30     Sell   \n",
       "\n",
       "   result  stoch_k_sm   boll_up  ...  support2_vs_resist2 support3_vs_resist3  \\\n",
       "0       0   41.644171  0.005576  ...            -0.597759           -0.776394   \n",
       "1       1  113.015873  0.017626  ...            -1.324324           -1.150000   \n",
       "2       1   46.666667  0.002156  ...            -1.000000           -1.000000   \n",
       "\n",
       "   double_sig   atr&adx  sp500_pct_change  sp500_movement  \\\n",
       "0           0  0.028428         -1.182713               0   \n",
       "1           1  0.020667         -1.182713               1   \n",
       "2           0  0.000199         -4.247369               1   \n",
       "\n",
       "   vwap_short_pct_change  vwap_long_pct_change  vwap_short_signal  \\\n",
       "0          -1.000000e+00             -1.016865                  0   \n",
       "1          -1.000000e+00             -1.016865                  1   \n",
       "2          -3.335380e+15             -1.000000                  0   \n",
       "\n",
       "   vwap_long_signal  \n",
       "0                 0  \n",
       "1                 1  \n",
       "2                 1  \n",
       "\n",
       "[3 rows x 50 columns]"
      ]
     },
     "execution_count": 8,
     "metadata": {},
     "output_type": "execute_result"
    }
   ],
   "source": [
    "train.head(3)"
   ]
  },
  {
   "cell_type": "markdown",
   "metadata": {},
   "source": [
    "There are too much objects and features, so let's try to decrease these numbers with minimum loss of data-information. First, I tried to **fit and tune** CatBoost, using all data, but it was loading approximately 8 hours - that's not ok for this model."
   ]
  },
  {
   "cell_type": "code",
   "execution_count": 9,
   "metadata": {
    "execution": {
     "iopub.execute_input": "2024-09-07T09:58:23.223332Z",
     "iopub.status.busy": "2024-09-07T09:58:23.222558Z",
     "iopub.status.idle": "2024-09-07T09:58:23.232354Z",
     "shell.execute_reply": "2024-09-07T09:58:23.230845Z",
     "shell.execute_reply.started": "2024-09-07T09:58:23.223114Z"
    }
   },
   "outputs": [],
   "source": [
    "def converter(df):\n",
    "    '''\n",
    "    Maybe pure attempt to help our model, but let it be!\n",
    "    '''\n",
    "    float_num_features = df.select_dtypes('float64').columns\n",
    "    int_num_features = df.select_dtypes(['int64', 'int32']).columns\n",
    "    df[float_num_features] = df[float_num_features].astype('float32')\n",
    "    df[int_num_features] = df[int_num_features].astype('int16')\n",
    "    \n",
    "    return df"
   ]
  },
  {
   "cell_type": "code",
   "execution_count": 10,
   "metadata": {
    "execution": {
     "iopub.execute_input": "2024-09-07T09:58:23.235002Z",
     "iopub.status.busy": "2024-09-07T09:58:23.234389Z",
     "iopub.status.idle": "2024-09-07T09:58:23.252649Z",
     "shell.execute_reply": "2024-09-07T09:58:23.251289Z",
     "shell.execute_reply.started": "2024-09-07T09:58:23.234942Z"
    }
   },
   "outputs": [
    {
     "data": {
      "text/plain": [
       "NameError(\"This code won't work right\")"
      ]
     },
     "execution_count": 10,
     "metadata": {},
     "output_type": "execute_result"
    }
   ],
   "source": [
    "# THAT'S WRONG!\n",
    "# We need to use another way of implementing PCA in this task\n",
    "# because method instance have to be common for train and test datasets\n",
    "# It's significant to fit_transform train dataset and then transform test.\n",
    "# So, only Transformer can overcome this problem\n",
    "def make_pca(df, pca):\n",
    "    '''\n",
    "    PCA helps to decrease number of features by saving the most important \n",
    "    information from the initial data and using Singular Value Decomposition \n",
    "    of the data to project it to a lower dimensional space. \n",
    "    The input data is centered but not scaled for each feature before applying the SVD!\n",
    "    '''\n",
    "    num_features = df.select_dtypes('float32').columns\n",
    "    \n",
    "    pca = PCA(n_components=0.98)\n",
    "    df_new_num_features = pd.DataFrame(pca.fit_transform(df[num_features]))\n",
    "    df = df.drop(num_features, axis=1)\n",
    "    df = df.reset_index(drop=True)\n",
    "    df_new_num_features = df_new_num_features.reset_index(drop=True)\n",
    "    df = pd.concat([df_new_num_features, df], axis=1)\n",
    "    \n",
    "    return df\n",
    "\n",
    "NameError(\"This code won't work right\")"
   ]
  },
  {
   "cell_type": "markdown",
   "metadata": {},
   "source": [
    "**[What is PCA?](https://scikit-learn.org/stable/modules/generated/sklearn.decomposition.PCA.html)**"
   ]
  },
  {
   "cell_type": "code",
   "execution_count": 11,
   "metadata": {
    "execution": {
     "iopub.execute_input": "2024-09-07T09:58:23.254673Z",
     "iopub.status.busy": "2024-09-07T09:58:23.254273Z",
     "iopub.status.idle": "2024-09-07T09:58:23.277474Z",
     "shell.execute_reply": "2024-09-07T09:58:23.276172Z",
     "shell.execute_reply.started": "2024-09-07T09:58:23.254629Z"
    }
   },
   "outputs": [],
   "source": [
    "class Transformer(TransformerMixin):\n",
    "    '''\n",
    "    This class is needed to provide right transformation of train&test datasets.\n",
    "    PCA helps to compress dataset while preserving core information.\n",
    "    \n",
    "    This class can also include OHE or more appropriate encoder\n",
    "    '''\n",
    "    def __init__(self, n_components):\n",
    "        super().__init__()\n",
    "\n",
    "        self.PCA = PCA(n_components = n_components)\n",
    "        self.scaler = StandardScaler()\n",
    "\n",
    "    def fit(self, df):\n",
    "        num_cols = df.select_dtypes('float32').columns\n",
    "        scaled = self.scaler.fit_transform(df[num_cols])\n",
    "\n",
    "        self.PCA.fit(scaled)\n",
    "\n",
    "        return self\n",
    "\n",
    "    def transform(self, df):\n",
    "        num_cols = df.select_dtypes('float32').columns\n",
    "        # cat_cols = df.select_dtypes('object').columns\n",
    "\n",
    "        scaled = self.scaler.transform(df[num_cols])\n",
    "\n",
    "        features = self.PCA.transform(scaled)\n",
    "        # cat_features = self.encoder.transform(df[cat_cols])\n",
    "        del scaled\n",
    "\n",
    "        assert len(features) == len(df), 'Trouble'\n",
    "\n",
    "        df = df.drop(num_cols, axis = 1)\n",
    "        # df = df.drop(cat_cols, axis = 1)\n",
    "        cols = [str(i) for i in np.arange(features.shape[1])]\n",
    "        # cat_cols = self.encoder.get_feature_names_out(cat_cols)\n",
    "        # cat_cols = [str(i) for i in np.arange(features.shape[1], features.shape[1] + cat_features.argmaxshape[1])]\n",
    "        df = pd.concat([df, pd.DataFrame(features, index = df.index, columns=cols)], axis = 1)\n",
    "        \n",
    "        # in case of using encoder for categorical features\n",
    "        # df = pd.concat([df, pd.DataFrame(features, index = df.index, columns=cols),\n",
    "        #               pd.DataFrame(cat_features, index = df.index, columns = cat_cols)], \n",
    "        #               axis = 1)\n",
    "                \n",
    "        return df"
   ]
  },
  {
   "cell_type": "code",
   "execution_count": 12,
   "metadata": {
    "execution": {
     "iopub.execute_input": "2024-09-07T09:58:23.279538Z",
     "iopub.status.busy": "2024-09-07T09:58:23.278825Z",
     "iopub.status.idle": "2024-09-07T09:58:24.571693Z",
     "shell.execute_reply": "2024-09-07T09:58:24.570225Z",
     "shell.execute_reply.started": "2024-09-07T09:58:23.279488Z"
    }
   },
   "outputs": [],
   "source": [
    "train = converter(train)\n",
    "test = converter(test)\n",
    "\n",
    "solution = converter(solution)"
   ]
  },
  {
   "cell_type": "markdown",
   "metadata": {},
   "source": [
    "The last method (in this solution) to decrease shape of initial dataframes: [UnderSampler](https://imbalanced-learn.org/stable/references/generated/imblearn.under_sampling.RandomUnderSampler.html)"
   ]
  },
  {
   "cell_type": "code",
   "execution_count": 13,
   "metadata": {
    "execution": {
     "iopub.execute_input": "2024-09-07T09:58:24.573687Z",
     "iopub.status.busy": "2024-09-07T09:58:24.573144Z",
     "iopub.status.idle": "2024-09-07T09:58:25.936369Z",
     "shell.execute_reply": "2024-09-07T09:58:25.934750Z",
     "shell.execute_reply.started": "2024-09-07T09:58:24.573637Z"
    }
   },
   "outputs": [],
   "source": [
    "rus = RandomUnderSampler(sampling_strategy=0.6, random_state=42)\n",
    "X_train, y_train = rus.fit_resample(train.drop(['result'], axis=1), train['result'])\n",
    "train = pd.concat([X_train, y_train], axis=1)"
   ]
  },
  {
   "cell_type": "code",
   "execution_count": 14,
   "metadata": {
    "execution": {
     "iopub.execute_input": "2024-09-07T09:58:25.942317Z",
     "iopub.status.busy": "2024-09-07T09:58:25.941906Z",
     "iopub.status.idle": "2024-09-07T09:58:25.949951Z",
     "shell.execute_reply": "2024-09-07T09:58:25.948737Z",
     "shell.execute_reply.started": "2024-09-07T09:58:25.942280Z"
    }
   },
   "outputs": [
    {
     "data": {
      "text/plain": [
       "(397746, 50)"
      ]
     },
     "execution_count": 14,
     "metadata": {},
     "output_type": "execute_result"
    }
   ],
   "source": [
    "train.shape"
   ]
  },
  {
   "cell_type": "code",
   "execution_count": 15,
   "metadata": {
    "execution": {
     "iopub.execute_input": "2024-09-07T09:58:25.951861Z",
     "iopub.status.busy": "2024-09-07T09:58:25.951461Z",
     "iopub.status.idle": "2024-09-07T09:58:26.949205Z",
     "shell.execute_reply": "2024-09-07T09:58:26.948075Z",
     "shell.execute_reply.started": "2024-09-07T09:58:25.951813Z"
    }
   },
   "outputs": [],
   "source": [
    "transformer = Transformer(n_components=0.98)\n",
    "transformer.fit(train)\n",
    "transformed_train = transformer.transform(train)"
   ]
  },
  {
   "cell_type": "code",
   "execution_count": 16,
   "metadata": {
    "execution": {
     "iopub.execute_input": "2024-09-07T09:58:26.950851Z",
     "iopub.status.busy": "2024-09-07T09:58:26.950479Z",
     "iopub.status.idle": "2024-09-07T09:58:27.316146Z",
     "shell.execute_reply": "2024-09-07T09:58:27.314811Z",
     "shell.execute_reply.started": "2024-09-07T09:58:26.950810Z"
    }
   },
   "outputs": [],
   "source": [
    "transformed_test = transformer.transform(test)"
   ]
  },
  {
   "cell_type": "code",
   "execution_count": 17,
   "metadata": {
    "execution": {
     "iopub.execute_input": "2024-09-07T09:58:27.317787Z",
     "iopub.status.busy": "2024-09-07T09:58:27.317415Z",
     "iopub.status.idle": "2024-09-07T09:58:27.390975Z",
     "shell.execute_reply": "2024-09-07T09:58:27.389713Z",
     "shell.execute_reply.started": "2024-09-07T09:58:27.317735Z"
    }
   },
   "outputs": [],
   "source": [
    "X_train = transformed_train.drop(['result'], axis=1)\n",
    "y_train = transformed_train['result']\n",
    "\n",
    "X_test = transformed_test.drop(['result'], axis=1)\n",
    "y_test = transformed_test['result']"
   ]
  },
  {
   "cell_type": "code",
   "execution_count": 18,
   "metadata": {
    "execution": {
     "iopub.execute_input": "2024-09-07T09:58:27.392970Z",
     "iopub.status.busy": "2024-09-07T09:58:27.392566Z",
     "iopub.status.idle": "2024-09-07T09:58:27.398399Z",
     "shell.execute_reply": "2024-09-07T09:58:27.396892Z",
     "shell.execute_reply.started": "2024-09-07T09:58:27.392927Z"
    }
   },
   "outputs": [],
   "source": [
    "cat_features = ['rsi_sig', 'stoch_sig', 'ichi_sig', 'fibo_sig', 'boll_sig', 'exch', 'double_sig', 'sp500_movement', 'vwap_short_signal', 'vwap_long_signal']\n",
    "#num_features = [i for i in train.columns if (i not in cat_features) & (i != 'result')]\n",
    "\n",
    "target = 'result'"
   ]
  },
  {
   "cell_type": "markdown",
   "metadata": {},
   "source": [
    "# Boostings"
   ]
  },
  {
   "cell_type": "markdown",
   "metadata": {},
   "source": [
    "## CatBoost baseline\n",
    "\n",
    "I use it to perform further **feature selection**"
   ]
  },
  {
   "cell_type": "code",
   "execution_count": 19,
   "metadata": {
    "execution": {
     "iopub.execute_input": "2024-09-07T09:58:27.400314Z",
     "iopub.status.busy": "2024-09-07T09:58:27.399909Z",
     "iopub.status.idle": "2024-09-07T09:59:35.162191Z",
     "shell.execute_reply": "2024-09-07T09:59:35.160681Z",
     "shell.execute_reply.started": "2024-09-07T09:58:27.400275Z"
    }
   },
   "outputs": [
    {
     "name": "stdout",
     "output_type": "stream",
     "text": [
      "Learning rate set to 0.138999\n",
      "0:\tlearn: 0.8316357\ttest: 0.9038114\tbest: 0.9038114 (0)\ttotal: 688ms\tremaining: 11m 27s\n",
      "Stopped by overfitting detector  (100 iterations wait)\n",
      "\n",
      "bestTest = 0.9383241303\n",
      "bestIteration = 22\n",
      "\n",
      "Shrink model to first 23 iterations.\n"
     ]
    }
   ],
   "source": [
    "catboost = CatBoostClassifier(random_state=42, \n",
    "                              thread_count=-1, \n",
    "                              cat_features=cat_features,\n",
    "                              eval_metric='F1',\n",
    "                              verbose=200)\n",
    "catboost.fit(X_train, \n",
    "             y_train, \n",
    "             eval_set=(X_test, y_test), \n",
    "             verbose=200, \n",
    "             use_best_model=True, \n",
    "             early_stopping_rounds=100)\n",
    "\n",
    "prediction = catboost.predict(X_test)"
   ]
  },
  {
   "cell_type": "code",
   "execution_count": 20,
   "metadata": {
    "execution": {
     "iopub.execute_input": "2024-09-07T09:59:35.164442Z",
     "iopub.status.busy": "2024-09-07T09:59:35.163767Z",
     "iopub.status.idle": "2024-09-07T09:59:35.310725Z",
     "shell.execute_reply": "2024-09-07T09:59:35.309470Z",
     "shell.execute_reply.started": "2024-09-07T09:59:35.164383Z"
    }
   },
   "outputs": [
    {
     "name": "stdout",
     "output_type": "stream",
     "text": [
      "F1-score: 0.9383241302822176\n"
     ]
    }
   ],
   "source": [
    "# f1-score was main score in SOQ hack\n",
    "print(f'F1-score: {f1_score(y_test, prediction)}')"
   ]
  },
  {
   "cell_type": "markdown",
   "metadata": {},
   "source": [
    "## Tuned CatBoost"
   ]
  },
  {
   "cell_type": "markdown",
   "metadata": {},
   "source": [
    "**Feature selection**"
   ]
  },
  {
   "cell_type": "code",
   "execution_count": 21,
   "metadata": {
    "execution": {
     "iopub.execute_input": "2024-09-07T09:59:35.312481Z",
     "iopub.status.busy": "2024-09-07T09:59:35.312109Z",
     "iopub.status.idle": "2024-09-07T09:59:35.318409Z",
     "shell.execute_reply": "2024-09-07T09:59:35.316956Z",
     "shell.execute_reply.started": "2024-09-07T09:59:35.312442Z"
    }
   },
   "outputs": [],
   "source": [
    "# Final amount of features may be less! \n",
    "n_features=15"
   ]
  },
  {
   "cell_type": "code",
   "execution_count": 22,
   "metadata": {
    "execution": {
     "iopub.execute_input": "2024-09-07T09:59:35.320626Z",
     "iopub.status.busy": "2024-09-07T09:59:35.320117Z",
     "iopub.status.idle": "2024-09-07T09:59:35.339548Z",
     "shell.execute_reply": "2024-09-07T09:59:35.338246Z",
     "shell.execute_reply.started": "2024-09-07T09:59:35.320570Z"
    }
   },
   "outputs": [],
   "source": [
    "# feature importance from CatBoost\n",
    "\n",
    "feature_importance_df = catboost.get_feature_importance(prettified=True)\n",
    "best_features_1 = feature_importance_df[:n_features]['Feature Id'].values.tolist()"
   ]
  },
  {
   "cell_type": "code",
   "execution_count": 23,
   "metadata": {
    "execution": {
     "iopub.execute_input": "2024-09-07T09:59:35.341744Z",
     "iopub.status.busy": "2024-09-07T09:59:35.341237Z",
     "iopub.status.idle": "2024-09-07T10:03:36.804906Z",
     "shell.execute_reply": "2024-09-07T10:03:36.803386Z",
     "shell.execute_reply.started": "2024-09-07T09:59:35.341670Z"
    }
   },
   "outputs": [
    {
     "data": {
      "image/png": "[encoded data removed]",
      "text/plain": [
       "<Figure size 1200x600 with 1 Axes>"
      ]
     },
     "metadata": {},
     "output_type": "display_data"
    }
   ],
   "source": [
    "# permutation importance\n",
    "\n",
    "perm_importance = permutation_importance(catboost, X_train, y_train, n_repeats=10, random_state=42)\n",
    "sorted_idx = perm_importance.importances_mean.argsort()[-n_features:]\n",
    "best_features_2 = X_train.columns[sorted_idx][-n_features:].values\n",
    "fig = plt.figure(figsize=(12, 6))\n",
    "plt.barh(range(len(sorted_idx)), perm_importance.importances_mean[sorted_idx], align='center')\n",
    "plt.yticks(range(len(sorted_idx)), np.array(X_train.columns)[sorted_idx])\n",
    "plt.title('Permutation Importance');"
   ]
  },
  {
   "cell_type": "code",
   "execution_count": 24,
   "metadata": {
    "execution": {
     "iopub.execute_input": "2024-09-07T10:03:36.808495Z",
     "iopub.status.busy": "2024-09-07T10:03:36.806710Z",
     "iopub.status.idle": "2024-09-07T10:03:36.817720Z",
     "shell.execute_reply": "2024-09-07T10:03:36.816371Z",
     "shell.execute_reply.started": "2024-09-07T10:03:36.808431Z"
    }
   },
   "outputs": [
    {
     "data": {
      "text/plain": [
       "['fibo_sig',\n",
       " 'double_sig',\n",
       " '0',\n",
       " '1',\n",
       " '2',\n",
       " '3',\n",
       " '4',\n",
       " '5',\n",
       " '7',\n",
       " '8',\n",
       " '9',\n",
       " '10',\n",
       " '12',\n",
       " '16',\n",
       " '17']"
      ]
     },
     "execution_count": 24,
     "metadata": {},
     "output_type": "execute_result"
    }
   ],
   "source": [
    "# let's see final list of best features:\n",
    "best_features = [i for i in X_train.columns if (i in best_features_1) & (i in best_features_2)]\n",
    "best_features"
   ]
  },
  {
   "cell_type": "code",
   "execution_count": 25,
   "metadata": {
    "execution": {
     "iopub.execute_input": "2024-09-07T10:03:36.819817Z",
     "iopub.status.busy": "2024-09-07T10:03:36.819365Z",
     "iopub.status.idle": "2024-09-07T10:03:36.837842Z",
     "shell.execute_reply": "2024-09-07T10:03:36.836116Z",
     "shell.execute_reply.started": "2024-09-07T10:03:36.819752Z"
    }
   },
   "outputs": [],
   "source": [
    "best_cat_features = [i for i in cat_features if i in best_features]"
   ]
  },
  {
   "cell_type": "markdown",
   "metadata": {},
   "source": [
    "### Tuning using optuna"
   ]
  },
  {
   "cell_type": "code",
   "execution_count": 26,
   "metadata": {
    "execution": {
     "iopub.execute_input": "2024-09-07T10:03:36.839960Z",
     "iopub.status.busy": "2024-09-07T10:03:36.839559Z",
     "iopub.status.idle": "2024-09-07T10:03:36.856748Z",
     "shell.execute_reply": "2024-09-07T10:03:36.855422Z",
     "shell.execute_reply.started": "2024-09-07T10:03:36.839920Z"
    }
   },
   "outputs": [],
   "source": [
    "def objective(trial):\n",
    "    params = {\n",
    "        'iterations': trial.suggest_int('iterations', 100, 1000),\n",
    "        'learning_rate': trial.suggest_loguniform('learning_rate', 1e-5, 1e-1),\n",
    "        'depth': trial.suggest_int('depth', 4, 10),\n",
    "        'l2_leaf_reg': trial.suggest_loguniform('l2_leaf_reg', 1e-5, 10),\n",
    "        'bagging_temperature': trial.suggest_uniform('bagging_temperature', 0, 1),\n",
    "        'random_strength': trial.suggest_uniform('random_strength', 0, 10),\n",
    "        'border_count': trial.suggest_int('border_count', 1, 255),\n",
    "        'min_data_in_leaf': trial.suggest_int('min_data_in_leaf', 1, 100),\n",
    "        'one_hot_max_size': trial.suggest_int('one_hot_max_size', 2, 100),\n",
    "        'rsm': trial.suggest_uniform('rsm', 0.5, 1.0),\n",
    "        'verbose': False,\n",
    "        'eval_metric': 'F1'\n",
    "    }\n",
    "        \n",
    "    catboost = CatBoostClassifier(**params, cat_features=best_cat_features)\n",
    "    \n",
    "    catboost.fit(X_train[best_features], y_train, verbose=False)\n",
    "    prediction = catboost.predict(X_test[best_features])\n",
    "    \n",
    "    return f1_score(y_test, prediction)"
   ]
  },
  {
   "cell_type": "code",
   "execution_count": 27,
   "metadata": {
    "collapsed": true,
    "execution": {
     "iopub.execute_input": "2024-09-07T10:03:36.858936Z",
     "iopub.status.busy": "2024-09-07T10:03:36.858500Z",
     "iopub.status.idle": "2024-09-07T10:45:24.188370Z",
     "shell.execute_reply": "2024-09-07T10:45:24.187070Z",
     "shell.execute_reply.started": "2024-09-07T10:03:36.858894Z"
    },
    "jupyter": {
     "outputs_hidden": true
    }
   },
   "outputs": [
    {
     "name": "stderr",
     "output_type": "stream",
     "text": [
      "[I 2024-09-07 10:03:36,869] A new study created in memory with name: no-name-a718ad13-4392-464e-b83e-8dcc1a8186b1\n"
     ]
    },
    {
     "data": {
      "application/vnd.jupyter.widget-view+json": {
       "model_id": "93972d004dc84a80abe5a4f74392f87a",
       "version_major": 2,
       "version_minor": 0
      },
      "text/plain": [
       "  0%|          | 0/50 [00:00<?, ?it/s]"
      ]
     },
     "metadata": {},
     "output_type": "display_data"
    },
    {
     "name": "stdout",
     "output_type": "stream",
     "text": [
      "[I 2024-09-07 10:03:45,371] Trial 0 finished with value: 0.9387442186546425 and parameters: {'iterations': 139, 'learning_rate': 0.028715182729287723, 'depth': 6, 'l2_leaf_reg': 0.0019286143297896716, 'bagging_temperature': 0.20856673649802382, 'random_strength': 9.640731776774176, 'border_count': 220, 'min_data_in_leaf': 33, 'one_hot_max_size': 76, 'rsm': 0.7646930438639662}. Best is trial 0 with value: 0.9387442186546425.\n",
      "[I 2024-09-07 10:04:30,201] Trial 1 finished with value: 0.9230800246627767 and parameters: {'iterations': 785, 'learning_rate': 0.00013704818970128264, 'depth': 4, 'l2_leaf_reg': 1.1833761411086563e-05, 'bagging_temperature': 0.7487993904550556, 'random_strength': 8.478854683686114, 'border_count': 108, 'min_data_in_leaf': 56, 'one_hot_max_size': 4, 'rsm': 0.7389594401752454}. Best is trial 0 with value: 0.9387442186546425.\n",
      "[I 2024-09-07 10:05:22,206] Trial 2 finished with value: 0.9330827294990275 and parameters: {'iterations': 596, 'learning_rate': 6.877800782591739e-05, 'depth': 8, 'l2_leaf_reg': 1.7425924070236373e-05, 'bagging_temperature': 0.21495715151606098, 'random_strength': 9.234256739348096, 'border_count': 84, 'min_data_in_leaf': 90, 'one_hot_max_size': 11, 'rsm': 0.9393748968588244}. Best is trial 0 with value: 0.9387442186546425.\n",
      "[I 2024-09-07 10:06:18,392] Trial 3 finished with value: 0.9305113417787013 and parameters: {'iterations': 692, 'learning_rate': 8.805862168797878e-05, 'depth': 7, 'l2_leaf_reg': 0.005209853972837734, 'bagging_temperature': 0.33945107756932313, 'random_strength': 8.577536248862877, 'border_count': 146, 'min_data_in_leaf': 68, 'one_hot_max_size': 40, 'rsm': 0.8391658821332788}. Best is trial 0 with value: 0.9387442186546425.\n",
      "[I 2024-09-07 10:06:28,193] Trial 4 finished with value: 0.9213643055506257 and parameters: {'iterations': 195, 'learning_rate': 0.001388537801078932, 'depth': 5, 'l2_leaf_reg': 0.027009127655752224, 'bagging_temperature': 0.3839872852126114, 'random_strength': 2.4342812748956555, 'border_count': 105, 'min_data_in_leaf': 80, 'one_hot_max_size': 38, 'rsm': 0.68043319113155}. Best is trial 0 with value: 0.9387442186546425.\n",
      "[I 2024-09-07 10:06:55,651] Trial 5 finished with value: 0.9268051267152673 and parameters: {'iterations': 400, 'learning_rate': 0.0006448775387622444, 'depth': 6, 'l2_leaf_reg': 0.842191802401033, 'bagging_temperature': 0.7656431953247617, 'random_strength': 3.027335535640694, 'border_count': 163, 'min_data_in_leaf': 78, 'one_hot_max_size': 26, 'rsm': 0.9965758288003497}. Best is trial 0 with value: 0.9387442186546425.\n",
      "[I 2024-09-07 10:07:10,774] Trial 6 finished with value: 0.9175687801574537 and parameters: {'iterations': 269, 'learning_rate': 0.001019550221086754, 'depth': 4, 'l2_leaf_reg': 0.0035393220982391184, 'bagging_temperature': 0.8254823508202792, 'random_strength': 0.7234762257950489, 'border_count': 66, 'min_data_in_leaf': 33, 'one_hot_max_size': 62, 'rsm': 0.8247547131022739}. Best is trial 0 with value: 0.9387442186546425.\n",
      "[I 2024-09-07 10:07:41,563] Trial 7 finished with value: 0.9353671331930985 and parameters: {'iterations': 215, 'learning_rate': 0.05708279627622725, 'depth': 5, 'l2_leaf_reg': 0.001111816640918222, 'bagging_temperature': 0.44312135723081614, 'random_strength': 4.393022405561654, 'border_count': 53, 'min_data_in_leaf': 41, 'one_hot_max_size': 2, 'rsm': 0.5139936005711049}. Best is trial 0 with value: 0.9387442186546425.\n",
      "[I 2024-09-07 10:08:24,172] Trial 8 finished with value: 0.9392114536259952 and parameters: {'iterations': 585, 'learning_rate': 0.006554130982249704, 'depth': 6, 'l2_leaf_reg': 0.004794836448078717, 'bagging_temperature': 0.7662676063225429, 'random_strength': 8.954512032096893, 'border_count': 110, 'min_data_in_leaf': 25, 'one_hot_max_size': 19, 'rsm': 0.7130683458483809}. Best is trial 8 with value: 0.9392114536259952.\n",
      "[I 2024-09-07 10:08:49,956] Trial 9 finished with value: 0.9288361987946604 and parameters: {'iterations': 289, 'learning_rate': 6.172321007178385e-05, 'depth': 8, 'l2_leaf_reg': 0.0324665862034425, 'bagging_temperature': 0.23490737810794338, 'random_strength': 0.7369901911095378, 'border_count': 46, 'min_data_in_leaf': 10, 'one_hot_max_size': 35, 'rsm': 0.7183536042489176}. Best is trial 8 with value: 0.9392114536259952.\n",
      "[I 2024-09-07 10:10:39,043] Trial 10 finished with value: 0.9337669866928717 and parameters: {'iterations': 898, 'learning_rate': 0.007717837952204799, 'depth': 10, 'l2_leaf_reg': 8.21463042282712, 'bagging_temperature': 0.5988804973792365, 'random_strength': 6.531203947884061, 'border_count': 10, 'min_data_in_leaf': 5, 'one_hot_max_size': 97, 'rsm': 0.5957961861193841}. Best is trial 8 with value: 0.9392114536259952.\n",
      "[I 2024-09-07 10:11:14,451] Trial 11 finished with value: 0.9309284675474709 and parameters: {'iterations': 475, 'learning_rate': 0.052671416434148965, 'depth': 6, 'l2_leaf_reg': 0.0002753132173989066, 'bagging_temperature': 0.042106095938950205, 'random_strength': 6.802293830727911, 'border_count': 239, 'min_data_in_leaf': 25, 'one_hot_max_size': 70, 'rsm': 0.8310375261900773}. Best is trial 8 with value: 0.9392114536259952.\n",
      "[I 2024-09-07 10:11:59,629] Trial 12 finished with value: 0.9377407863859673 and parameters: {'iterations': 545, 'learning_rate': 0.009352401530355974, 'depth': 7, 'l2_leaf_reg': 0.00029941697427766467, 'bagging_temperature': 0.9646954444421425, 'random_strength': 9.989518258572144, 'border_count': 199, 'min_data_in_leaf': 22, 'one_hot_max_size': 81, 'rsm': 0.6741110685855076}. Best is trial 8 with value: 0.9392114536259952.\n",
      "[I 2024-09-07 10:12:06,479] Trial 13 finished with value: 0.9343846445122829 and parameters: {'iterations': 110, 'learning_rate': 0.008926228457314575, 'depth': 6, 'l2_leaf_reg': 0.0790647536595574, 'bagging_temperature': 0.023310220673834148, 'random_strength': 7.13969723180683, 'border_count': 254, 'min_data_in_leaf': 50, 'one_hot_max_size': 88, 'rsm': 0.6250832286897684}. Best is trial 8 with value: 0.9392114536259952.\n",
      "[I 2024-09-07 10:12:51,961] Trial 14 finished with value: 0.934475953992359 and parameters: {'iterations': 392, 'learning_rate': 1.1246836704959519e-05, 'depth': 9, 'l2_leaf_reg': 0.2332368054730303, 'bagging_temperature': 0.5851100872458848, 'random_strength': 5.630624851216577, 'border_count': 184, 'min_data_in_leaf': 16, 'one_hot_max_size': 55, 'rsm': 0.7878736006262334}. Best is trial 8 with value: 0.9392114536259952.\n"
     ]
    },
    {
     "name": "stderr",
     "output_type": "stream",
     "text": [
      "Training has stopped (degenerate solution on iteration 845, probably too small l2-regularization, try to increase it)\n"
     ]
    },
    {
     "name": "stdout",
     "output_type": "stream",
     "text": [
      "[I 2024-09-07 10:13:46,898] Trial 15 finished with value: 0.9344898347466841 and parameters: {'iterations': 990, 'learning_rate': 0.020045978204489848, 'depth': 5, 'l2_leaf_reg': 0.00016375808766732185, 'bagging_temperature': 0.5900971450984012, 'random_strength': 8.155702284749996, 'border_count': 203, 'min_data_in_leaf': 38, 'one_hot_max_size': 74, 'rsm': 0.9136266117234015}. Best is trial 8 with value: 0.9392114536259952.\n",
      "[I 2024-09-07 10:14:48,883] Trial 16 finished with value: 0.9396905737257857 and parameters: {'iterations': 676, 'learning_rate': 0.00279830568140028, 'depth': 8, 'l2_leaf_reg': 0.0013547542770492524, 'bagging_temperature': 0.9981492107858306, 'random_strength': 9.731743461734327, 'border_count': 129, 'min_data_in_leaf': 55, 'one_hot_max_size': 22, 'rsm': 0.5798939832879897}. Best is trial 16 with value: 0.9396905737257857.\n",
      "[I 2024-09-07 10:15:53,875] Trial 17 finished with value: 0.9392399406628889 and parameters: {'iterations': 712, 'learning_rate': 0.002775423274679226, 'depth': 8, 'l2_leaf_reg': 6.087043455949053e-05, 'bagging_temperature': 0.9769781020506387, 'random_strength': 7.735024762745305, 'border_count': 133, 'min_data_in_leaf': 56, 'one_hot_max_size': 20, 'rsm': 0.5063016418058172}. Best is trial 16 with value: 0.9396905737257857.\n",
      "[I 2024-09-07 10:17:15,452] Trial 18 finished with value: 0.9387440329356693 and parameters: {'iterations': 754, 'learning_rate': 0.0030615698836558456, 'depth': 9, 'l2_leaf_reg': 5.3966681722344664e-05, 'bagging_temperature': 0.9851315929475783, 'random_strength': 7.355791512949823, 'border_count': 141, 'min_data_in_leaf': 62, 'one_hot_max_size': 21, 'rsm': 0.5117297700482969}. Best is trial 16 with value: 0.9396905737257857.\n",
      "[I 2024-09-07 10:18:18,806] Trial 19 finished with value: 0.9342412771698497 and parameters: {'iterations': 684, 'learning_rate': 0.0002604562399585632, 'depth': 8, 'l2_leaf_reg': 0.0007015658426444919, 'bagging_temperature': 0.8872042729870487, 'random_strength': 5.636626505429408, 'border_count': 172, 'min_data_in_leaf': 97, 'one_hot_max_size': 51, 'rsm': 0.5657001289811119}. Best is trial 16 with value: 0.9396905737257857.\n",
      "[I 2024-09-07 10:20:09,805] Trial 20 finished with value: 0.9377096221526411 and parameters: {'iterations': 867, 'learning_rate': 0.0026060024446656936, 'depth': 10, 'l2_leaf_reg': 5.301497695696658e-05, 'bagging_temperature': 0.8758734892980564, 'random_strength': 3.9914264329728333, 'border_count': 131, 'min_data_in_leaf': 51, 'one_hot_max_size': 28, 'rsm': 0.5620379135034812}. Best is trial 16 with value: 0.9396905737257857.\n",
      "[I 2024-09-07 10:20:59,790] Trial 21 finished with value: 0.9393753047488032 and parameters: {'iterations': 611, 'learning_rate': 0.0028407753138061796, 'depth': 7, 'l2_leaf_reg': 0.011242260145999206, 'bagging_temperature': 0.7098704024376814, 'random_strength': 7.8254974860967526, 'border_count': 108, 'min_data_in_leaf': 67, 'one_hot_max_size': 18, 'rsm': 0.6421553266585419}. Best is trial 16 with value: 0.9396905737257857.\n",
      "[I 2024-09-07 10:21:54,470] Trial 22 finished with value: 0.9393569543685055 and parameters: {'iterations': 674, 'learning_rate': 0.0027812977628006094, 'depth': 7, 'l2_leaf_reg': 0.019710457865471518, 'bagging_temperature': 0.6683495470074214, 'random_strength': 7.8151967595532765, 'border_count': 85, 'min_data_in_leaf': 73, 'one_hot_max_size': 12, 'rsm': 0.6470173749936454}. Best is trial 16 with value: 0.9396905737257857.\n",
      "[I 2024-09-07 10:22:46,611] Trial 23 finished with value: 0.9320014114563204 and parameters: {'iterations': 640, 'learning_rate': 0.0004509982817404445, 'depth': 7, 'l2_leaf_reg': 0.016967146506253538, 'bagging_temperature': 0.6717324907558377, 'random_strength': 6.348489599070973, 'border_count': 79, 'min_data_in_leaf': 71, 'one_hot_max_size': 12, 'rsm': 0.6531913963489931}. Best is trial 16 with value: 0.9396905737257857.\n",
      "[I 2024-09-07 10:23:52,184] Trial 24 finished with value: 0.9392976165966158 and parameters: {'iterations': 818, 'learning_rate': 0.0017282072084855774, 'depth': 7, 'l2_leaf_reg': 0.14713928694064485, 'bagging_temperature': 0.6531507778290782, 'random_strength': 8.102601947062789, 'border_count': 34, 'min_data_in_leaf': 83, 'one_hot_max_size': 12, 'rsm': 0.619547992436195}. Best is trial 16 with value: 0.9396905737257857.\n",
      "[I 2024-09-07 10:24:46,540] Trial 25 finished with value: 0.9387387508711447 and parameters: {'iterations': 512, 'learning_rate': 0.004402007233994867, 'depth': 9, 'l2_leaf_reg': 0.6184225448984322, 'bagging_temperature': 0.5173506618180349, 'random_strength': 9.351707421802283, 'border_count': 89, 'min_data_in_leaf': 69, 'one_hot_max_size': 48, 'rsm': 0.5606720284967861}. Best is trial 16 with value: 0.9396905737257857.\n",
      "[I 2024-09-07 10:25:45,805] Trial 26 finished with value: 0.9361714246465648 and parameters: {'iterations': 642, 'learning_rate': 0.0005356748065010217, 'depth': 8, 'l2_leaf_reg': 0.010354308535160915, 'bagging_temperature': 0.8716932694336446, 'random_strength': 9.919033165603873, 'border_count': 114, 'min_data_in_leaf': 61, 'one_hot_max_size': 30, 'rsm': 0.64258041370314}. Best is trial 16 with value: 0.9396905737257857.\n",
      "[I 2024-09-07 10:26:38,525] Trial 27 finished with value: 0.9322087071573012 and parameters: {'iterations': 472, 'learning_rate': 0.02140632289921961, 'depth': 9, 'l2_leaf_reg': 0.04906225180684643, 'bagging_temperature': 0.7001598641208686, 'random_strength': 6.015379107127333, 'border_count': 159, 'min_data_in_leaf': 88, 'one_hot_max_size': 43, 'rsm': 0.5820751625388453}. Best is trial 16 with value: 0.9396905737257857.\n",
      "[I 2024-09-07 10:27:11,097] Trial 28 finished with value: 0.9373631645809121 and parameters: {'iterations': 394, 'learning_rate': 0.013653746927537317, 'depth': 7, 'l2_leaf_reg': 0.00938021654702606, 'bagging_temperature': 0.7945205697719113, 'random_strength': 7.495551407961823, 'border_count': 26, 'min_data_in_leaf': 74, 'one_hot_max_size': 11, 'rsm': 0.6806326521260722}. Best is trial 16 with value: 0.9396905737257857.\n",
      "[I 2024-09-07 10:28:20,471] Trial 29 finished with value: 0.9380515811292486 and parameters: {'iterations': 755, 'learning_rate': 0.001608921505563966, 'depth': 8, 'l2_leaf_reg': 0.001788330867206778, 'bagging_temperature': 0.5120711726868836, 'random_strength': 4.966395285067089, 'border_count': 76, 'min_data_in_leaf': 44, 'one_hot_max_size': 19, 'rsm': 0.7626959912775428}. Best is trial 16 with value: 0.9396905737257857.\n",
      "[I 2024-09-07 10:29:28,559] Trial 30 finished with value: 0.9390955598958991 and parameters: {'iterations': 848, 'learning_rate': 0.004056977615577155, 'depth': 7, 'l2_leaf_reg': 0.000522131899496654, 'bagging_temperature': 0.6996733149805037, 'random_strength': 9.359199157311243, 'border_count': 98, 'min_data_in_leaf': 63, 'one_hot_max_size': 6, 'rsm': 0.6059584193290928}. Best is trial 16 with value: 0.9396905737257857.\n",
      "[I 2024-09-07 10:30:34,504] Trial 31 finished with value: 0.9393464940997591 and parameters: {'iterations': 817, 'learning_rate': 0.001874048433989529, 'depth': 7, 'l2_leaf_reg': 0.20302620008819888, 'bagging_temperature': 0.6424078621675609, 'random_strength': 8.072111805906998, 'border_count': 35, 'min_data_in_leaf': 82, 'one_hot_max_size': 14, 'rsm': 0.6289899068548092}. Best is trial 16 with value: 0.9396905737257857.\n",
      "[I 2024-09-07 10:31:49,278] Trial 32 finished with value: 0.9366981884851961 and parameters: {'iterations': 949, 'learning_rate': 0.0007656934799194755, 'depth': 7, 'l2_leaf_reg': 0.541869754206497, 'bagging_temperature': 0.6254145264503592, 'random_strength': 8.846991572279611, 'border_count': 6, 'min_data_in_leaf': 96, 'one_hot_max_size': 25, 'rsm': 0.5437394339547409}. Best is trial 16 with value: 0.9396905737257857.\n",
      "[I 2024-09-07 10:32:53,874] Trial 33 finished with value: 0.9322313938684349 and parameters: {'iterations': 795, 'learning_rate': 0.0001925982462621345, 'depth': 7, 'l2_leaf_reg': 1.9058362307825043, 'bagging_temperature': 0.5237702154493289, 'random_strength': 8.092069933139431, 'border_count': 123, 'min_data_in_leaf': 85, 'one_hot_max_size': 33, 'rsm': 0.7133857028348703}. Best is trial 16 with value: 0.9396905737257857.\n",
      "[I 2024-09-07 10:33:38,675] Trial 34 finished with value: 0.939778321403763 and parameters: {'iterations': 624, 'learning_rate': 0.005062000535400838, 'depth': 6, 'l2_leaf_reg': 0.08991557288940624, 'bagging_temperature': 0.7041646732278436, 'random_strength': 8.44757364849236, 'border_count': 55, 'min_data_in_leaf': 73, 'one_hot_max_size': 6, 'rsm': 0.6484937005723389}. Best is trial 34 with value: 0.939778321403763.\n",
      "[I 2024-09-07 10:34:23,845] Trial 35 finished with value: 0.9395410962811818 and parameters: {'iterations': 622, 'learning_rate': 0.004815879238440716, 'depth': 6, 'l2_leaf_reg': 0.0022192107461774806, 'bagging_temperature': 0.712001622141912, 'random_strength': 8.618854405279471, 'border_count': 93, 'min_data_in_leaf': 55, 'one_hot_max_size': 6, 'rsm': 0.6672410378933676}. Best is trial 34 with value: 0.939778321403763.\n",
      "[I 2024-09-07 10:35:03,648] Trial 36 finished with value: 0.9341793765901577 and parameters: {'iterations': 609, 'learning_rate': 0.03783931288424778, 'depth': 5, 'l2_leaf_reg': 0.002254274886929049, 'bagging_temperature': 0.8240742398488046, 'random_strength': 8.576953073502604, 'border_count': 54, 'min_data_in_leaf': 52, 'one_hot_max_size': 6, 'rsm': 0.6841168958289701}. Best is trial 34 with value: 0.939778321403763.\n",
      "[I 2024-09-07 10:35:44,219] Trial 37 finished with value: 0.9399655450640033 and parameters: {'iterations': 560, 'learning_rate': 0.00570046202966834, 'depth': 6, 'l2_leaf_reg': 0.006361605390701905, 'bagging_temperature': 0.43471964630532567, 'random_strength': 9.583068267306428, 'border_count': 66, 'min_data_in_leaf': 65, 'one_hot_max_size': 6, 'rsm': 0.7413645986823539}. Best is trial 37 with value: 0.9399655450640033.\n",
      "[I 2024-09-07 10:36:15,710] Trial 38 finished with value: 0.9392465003205812 and parameters: {'iterations': 541, 'learning_rate': 0.005328755652228676, 'depth': 4, 'l2_leaf_reg': 0.00286302906234022, 'bagging_temperature': 0.32217730676509265, 'random_strength': 9.188911775760578, 'border_count': 66, 'min_data_in_leaf': 46, 'one_hot_max_size': 3, 'rsm': 0.795127460879525}. Best is trial 37 with value: 0.9399655450640033.\n",
      "[I 2024-09-07 10:36:44,912] Trial 39 finished with value: 0.9378510679212055 and parameters: {'iterations': 443, 'learning_rate': 0.016568626435525747, 'depth': 5, 'l2_leaf_reg': 0.0009431777276059595, 'bagging_temperature': 0.4479023412329388, 'random_strength': 9.612093660178566, 'border_count': 65, 'min_data_in_leaf': 57, 'one_hot_max_size': 6, 'rsm': 0.7345493982282238}. Best is trial 37 with value: 0.9399655450640033.\n",
      "[I 2024-09-07 10:38:56,692] Trial 40 finished with value: 0.9347965090003381 and parameters: {'iterations': 732, 'learning_rate': 0.00112766761230266, 'depth': 6, 'l2_leaf_reg': 0.004924334557274828, 'bagging_temperature': 0.31681482053676563, 'random_strength': 8.695267205216917, 'border_count': 97, 'min_data_in_leaf': 76, 'one_hot_max_size': 2, 'rsm': 0.7437287770200148}. Best is trial 37 with value: 0.9399655450640033.\n",
      "[I 2024-09-07 10:39:40,202] Trial 41 finished with value: 0.9221387120556797 and parameters: {'iterations': 598, 'learning_rate': 0.09492181223380873, 'depth': 6, 'l2_leaf_reg': 0.00791893475817569, 'bagging_temperature': 0.40554889521798776, 'random_strength': 9.510780555991527, 'border_count': 115, 'min_data_in_leaf': 66, 'one_hot_max_size': 16, 'rsm': 0.6645514741561929}. Best is trial 37 with value: 0.9399655450640033.\n",
      "[I 2024-09-07 10:40:27,317] Trial 42 finished with value: 0.93693876447041 and parameters: {'iterations': 635, 'learning_rate': 0.011199370734155096, 'depth': 6, 'l2_leaf_reg': 0.0015673597941534287, 'bagging_temperature': 0.7505738994459976, 'random_strength': 8.846926932353146, 'border_count': 150, 'min_data_in_leaf': 59, 'one_hot_max_size': 24, 'rsm': 0.7001915233966629}. Best is trial 37 with value: 0.9399655450640033.\n",
      "[I 2024-09-07 10:41:08,346] Trial 43 finished with value: 0.9397379648807146 and parameters: {'iterations': 566, 'learning_rate': 0.005632360614169333, 'depth': 6, 'l2_leaf_reg': 0.08852742606987421, 'bagging_temperature': 0.5608197938354458, 'random_strength': 8.479725198655071, 'border_count': 100, 'min_data_in_leaf': 54, 'one_hot_max_size': 8, 'rsm': 0.88452405515304}. Best is trial 37 with value: 0.9399655450640033.\n",
      "[I 2024-09-07 10:41:44,938] Trial 44 finished with value: 0.9393796929359141 and parameters: {'iterations': 567, 'learning_rate': 0.006534067909370706, 'depth': 5, 'l2_leaf_reg': 0.05998610572480943, 'bagging_temperature': 0.5538432816009947, 'random_strength': 1.3476823141183942, 'border_count': 53, 'min_data_in_leaf': 37, 'one_hot_max_size': 9, 'rsm': 0.8715326561319371}. Best is trial 37 with value: 0.9399655450640033.\n",
      "[I 2024-09-07 10:42:20,645] Trial 45 finished with value: 0.9398850183960518 and parameters: {'iterations': 509, 'learning_rate': 0.004699419392225363, 'depth': 6, 'l2_leaf_reg': 0.03348399655884236, 'bagging_temperature': 0.4647634452500489, 'random_strength': 9.960990988808925, 'border_count': 73, 'min_data_in_leaf': 54, 'one_hot_max_size': 7, 'rsm': 0.9664156874863543}. Best is trial 37 with value: 0.9399655450640033.\n",
      "[I 2024-09-07 10:42:52,068] Trial 46 finished with value: 0.9341276271914849 and parameters: {'iterations': 496, 'learning_rate': 0.030266072174837164, 'depth': 5, 'l2_leaf_reg': 0.11292017287657738, 'bagging_temperature': 0.4500834417171363, 'random_strength': 9.972378333600979, 'border_count': 69, 'min_data_in_leaf': 47, 'one_hot_max_size': 9, 'rsm': 0.9929431934775972}. Best is trial 37 with value: 0.9399655450640033.\n",
      "[I 2024-09-07 10:43:22,896] Trial 47 finished with value: 0.938754773480477 and parameters: {'iterations': 434, 'learning_rate': 0.009268713195921813, 'depth': 6, 'l2_leaf_reg': 0.041340985722470525, 'bagging_temperature': 0.27126020029773235, 'random_strength': 9.08099352433919, 'border_count': 42, 'min_data_in_leaf': 65, 'one_hot_max_size': 15, 'rsm': 0.9746670706882271}. Best is trial 37 with value: 0.9399655450640033.\n",
      "[I 2024-09-07 10:43:41,519] Trial 48 finished with value: 0.9256887620043293 and parameters: {'iterations': 317, 'learning_rate': 0.0009105377557859525, 'depth': 4, 'l2_leaf_reg': 0.2995422532921644, 'bagging_temperature': 0.1206829141301643, 'random_strength': 9.586652436063194, 'border_count': 17, 'min_data_in_leaf': 33, 'one_hot_max_size': 24, 'rsm': 0.9175957742132654}. Best is trial 37 with value: 0.9399655450640033.\n",
      "[I 2024-09-07 10:45:24,165] Trial 49 finished with value: 0.9394402138214537 and parameters: {'iterations': 559, 'learning_rate': 0.0060992739690248435, 'depth': 6, 'l2_leaf_reg': 0.029710579404466107, 'bagging_temperature': 0.3803545215294225, 'random_strength': 6.966100517844936, 'border_count': 56, 'min_data_in_leaf': 41, 'one_hot_max_size': 2, 'rsm': 0.8648353250425925}. Best is trial 37 with value: 0.9399655450640033.\n"
     ]
    }
   ],
   "source": [
    "study = optuna.create_study(direction='maximize')\n",
    "study.optimize(objective, n_trials=50, show_progress_bar=True)\n",
    "\n",
    "df = study.trials_dataframe()"
   ]
  },
  {
   "cell_type": "code",
   "execution_count": 28,
   "metadata": {
    "execution": {
     "iopub.execute_input": "2024-09-07T10:45:24.190172Z",
     "iopub.status.busy": "2024-09-07T10:45:24.189787Z",
     "iopub.status.idle": "2024-09-07T10:45:24.199237Z",
     "shell.execute_reply": "2024-09-07T10:45:24.197984Z",
     "shell.execute_reply.started": "2024-09-07T10:45:24.190129Z"
    }
   },
   "outputs": [
    {
     "data": {
      "text/plain": [
       "{'iterations': 560,\n",
       " 'learning_rate': 0.00570046202966834,\n",
       " 'depth': 6,\n",
       " 'l2_leaf_reg': 0.006361605390701905,\n",
       " 'bagging_temperature': 0.43471964630532567,\n",
       " 'random_strength': 9.583068267306428,\n",
       " 'border_count': 66,\n",
       " 'min_data_in_leaf': 65,\n",
       " 'one_hot_max_size': 6,\n",
       " 'rsm': 0.7413645986823539}"
      ]
     },
     "execution_count": 28,
     "metadata": {},
     "output_type": "execute_result"
    }
   ],
   "source": [
    "study.best_params"
   ]
  },
  {
   "cell_type": "code",
   "execution_count": 29,
   "metadata": {
    "execution": {
     "iopub.execute_input": "2024-09-07T10:45:24.201806Z",
     "iopub.status.busy": "2024-09-07T10:45:24.200954Z",
     "iopub.status.idle": "2024-09-07T10:45:48.554327Z",
     "shell.execute_reply": "2024-09-07T10:45:48.553123Z",
     "shell.execute_reply.started": "2024-09-07T10:45:24.201726Z"
    }
   },
   "outputs": [
    {
     "data": {
      "text/plain": [
       "<catboost.core.CatBoostClassifier at 0x7d7141e93f70>"
      ]
     },
     "execution_count": 29,
     "metadata": {},
     "output_type": "execute_result"
    }
   ],
   "source": [
    "# here it's important to change opt dict due to other best params. maybe now \n",
    "# (n_trails = 50)\n",
    "params = {'iterations': 560,\n",
    " 'learning_rate': 0.00570046202966834,\n",
    " 'depth': 6,\n",
    " 'l2_leaf_reg': 0.006361605390701905,\n",
    " 'bagging_temperature': 0.43471964630532567,\n",
    " 'random_strength': 9.583068267306428,\n",
    " 'border_count': 66,\n",
    " 'min_data_in_leaf': 65,\n",
    " 'one_hot_max_size': 6,\n",
    " 'rsm': 0.7413645986823539}\n",
    "\n",
    "cat_model = CatBoostClassifier(**params, cat_features=cat_features)\n",
    "cat_model.fit(X_train, y_train, verbose=False)"
   ]
  },
  {
   "cell_type": "code",
   "execution_count": 30,
   "metadata": {
    "execution": {
     "iopub.execute_input": "2024-09-07T10:45:48.556083Z",
     "iopub.status.busy": "2024-09-07T10:45:48.555690Z",
     "iopub.status.idle": "2024-09-07T10:45:49.355314Z",
     "shell.execute_reply": "2024-09-07T10:45:49.354233Z",
     "shell.execute_reply.started": "2024-09-07T10:45:48.556042Z"
    }
   },
   "outputs": [],
   "source": [
    "cat_prediction = cat_model.predict_proba(X_test)"
   ]
  },
  {
   "cell_type": "code",
   "execution_count": 31,
   "metadata": {
    "execution": {
     "iopub.execute_input": "2024-09-07T10:45:49.357121Z",
     "iopub.status.busy": "2024-09-07T10:45:49.356707Z",
     "iopub.status.idle": "2024-09-07T10:45:49.365883Z",
     "shell.execute_reply": "2024-09-07T10:45:49.364259Z",
     "shell.execute_reply.started": "2024-09-07T10:45:49.357081Z"
    }
   },
   "outputs": [
    {
     "data": {
      "text/plain": [
       "array([0.88749352, 0.69047893, 0.84441446, ..., 0.36583244, 0.84177741,\n",
       "       0.81440451])"
      ]
     },
     "execution_count": 31,
     "metadata": {},
     "output_type": "execute_result"
    }
   ],
   "source": [
    "# probability of class \"1\"\n",
    "cat_prediction = cat_prediction[:, 1]\n",
    "cat_prediction"
   ]
  },
  {
   "cell_type": "markdown",
   "metadata": {},
   "source": [
    "That was learning & prediction in validation dataset. Now let's predict based on new data without target. I do the same"
   ]
  },
  {
   "cell_type": "code",
   "execution_count": 32,
   "metadata": {
    "execution": {
     "iopub.execute_input": "2024-09-07T10:45:49.368484Z",
     "iopub.status.busy": "2024-09-07T10:45:49.367746Z",
     "iopub.status.idle": "2024-09-07T10:45:49.437247Z",
     "shell.execute_reply": "2024-09-07T10:45:49.435861Z",
     "shell.execute_reply.started": "2024-09-07T10:45:49.368388Z"
    }
   },
   "outputs": [],
   "source": [
    "df_final = pd.concat([train, test], axis = 0, ignore_index = True)"
   ]
  },
  {
   "cell_type": "code",
   "execution_count": 33,
   "metadata": {
    "execution": {
     "iopub.execute_input": "2024-09-07T10:45:49.439074Z",
     "iopub.status.busy": "2024-09-07T10:45:49.438665Z",
     "iopub.status.idle": "2024-09-07T10:45:49.636819Z",
     "shell.execute_reply": "2024-09-07T10:45:49.635400Z",
     "shell.execute_reply.started": "2024-09-07T10:45:49.439032Z"
    }
   },
   "outputs": [],
   "source": [
    "X = df_final.drop(['result'], axis=1)\n",
    "y = df_final['result']"
   ]
  },
  {
   "cell_type": "code",
   "execution_count": 34,
   "metadata": {
    "execution": {
     "iopub.execute_input": "2024-09-07T10:45:49.638816Z",
     "iopub.status.busy": "2024-09-07T10:45:49.638419Z",
     "iopub.status.idle": "2024-09-07T10:47:01.029197Z",
     "shell.execute_reply": "2024-09-07T10:47:01.027986Z",
     "shell.execute_reply.started": "2024-09-07T10:45:49.638762Z"
    }
   },
   "outputs": [
    {
     "data": {
      "text/plain": [
       "<catboost.core.CatBoostClassifier at 0x7d713ddcc250>"
      ]
     },
     "execution_count": 34,
     "metadata": {},
     "output_type": "execute_result"
    }
   ],
   "source": [
    "# n_trails = 50\n",
    "params = {'iterations': 560,\n",
    " 'learning_rate': 0.00570046202966834,\n",
    " 'depth': 6,\n",
    " 'l2_leaf_reg': 0.006361605390701905,\n",
    " 'bagging_temperature': 0.43471964630532567,\n",
    " 'random_strength': 9.583068267306428,\n",
    " 'border_count': 66,\n",
    " 'min_data_in_leaf': 65,\n",
    " 'one_hot_max_size': 6,\n",
    " 'rsm': 0.7413645986823539}\n",
    "\n",
    "final_cat_model = CatBoostClassifier(**params, cat_features=cat_features)\n",
    "final_cat_model.fit(X, y, verbose=False)"
   ]
  },
  {
   "cell_type": "code",
   "execution_count": 35,
   "metadata": {
    "execution": {
     "iopub.execute_input": "2024-09-07T10:47:01.031357Z",
     "iopub.status.busy": "2024-09-07T10:47:01.030914Z",
     "iopub.status.idle": "2024-09-07T10:47:01.045840Z",
     "shell.execute_reply": "2024-09-07T10:47:01.042468Z",
     "shell.execute_reply.started": "2024-09-07T10:47:01.031260Z"
    }
   },
   "outputs": [],
   "source": [
    "final_cat_prediction = final_cat_model.predict_proba(solution)"
   ]
  },
  {
   "cell_type": "code",
   "execution_count": 36,
   "metadata": {
    "collapsed": true,
    "execution": {
     "iopub.execute_input": "2024-09-07T10:47:01.048385Z",
     "iopub.status.busy": "2024-09-07T10:47:01.047834Z",
     "iopub.status.idle": "2024-09-07T10:47:01.068496Z",
     "shell.execute_reply": "2024-09-07T10:47:01.067187Z",
     "shell.execute_reply.started": "2024-09-07T10:47:01.048325Z"
    },
    "jupyter": {
     "outputs_hidden": true
    }
   },
   "outputs": [
    {
     "data": {
      "text/plain": [
       "array([0.94465414, 0.64385435, 0.80896708, 0.98261217, 0.31435689,\n",
       "       0.07134033, 0.98112286, 0.90909133, 0.98699516, 0.61309309,\n",
       "       0.95483693, 0.69020601, 0.09410736, 0.95585356, 0.08863325,\n",
       "       0.96521946, 0.56590492, 0.91267315, 0.96768892, 0.9754919 ,\n",
       "       0.74637016, 0.98715392, 0.89800889, 0.52533293, 0.87164742,\n",
       "       0.93779624, 0.12192725, 0.96865658, 0.80472889, 0.10800302,\n",
       "       0.98656553, 0.9815768 , 0.92282756, 0.99357182, 0.93604307,\n",
       "       0.80141694, 0.98509996, 0.96299796, 0.94771112, 0.94409198,\n",
       "       0.44390327, 0.90547866, 0.9829833 , 0.67898511, 0.86461129,\n",
       "       0.95876179, 0.13911524, 0.97725869, 0.88213057, 0.55127023,\n",
       "       0.75346334, 0.92971794, 0.97044691, 0.91545807, 0.98362629,\n",
       "       0.46932972, 0.98430134, 0.96108371, 0.71045528, 0.9819628 ,\n",
       "       0.97953077, 0.93687254, 0.9616954 , 0.97511471, 0.74437401,\n",
       "       0.99060216, 0.98056847, 0.95274844, 0.97460778, 0.94141451,\n",
       "       0.94302305, 0.97746353, 0.98814922, 0.86558792, 0.25000282,\n",
       "       0.935109  , 0.8974002 , 0.29715089, 0.30380431, 0.98294318,\n",
       "       0.36006644, 0.628404  , 0.98929115, 0.98430238, 0.97479059,\n",
       "       0.10487329, 0.9177332 , 0.98851617, 0.98832059, 0.10484617,\n",
       "       0.27316779, 0.8197558 , 0.98304227, 0.98329789, 0.98249349,\n",
       "       0.95027386, 0.98916369, 0.60385531, 0.96641324, 0.56463871,\n",
       "       0.98138922, 0.21651316, 0.89106264, 0.97101711, 0.9757479 ,\n",
       "       0.9873681 , 0.98390873, 0.96703902, 0.90522428, 0.71397539,\n",
       "       0.94753455, 0.70327683, 0.93609045, 0.96856568, 0.91951838,\n",
       "       0.95126979, 0.04494162, 0.77883029, 0.98992222, 0.98518846,\n",
       "       0.90870158, 0.98971054, 0.98222036, 0.85763234, 0.98820741,\n",
       "       0.96449157, 0.87598856, 0.88472185, 0.57203297, 0.94457471,\n",
       "       0.82646339, 0.89194549, 0.97591692, 0.86210397, 0.89186676,\n",
       "       0.8403954 , 0.81633894, 0.97396103, 0.15753192, 0.99229532,\n",
       "       0.62770572, 0.9740408 , 0.98196714, 0.8934521 , 0.96883805,\n",
       "       0.98780623, 0.87251802, 0.98670907, 0.18943646, 0.97492712,\n",
       "       0.95053044, 0.98444072, 0.954998  , 0.98756415, 0.89285457,\n",
       "       0.98140572, 0.96515539, 0.95767181, 0.60187611, 0.89000659,\n",
       "       0.9767545 , 0.6683039 , 0.68644997, 0.9205011 , 0.73401366,\n",
       "       0.3182783 , 0.97283559, 0.79582792, 0.8126953 , 0.57813312,\n",
       "       0.91644583, 0.94189888, 0.06313705, 0.85712773, 0.871107  ,\n",
       "       0.7797148 , 0.92681267, 0.99163048, 0.35239012, 0.76372652,\n",
       "       0.76171659, 0.66051982, 0.95136905, 0.99292822, 0.88495632,\n",
       "       0.93738934, 0.34075436, 0.96320612, 0.7200859 , 0.94407089,\n",
       "       0.94485916, 0.9415812 , 0.98163728, 0.9850309 , 0.99072502,\n",
       "       0.90057765, 0.96621413, 0.96427581, 0.50493201, 0.93424962,\n",
       "       0.91285913, 0.90804302, 0.82712243, 0.97712075, 0.98955391,\n",
       "       0.22912291, 0.49673069, 0.98252918, 0.88018038, 0.95051816,\n",
       "       0.98409231, 0.85403975, 0.97896035, 0.98172931, 0.98826895,\n",
       "       0.98243116, 0.98930186, 0.99045436, 0.92516249, 0.96331286,\n",
       "       0.63975984, 0.22750334, 0.98832291, 0.95807822, 0.21204771,\n",
       "       0.98726999, 0.94347902, 0.89764591, 0.97281693, 0.97731652,\n",
       "       0.95650887, 0.96264734, 0.43156503, 0.38498466, 0.95917001,\n",
       "       0.76992194, 0.97601092, 0.96986943, 0.97212491, 0.98393172,\n",
       "       0.92376899, 0.98627992, 0.80105309, 0.98534706, 0.98881392,\n",
       "       0.98678332, 0.7748832 , 0.87627409, 0.97819245, 0.78148251,\n",
       "       0.34551547, 0.063132  , 0.53113798, 0.95866013, 0.9635252 ,\n",
       "       0.97071167, 0.87613641, 0.88929965, 0.98114318, 0.90508542,\n",
       "       0.05346437, 0.11588015, 0.94522352, 0.97850804, 0.33838551,\n",
       "       0.98444776, 0.68488903, 0.89792328, 0.96979103, 0.98704346,\n",
       "       0.97923485, 0.9829277 , 0.12384413, 0.90461711, 0.98088589,\n",
       "       0.96473881, 0.66890503, 0.96072096, 0.96137182, 0.98694927,\n",
       "       0.98984021, 0.98483358, 0.9828801 , 0.97176492, 0.76301692,\n",
       "       0.97650565, 0.98284506, 0.98106114, 0.98830456, 0.2971169 ,\n",
       "       0.96373075, 0.92016754, 0.97815973, 0.07563618, 0.9403095 ,\n",
       "       0.96844072, 0.98805888, 0.94956811, 0.9553262 , 0.94986909,\n",
       "       0.83444926, 0.88434608, 0.98310748, 0.91117355, 0.98003065,\n",
       "       0.97537528, 0.93717751, 0.98808194, 0.97277676, 0.96695042,\n",
       "       0.85600824, 0.36328275, 0.95915787, 0.80365897, 0.98003794,\n",
       "       0.98972811, 0.80991273, 0.98273375, 0.97451784, 0.9890234 ,\n",
       "       0.98768901, 0.97664305, 0.97521684, 0.95879425, 0.96832842,\n",
       "       0.9919729 , 0.98541303, 0.98913632, 0.62742954, 0.98619453,\n",
       "       0.73965582, 0.45826583, 0.96261013, 0.87965427, 0.94663759,\n",
       "       0.98685379, 0.98778762, 0.87121481, 0.95219373, 0.90881659,\n",
       "       0.93879854, 0.97969309])"
      ]
     },
     "execution_count": 36,
     "metadata": {},
     "output_type": "execute_result"
    }
   ],
   "source": [
    "# probability of class \"1\"\n",
    "final_cat_prediction = final_cat_prediction[:, 1]\n",
    "final_cat_prediction"
   ]
  },
  {
   "cell_type": "code",
   "execution_count": 37,
   "metadata": {
    "execution": {
     "iopub.execute_input": "2024-09-07T10:47:01.070926Z",
     "iopub.status.busy": "2024-09-07T10:47:01.070340Z",
     "iopub.status.idle": "2024-09-07T10:47:01.090034Z",
     "shell.execute_reply": "2024-09-07T10:47:01.088263Z",
     "shell.execute_reply.started": "2024-09-07T10:47:01.070866Z"
    }
   },
   "outputs": [],
   "source": [
    "submission = pd.DataFrame({'ID':solution.index})\n",
    "submission['result'] = final_cat_model.predict(solution)"
   ]
  },
  {
   "cell_type": "code",
   "execution_count": 38,
   "metadata": {
    "execution": {
     "iopub.execute_input": "2024-09-07T10:47:01.092142Z",
     "iopub.status.busy": "2024-09-07T10:47:01.091585Z",
     "iopub.status.idle": "2024-09-07T10:47:01.104757Z",
     "shell.execute_reply": "2024-09-07T10:47:01.103239Z",
     "shell.execute_reply.started": "2024-09-07T10:47:01.092096Z"
    }
   },
   "outputs": [],
   "source": [
    "# saving results\n",
    "# submission.to_csv('Tuned_CatBoost.csv',index=False)"
   ]
  },
  {
   "cell_type": "code",
   "execution_count": 39,
   "metadata": {
    "execution": {
     "iopub.execute_input": "2024-09-07T10:47:01.106499Z",
     "iopub.status.busy": "2024-09-07T10:47:01.106132Z",
     "iopub.status.idle": "2024-09-07T10:47:01.132562Z",
     "shell.execute_reply": "2024-09-07T10:47:01.130991Z",
     "shell.execute_reply.started": "2024-09-07T10:47:01.106461Z"
    }
   },
   "outputs": [
    {
     "data": {
      "text/plain": [
       "result\n",
       "1    302\n",
       "0     40\n",
       "Name: count, dtype: int64"
      ]
     },
     "execution_count": 39,
     "metadata": {},
     "output_type": "execute_result"
    }
   ],
   "source": [
    "submission['result'].value_counts()"
   ]
  },
  {
   "cell_type": "markdown",
   "metadata": {},
   "source": [
    "## XGBoost baseline for feature importance"
   ]
  },
  {
   "cell_type": "markdown",
   "metadata": {},
   "source": [
    "**Implementation of XGBoost and LightBoost is about the same.** The only diffearence that we need to encode categorical features before we use it during fitting and predicting."
   ]
  },
  {
   "cell_type": "code",
   "execution_count": 40,
   "metadata": {
    "execution": {
     "iopub.execute_input": "2024-09-07T10:47:01.134627Z",
     "iopub.status.busy": "2024-09-07T10:47:01.134102Z",
     "iopub.status.idle": "2024-09-07T10:47:01.145862Z",
     "shell.execute_reply": "2024-09-07T10:47:01.144582Z",
     "shell.execute_reply.started": "2024-09-07T10:47:01.134578Z"
    }
   },
   "outputs": [],
   "source": [
    "encoder = LabelEncoder()"
   ]
  },
  {
   "cell_type": "code",
   "execution_count": 41,
   "metadata": {
    "execution": {
     "iopub.execute_input": "2024-09-07T10:47:01.157486Z",
     "iopub.status.busy": "2024-09-07T10:47:01.157062Z",
     "iopub.status.idle": "2024-09-07T10:47:02.223511Z",
     "shell.execute_reply": "2024-09-07T10:47:02.222415Z",
     "shell.execute_reply.started": "2024-09-07T10:47:01.157444Z"
    }
   },
   "outputs": [],
   "source": [
    "for col in cat_features:\n",
    "    X_train[col] = encoder.fit_transform(X_train[col])\n",
    "    X_test[col] = encoder.transform(X_test[col])\n",
    "    \n",
    "for col in cat_features:\n",
    "    X_train[col] = X_train[col].astype('int')\n",
    "    X_test[col] = X_test[col].astype('int')"
   ]
  },
  {
   "cell_type": "code",
   "execution_count": 42,
   "metadata": {
    "collapsed": true,
    "execution": {
     "iopub.execute_input": "2024-09-07T10:47:02.225298Z",
     "iopub.status.busy": "2024-09-07T10:47:02.224932Z",
     "iopub.status.idle": "2024-09-07T10:47:07.245003Z",
     "shell.execute_reply": "2024-09-07T10:47:07.243575Z",
     "shell.execute_reply.started": "2024-09-07T10:47:02.225259Z"
    },
    "jupyter": {
     "outputs_hidden": true
    }
   },
   "outputs": [
    {
     "data": {
      "text/html": [
       "<style>#sk-container-id-1 {color: black;background-color: white;}#sk-container-id-1 pre{padding: 0;}#sk-container-id-1 div.sk-toggleable {background-color: white;}#sk-container-id-1 label.sk-toggleable__label {cursor: pointer;display: block;width: 100%;margin-bottom: 0;padding: 0.3em;box-sizing: border-box;text-align: center;}#sk-container-id-1 label.sk-toggleable__label-arrow:before {content: \"▸\";float: left;margin-right: 0.25em;color: #696969;}#sk-container-id-1 label.sk-toggleable__label-arrow:hover:before {color: black;}#sk-container-id-1 div.sk-estimator:hover label.sk-toggleable__label-arrow:before {color: black;}#sk-container-id-1 div.sk-toggleable__content {max-height: 0;max-width: 0;overflow: hidden;text-align: left;background-color: #f0f8ff;}#sk-container-id-1 div.sk-toggleable__content pre {margin: 0.2em;color: black;border-radius: 0.25em;background-color: #f0f8ff;}#sk-container-id-1 input.sk-toggleable__control:checked~div.sk-toggleable__content {max-height: 200px;max-width: 100%;overflow: auto;}#sk-container-id-1 input.sk-toggleable__control:checked~label.sk-toggleable__label-arrow:before {content: \"▾\";}#sk-container-id-1 div.sk-estimator input.sk-toggleable__control:checked~label.sk-toggleable__label {background-color: #d4ebff;}#sk-container-id-1 div.sk-label input.sk-toggleable__control:checked~label.sk-toggleable__label {background-color: #d4ebff;}#sk-container-id-1 input.sk-hidden--visually {border: 0;clip: rect(1px 1px 1px 1px);clip: rect(1px, 1px, 1px, 1px);height: 1px;margin: -1px;overflow: hidden;padding: 0;position: absolute;width: 1px;}#sk-container-id-1 div.sk-estimator {font-family: monospace;background-color: #f0f8ff;border: 1px dotted black;border-radius: 0.25em;box-sizing: border-box;margin-bottom: 0.5em;}#sk-container-id-1 div.sk-estimator:hover {background-color: #d4ebff;}#sk-container-id-1 div.sk-parallel-item::after {content: \"\";width: 100%;border-bottom: 1px solid gray;flex-grow: 1;}#sk-container-id-1 div.sk-label:hover label.sk-toggleable__label {background-color: #d4ebff;}#sk-container-id-1 div.sk-serial::before {content: \"\";position: absolute;border-left: 1px solid gray;box-sizing: border-box;top: 0;bottom: 0;left: 50%;z-index: 0;}#sk-container-id-1 div.sk-serial {display: flex;flex-direction: column;align-items: center;background-color: white;padding-right: 0.2em;padding-left: 0.2em;position: relative;}#sk-container-id-1 div.sk-item {position: relative;z-index: 1;}#sk-container-id-1 div.sk-parallel {display: flex;align-items: stretch;justify-content: center;background-color: white;position: relative;}#sk-container-id-1 div.sk-item::before, #sk-container-id-1 div.sk-parallel-item::before {content: \"\";position: absolute;border-left: 1px solid gray;box-sizing: border-box;top: 0;bottom: 0;left: 50%;z-index: -1;}#sk-container-id-1 div.sk-parallel-item {display: flex;flex-direction: column;z-index: 1;position: relative;background-color: white;}#sk-container-id-1 div.sk-parallel-item:first-child::after {align-self: flex-end;width: 50%;}#sk-container-id-1 div.sk-parallel-item:last-child::after {align-self: flex-start;width: 50%;}#sk-container-id-1 div.sk-parallel-item:only-child::after {width: 0;}#sk-container-id-1 div.sk-dashed-wrapped {border: 1px dashed gray;margin: 0 0.4em 0.5em 0.4em;box-sizing: border-box;padding-bottom: 0.4em;background-color: white;}#sk-container-id-1 div.sk-label label {font-family: monospace;font-weight: bold;display: inline-block;line-height: 1.2em;}#sk-container-id-1 div.sk-label-container {text-align: center;}#sk-container-id-1 div.sk-container {/* jupyter's `normalize.less` sets `[hidden] { display: none; }` but bootstrap.min.css set `[hidden] { display: none !important; }` so we also need the `!important` here to be able to override the default hidden behavior on the sphinx rendered scikit-learn.org. See: https://github.com/scikit-learn/scikit-learn/issues/21755 */display: inline-block !important;position: relative;}#sk-container-id-1 div.sk-text-repr-fallback {display: none;}</style><div id=\"sk-container-id-1\" class=\"sk-top-container\"><div class=\"sk-text-repr-fallback\"><pre>XGBClassifier(base_score=None, booster=None, callbacks=None,\n",
       "              colsample_bylevel=None, colsample_bynode=None,\n",
       "              colsample_bytree=None, device=None, early_stopping_rounds=None,\n",
       "              enable_categorical=True, eval_metric=None, feature_types=None,\n",
       "              gamma=None, grow_policy=None, importance_type=None,\n",
       "              interaction_constraints=None, learning_rate=None, max_bin=None,\n",
       "              max_cat_threshold=None, max_cat_to_onehot=None,\n",
       "              max_delta_step=None, max_depth=None, max_leaves=None,\n",
       "              min_child_weight=None, missing=nan, monotone_constraints=None,\n",
       "              multi_strategy=None, n_estimators=None, n_jobs=None,\n",
       "              num_parallel_tree=None, random_state=None, ...)</pre><b>In a Jupyter environment, please rerun this cell to show the HTML representation or trust the notebook. <br />On GitHub, the HTML representation is unable to render, please try loading this page with nbviewer.org.</b></div><div class=\"sk-container\" hidden><div class=\"sk-item\"><div class=\"sk-estimator sk-toggleable\"><input class=\"sk-toggleable__control sk-hidden--visually\" id=\"sk-estimator-id-1\" type=\"checkbox\" checked><label for=\"sk-estimator-id-1\" class=\"sk-toggleable__label sk-toggleable__label-arrow\">XGBClassifier</label><div class=\"sk-toggleable__content\"><pre>XGBClassifier(base_score=None, booster=None, callbacks=None,\n",
       "              colsample_bylevel=None, colsample_bynode=None,\n",
       "              colsample_bytree=None, device=None, early_stopping_rounds=None,\n",
       "              enable_categorical=True, eval_metric=None, feature_types=None,\n",
       "              gamma=None, grow_policy=None, importance_type=None,\n",
       "              interaction_constraints=None, learning_rate=None, max_bin=None,\n",
       "              max_cat_threshold=None, max_cat_to_onehot=None,\n",
       "              max_delta_step=None, max_depth=None, max_leaves=None,\n",
       "              min_child_weight=None, missing=nan, monotone_constraints=None,\n",
       "              multi_strategy=None, n_estimators=None, n_jobs=None,\n",
       "              num_parallel_tree=None, random_state=None, ...)</pre></div></div></div></div></div>"
      ],
      "text/plain": [
       "XGBClassifier(base_score=None, booster=None, callbacks=None,\n",
       "              colsample_bylevel=None, colsample_bynode=None,\n",
       "              colsample_bytree=None, device=None, early_stopping_rounds=None,\n",
       "              enable_categorical=True, eval_metric=None, feature_types=None,\n",
       "              gamma=None, grow_policy=None, importance_type=None,\n",
       "              interaction_constraints=None, learning_rate=None, max_bin=None,\n",
       "              max_cat_threshold=None, max_cat_to_onehot=None,\n",
       "              max_delta_step=None, max_depth=None, max_leaves=None,\n",
       "              min_child_weight=None, missing=nan, monotone_constraints=None,\n",
       "              multi_strategy=None, n_estimators=None, n_jobs=None,\n",
       "              num_parallel_tree=None, random_state=None, ...)"
      ]
     },
     "execution_count": 42,
     "metadata": {},
     "output_type": "execute_result"
    }
   ],
   "source": [
    "xgb_model = XGBClassifier(objective='binary:logistic', tree_method='hist', enable_categorical=True)\n",
    "xgb_model.fit(X_train, y_train)"
   ]
  },
  {
   "cell_type": "code",
   "execution_count": 43,
   "metadata": {
    "execution": {
     "iopub.execute_input": "2024-09-07T10:47:07.247594Z",
     "iopub.status.busy": "2024-09-07T10:47:07.246308Z",
     "iopub.status.idle": "2024-09-07T10:47:07.672603Z",
     "shell.execute_reply": "2024-09-07T10:47:07.671565Z",
     "shell.execute_reply.started": "2024-09-07T10:47:07.247534Z"
    }
   },
   "outputs": [],
   "source": [
    "xgb_prediction = xgb_model.predict(X_test)"
   ]
  },
  {
   "cell_type": "code",
   "execution_count": 44,
   "metadata": {
    "execution": {
     "iopub.execute_input": "2024-09-07T10:47:07.674570Z",
     "iopub.status.busy": "2024-09-07T10:47:07.674087Z",
     "iopub.status.idle": "2024-09-07T10:47:07.823724Z",
     "shell.execute_reply": "2024-09-07T10:47:07.822462Z",
     "shell.execute_reply.started": "2024-09-07T10:47:07.674519Z"
    }
   },
   "outputs": [
    {
     "name": "stdout",
     "output_type": "stream",
     "text": [
      "F1-score: 0.9165461003378174\n"
     ]
    }
   ],
   "source": [
    "print(f'F1-score: {f1_score(y_test, xgb_prediction)}')"
   ]
  },
  {
   "cell_type": "markdown",
   "metadata": {},
   "source": [
    "## Tuned XGBoost"
   ]
  },
  {
   "cell_type": "code",
   "execution_count": 45,
   "metadata": {
    "execution": {
     "iopub.execute_input": "2024-09-07T10:47:07.825342Z",
     "iopub.status.busy": "2024-09-07T10:47:07.824932Z",
     "iopub.status.idle": "2024-09-07T10:47:07.831262Z",
     "shell.execute_reply": "2024-09-07T10:47:07.829876Z",
     "shell.execute_reply.started": "2024-09-07T10:47:07.825266Z"
    }
   },
   "outputs": [],
   "source": [
    "feature_important = xgb_model.get_booster().get_score(importance_type='weight')"
   ]
  },
  {
   "cell_type": "code",
   "execution_count": 46,
   "metadata": {
    "execution": {
     "iopub.execute_input": "2024-09-07T10:47:07.833077Z",
     "iopub.status.busy": "2024-09-07T10:47:07.832665Z",
     "iopub.status.idle": "2024-09-07T10:47:07.845186Z",
     "shell.execute_reply": "2024-09-07T10:47:07.843963Z",
     "shell.execute_reply.started": "2024-09-07T10:47:07.833028Z"
    }
   },
   "outputs": [],
   "source": [
    "feature_important\n",
    "sorted_feature_important = sorted(feature_important.items(), key=lambda item: item[1])"
   ]
  },
  {
   "cell_type": "code",
   "execution_count": 47,
   "metadata": {
    "execution": {
     "iopub.execute_input": "2024-09-07T10:47:07.847686Z",
     "iopub.status.busy": "2024-09-07T10:47:07.846849Z",
     "iopub.status.idle": "2024-09-07T10:47:07.862358Z",
     "shell.execute_reply": "2024-09-07T10:47:07.861153Z",
     "shell.execute_reply.started": "2024-09-07T10:47:07.847630Z"
    }
   },
   "outputs": [
    {
     "data": {
      "text/plain": [
       "[('13', 207.0),\n",
       " ('3', 242.0),\n",
       " ('15', 256.0),\n",
       " ('5', 259.0),\n",
       " ('11', 267.0),\n",
       " ('17', 278.0),\n",
       " ('7', 283.0),\n",
       " ('18', 286.0),\n",
       " ('2', 303.0),\n",
       " ('4', 335.0),\n",
       " ('9', 396.0),\n",
       " ('8', 457.0),\n",
       " ('1', 472.0),\n",
       " ('0', 474.0),\n",
       " ('12', 487.0)]"
      ]
     },
     "execution_count": 47,
     "metadata": {},
     "output_type": "execute_result"
    }
   ],
   "source": [
    "sorted_feature_important[-n_features:]"
   ]
  },
  {
   "cell_type": "code",
   "execution_count": 48,
   "metadata": {
    "execution": {
     "iopub.execute_input": "2024-09-07T10:47:07.865283Z",
     "iopub.status.busy": "2024-09-07T10:47:07.864300Z",
     "iopub.status.idle": "2024-09-07T10:49:49.279323Z",
     "shell.execute_reply": "2024-09-07T10:49:49.278065Z",
     "shell.execute_reply.started": "2024-09-07T10:47:07.865224Z"
    }
   },
   "outputs": [
    {
     "data": {
      "image/png": "[encoded data removed]",
      "text/plain": [
       "<Figure size 1200x600 with 1 Axes>"
      ]
     },
     "metadata": {},
     "output_type": "display_data"
    }
   ],
   "source": [
    "perm_importance = permutation_importance(xgb_model, X_train, y_train, n_repeats=10, random_state=42)\n",
    "sorted_idx = perm_importance.importances_mean.argsort()[-n_features:]\n",
    "best_features_2 = X_train.columns[sorted_idx][-n_features:].values\n",
    "fig = plt.figure(figsize=(12, 6))\n",
    "plt.barh(range(len(sorted_idx)), perm_importance.importances_mean[sorted_idx], align='center')\n",
    "plt.yticks(range(len(sorted_idx)), np.array(X_train.columns)[sorted_idx])\n",
    "plt.title('Permutation Importance');"
   ]
  },
  {
   "cell_type": "code",
   "execution_count": 49,
   "metadata": {
    "execution": {
     "iopub.execute_input": "2024-09-07T10:49:49.281016Z",
     "iopub.status.busy": "2024-09-07T10:49:49.280634Z",
     "iopub.status.idle": "2024-09-07T10:49:49.287606Z",
     "shell.execute_reply": "2024-09-07T10:49:49.286380Z",
     "shell.execute_reply.started": "2024-09-07T10:49:49.280976Z"
    }
   },
   "outputs": [],
   "source": [
    "best_features_1 = ['14', '3', '13', '5', '18', '17', '2', '8', '10', '4', '11', '9', '0', '1', '12']\n",
    "best_features = [i for i in best_features_1 if i in best_features_2]"
   ]
  },
  {
   "cell_type": "code",
   "execution_count": 50,
   "metadata": {
    "execution": {
     "iopub.execute_input": "2024-09-07T10:49:49.289423Z",
     "iopub.status.busy": "2024-09-07T10:49:49.289036Z",
     "iopub.status.idle": "2024-09-07T10:49:49.303976Z",
     "shell.execute_reply": "2024-09-07T10:49:49.302614Z",
     "shell.execute_reply.started": "2024-09-07T10:49:49.289384Z"
    }
   },
   "outputs": [],
   "source": [
    "def objective(trial):\n",
    "    params = {\n",
    "        'n_estimators': trial.suggest_int('n_estimators', 50, 1000),\n",
    "        'max_depth': trial.suggest_int('max_depth', 3, 15),\n",
    "        'learning_rate': trial.suggest_float('learning_rate', 1e-5, 0.3, log=True),\n",
    "        'subsample': trial.suggest_float('subsample', 0.5, 1.0),\n",
    "        'colsample_bytree': trial.suggest_float('colsample_bytree', 0.3, 1.0),\n",
    "        'gamma': trial.suggest_float('gamma', 0, 10),\n",
    "        'min_child_weight': trial.suggest_int('min_child_weight', 1, 20),\n",
    "        'reg_alpha': trial.suggest_float('reg_alpha', 1e-5, 100, log=True),\n",
    "        'reg_lambda': trial.suggest_float('reg_lambda', 1e-5, 100, log=True),\n",
    "    }\n",
    "        \n",
    "    xgb_model = XGBClassifier(**params)\n",
    "    \n",
    "    xgb_model.fit(X_train[best_features], y_train, verbose=False)\n",
    "    prediction = xgb_model.predict(X_test[best_features])\n",
    "    \n",
    "    return f1_score(y_test, prediction)"
   ]
  },
  {
   "cell_type": "code",
   "execution_count": 51,
   "metadata": {
    "collapsed": true,
    "execution": {
     "iopub.execute_input": "2024-09-07T10:49:49.306264Z",
     "iopub.status.busy": "2024-09-07T10:49:49.305843Z",
     "iopub.status.idle": "2024-09-07T11:11:06.359331Z",
     "shell.execute_reply": "2024-09-07T11:11:06.357977Z",
     "shell.execute_reply.started": "2024-09-07T10:49:49.306214Z"
    },
    "jupyter": {
     "outputs_hidden": true
    }
   },
   "outputs": [
    {
     "name": "stderr",
     "output_type": "stream",
     "text": [
      "[I 2024-09-07 10:49:49,314] A new study created in memory with name: no-name-ef00bdff-1a9f-4899-a673-3e2a4169a674\n"
     ]
    },
    {
     "data": {
      "application/vnd.jupyter.widget-view+json": {
       "model_id": "dcddac1825544a08b7f644c769126525",
       "version_major": 2,
       "version_minor": 0
      },
      "text/plain": [
       "  0%|          | 0/50 [00:00<?, ?it/s]"
      ]
     },
     "metadata": {},
     "output_type": "display_data"
    },
    {
     "name": "stdout",
     "output_type": "stream",
     "text": [
      "[I 2024-09-07 10:50:30,327] Trial 0 finished with value: 0.9329159651779595 and parameters: {'n_estimators': 678, 'max_depth': 10, 'learning_rate': 0.0025652664177453054, 'subsample': 0.5147194465516945, 'colsample_bytree': 0.575549523333795, 'gamma': 1.4320424302336254, 'min_child_weight': 8, 'reg_alpha': 0.0007977660657646033, 'reg_lambda': 0.0018100974896063235}. Best is trial 0 with value: 0.9329159651779595.\n",
      "[I 2024-09-07 10:50:41,220] Trial 1 finished with value: 0.9476192414512186 and parameters: {'n_estimators': 316, 'max_depth': 7, 'learning_rate': 0.0010387952514659161, 'subsample': 0.7401152094298641, 'colsample_bytree': 0.4862807252240494, 'gamma': 9.316694199048124, 'min_child_weight': 19, 'reg_alpha': 0.22034896713705707, 'reg_lambda': 0.02810262714530474}. Best is trial 1 with value: 0.9476192414512186.\n",
      "[I 2024-09-07 10:51:19,596] Trial 2 finished with value: 0.921878697534948 and parameters: {'n_estimators': 948, 'max_depth': 11, 'learning_rate': 0.011805372324160093, 'subsample': 0.9062401673423734, 'colsample_bytree': 0.8134679530977249, 'gamma': 9.628805004878178, 'min_child_weight': 8, 'reg_alpha': 6.348921584220779, 'reg_lambda': 0.0005375049860917215}. Best is trial 1 with value: 0.9476192414512186.\n",
      "[I 2024-09-07 10:51:54,131] Trial 3 finished with value: 0.9420448815904807 and parameters: {'n_estimators': 982, 'max_depth': 7, 'learning_rate': 0.0002557740245975254, 'subsample': 0.8474650603154148, 'colsample_bytree': 0.4176869235848045, 'gamma': 7.488459939089544, 'min_child_weight': 20, 'reg_alpha': 0.0004250330244011969, 'reg_lambda': 2.3839297469012147e-05}. Best is trial 1 with value: 0.9476192414512186.\n",
      "[I 2024-09-07 10:52:12,207] Trial 4 finished with value: 0.94177967468579 and parameters: {'n_estimators': 826, 'max_depth': 4, 'learning_rate': 1.1142223078119278e-05, 'subsample': 0.8988672707421451, 'colsample_bytree': 0.8784201036008987, 'gamma': 4.265969848043907, 'min_child_weight': 17, 'reg_alpha': 1.2229891625604488e-05, 'reg_lambda': 0.0028004433903064054}. Best is trial 1 with value: 0.9476192414512186.\n",
      "[I 2024-09-07 10:52:27,943] Trial 5 finished with value: 0.9275938963506609 and parameters: {'n_estimators': 894, 'max_depth': 13, 'learning_rate': 0.1277730319156996, 'subsample': 0.7256316500597754, 'colsample_bytree': 0.6171238367764376, 'gamma': 7.6116031066700875, 'min_child_weight': 5, 'reg_alpha': 7.970923617934411, 'reg_lambda': 8.079486913844855}. Best is trial 1 with value: 0.9476192414512186.\n",
      "[I 2024-09-07 10:52:44,343] Trial 6 finished with value: 0.9381222679373752 and parameters: {'n_estimators': 859, 'max_depth': 3, 'learning_rate': 0.03126497140123043, 'subsample': 0.8664028668538228, 'colsample_bytree': 0.8720727467548404, 'gamma': 8.429318405450534, 'min_child_weight': 18, 'reg_alpha': 0.004079503437168292, 'reg_lambda': 79.29004944975081}. Best is trial 1 with value: 0.9476192414512186.\n",
      "[I 2024-09-07 10:53:33,195] Trial 7 finished with value: 0.9489576865661783 and parameters: {'n_estimators': 933, 'max_depth': 9, 'learning_rate': 0.000846630647515583, 'subsample': 0.8830035526450974, 'colsample_bytree': 0.8030030710026332, 'gamma': 4.17587724825815, 'min_child_weight': 6, 'reg_alpha': 2.289258364880397, 'reg_lambda': 0.0009891680766722544}. Best is trial 7 with value: 0.9489576865661783.\n",
      "[I 2024-09-07 10:53:52,515] Trial 8 finished with value: 0.9552761202865571 and parameters: {'n_estimators': 299, 'max_depth': 11, 'learning_rate': 0.0014860208273383185, 'subsample': 0.9075887273443851, 'colsample_bytree': 0.8025038021582105, 'gamma': 7.5856507280313155, 'min_child_weight': 20, 'reg_alpha': 0.00014965316709248853, 'reg_lambda': 0.00015781395873920237}. Best is trial 8 with value: 0.9552761202865571.\n",
      "[I 2024-09-07 10:54:30,731] Trial 9 finished with value: 0.9545314276303482 and parameters: {'n_estimators': 802, 'max_depth': 8, 'learning_rate': 0.00043094321822730996, 'subsample': 0.6448075988264171, 'colsample_bytree': 0.8729490931578991, 'gamma': 8.310185049669027, 'min_child_weight': 1, 'reg_alpha': 0.05687954615541211, 'reg_lambda': 1.1662642596507236e-05}. Best is trial 8 with value: 0.9552761202865571.\n",
      "[I 2024-09-07 10:54:41,028] Trial 10 finished with value: 0.94177967468579 and parameters: {'n_estimators': 94, 'max_depth': 15, 'learning_rate': 4.985732143411265e-05, 'subsample': 0.9703731419711208, 'colsample_bytree': 0.9932138907666104, 'gamma': 5.4578100575446, 'min_child_weight': 14, 'reg_alpha': 1.314928913638351e-05, 'reg_lambda': 0.25959736320943666}. Best is trial 8 with value: 0.9552761202865571.\n",
      "[I 2024-09-07 10:55:01,011] Trial 11 finished with value: 0.94177967468579 and parameters: {'n_estimators': 465, 'max_depth': 8, 'learning_rate': 0.0002146406343684229, 'subsample': 0.6234685245499476, 'colsample_bytree': 0.7107440954013277, 'gamma': 6.116876946290419, 'min_child_weight': 2, 'reg_alpha': 0.04814468018093787, 'reg_lambda': 1.2124348217379101e-05}. Best is trial 8 with value: 0.9552761202865571.\n",
      "[I 2024-09-07 10:55:20,191] Trial 12 finished with value: 0.933991030477034 and parameters: {'n_estimators': 245, 'max_depth': 12, 'learning_rate': 0.005390385164504531, 'subsample': 0.6469431790644522, 'colsample_bytree': 0.9808947301307911, 'gamma': 6.625242292432238, 'min_child_weight': 13, 'reg_alpha': 0.008079307554899369, 'reg_lambda': 9.18353955958476e-05}. Best is trial 8 with value: 0.9552761202865571.\n",
      "[I 2024-09-07 10:55:36,983] Trial 13 finished with value: 0.94177967468579 and parameters: {'n_estimators': 576, 'max_depth': 5, 'learning_rate': 0.0001976384165001065, 'subsample': 0.6363774288570696, 'colsample_bytree': 0.7129486639545275, 'gamma': 2.5328283696656184, 'min_child_weight': 1, 'reg_alpha': 0.35184277247712686, 'reg_lambda': 0.00011585833538038499}. Best is trial 8 with value: 0.9552761202865571.\n",
      "[I 2024-09-07 10:55:56,764] Trial 14 finished with value: 0.94177967468579 and parameters: {'n_estimators': 401, 'max_depth': 14, 'learning_rate': 4.388497329959673e-05, 'subsample': 0.5369215841537534, 'colsample_bytree': 0.7401764155424588, 'gamma': 8.322167693396162, 'min_child_weight': 11, 'reg_alpha': 74.76202177651025, 'reg_lambda': 0.02087651739389708}. Best is trial 8 with value: 0.9552761202865571.\n",
      "[I 2024-09-07 10:56:19,927] Trial 15 finished with value: 0.9515543139977691 and parameters: {'n_estimators': 691, 'max_depth': 6, 'learning_rate': 0.0007727298634771065, 'subsample': 0.8117042270473136, 'colsample_bytree': 0.904011929000259, 'gamma': 6.9338954053430815, 'min_child_weight': 15, 'reg_alpha': 0.00014709584152503347, 'reg_lambda': 0.00011915686265049701}. Best is trial 8 with value: 0.9552761202865571.\n",
      "[I 2024-09-07 10:56:27,544] Trial 16 finished with value: 0.9320114615129537 and parameters: {'n_estimators': 126, 'max_depth': 10, 'learning_rate': 0.015791162874837682, 'subsample': 0.9630897305361916, 'colsample_bytree': 0.7860613902658627, 'gamma': 9.644169161976402, 'min_child_weight': 11, 'reg_alpha': 0.032787078513069695, 'reg_lambda': 1.6839975980942432e-05}. Best is trial 8 with value: 0.9552761202865571.\n",
      "[I 2024-09-07 10:57:10,166] Trial 17 finished with value: 0.9274890440685981 and parameters: {'n_estimators': 716, 'max_depth': 12, 'learning_rate': 0.002906586024741051, 'subsample': 0.7856453639973449, 'colsample_bytree': 0.32824346679943595, 'gamma': 5.448895698004746, 'min_child_weight': 3, 'reg_alpha': 0.002652907434105385, 'reg_lambda': 0.5923202595315}. Best is trial 8 with value: 0.9552761202865571.\n",
      "[I 2024-09-07 10:57:19,922] Trial 18 finished with value: 0.9257181575544121 and parameters: {'n_estimators': 558, 'max_depth': 8, 'learning_rate': 0.21802686653949865, 'subsample': 0.6937623171223347, 'colsample_bytree': 0.6496269933555576, 'gamma': 8.458788440365202, 'min_child_weight': 8, 'reg_alpha': 8.626317701853287e-05, 'reg_lambda': 0.007654584295691089}. Best is trial 8 with value: 0.9552761202865571.\n",
      "[I 2024-09-07 10:57:35,076] Trial 19 finished with value: 0.94177967468579 and parameters: {'n_estimators': 227, 'max_depth': 10, 'learning_rate': 6.798969810663458e-05, 'subsample': 0.5790970992308381, 'colsample_bytree': 0.9308068501305404, 'gamma': 0.3080304078430096, 'min_child_weight': 16, 'reg_alpha': 0.06342808140919257, 'reg_lambda': 0.00025276093324981313}. Best is trial 8 with value: 0.9552761202865571.\n",
      "[I 2024-09-07 10:57:56,695] Trial 20 finished with value: 0.9279278195902058 and parameters: {'n_estimators': 378, 'max_depth': 12, 'learning_rate': 0.05088510519874287, 'subsample': 0.7948101626623726, 'colsample_bytree': 0.5344230294653882, 'gamma': 3.2997012413058924, 'min_child_weight': 4, 'reg_alpha': 0.3389600794270622, 'reg_lambda': 0.14023543814448677}. Best is trial 8 with value: 0.9552761202865571.\n",
      "[I 2024-09-07 10:58:20,550] Trial 21 finished with value: 0.9533284371517108 and parameters: {'n_estimators': 730, 'max_depth': 6, 'learning_rate': 0.0005879265153920258, 'subsample': 0.814292894881264, 'colsample_bytree': 0.8786647788487415, 'gamma': 7.128295735925846, 'min_child_weight': 15, 'reg_alpha': 0.00012581473162643264, 'reg_lambda': 8.003744951067373e-05}. Best is trial 8 with value: 0.9552761202865571.\n",
      "[I 2024-09-07 10:58:44,250] Trial 22 finished with value: 0.9527766431061147 and parameters: {'n_estimators': 774, 'max_depth': 6, 'learning_rate': 0.000434653535187225, 'subsample': 0.6836009138639889, 'colsample_bytree': 0.8414527622188734, 'gamma': 7.690520216394164, 'min_child_weight': 13, 'reg_alpha': 6.650295133063088e-05, 'reg_lambda': 3.526223257899496e-05}. Best is trial 8 with value: 0.9552761202865571.\n",
      "[I 2024-09-07 10:59:13,984] Trial 23 finished with value: 0.9433413623245014 and parameters: {'n_estimators': 620, 'max_depth': 8, 'learning_rate': 0.0019082107868437519, 'subsample': 0.9365139837765333, 'colsample_bytree': 0.9414076414961937, 'gamma': 6.188433945317389, 'min_child_weight': 20, 'reg_alpha': 0.0010091422516441304, 'reg_lambda': 6.51141402882042e-05}. Best is trial 8 with value: 0.9552761202865571.\n",
      "[I 2024-09-07 10:59:36,096] Trial 24 finished with value: 0.94177967468579 and parameters: {'n_estimators': 797, 'max_depth': 5, 'learning_rate': 0.00011129848753152576, 'subsample': 0.7709778592708971, 'colsample_bytree': 0.7627781593376062, 'gamma': 8.962188082322397, 'min_child_weight': 17, 'reg_alpha': 0.0106074452625421, 'reg_lambda': 0.0005117414622088481}. Best is trial 8 with value: 0.9552761202865571.\n",
      "[I 2024-09-07 11:00:02,435] Trial 25 finished with value: 0.928098294617118 and parameters: {'n_estimators': 451, 'max_depth': 9, 'learning_rate': 0.006024183021080569, 'subsample': 0.8317208346945436, 'colsample_bytree': 0.8495035311505352, 'gamma': 7.309283889245219, 'min_child_weight': 10, 'reg_alpha': 0.00022612861134444024, 'reg_lambda': 0.00394229534983018}. Best is trial 8 with value: 0.9552761202865571.\n",
      "[I 2024-09-07 11:00:28,364] Trial 26 finished with value: 0.9426968403366042 and parameters: {'n_estimators': 631, 'max_depth': 7, 'learning_rate': 0.00039158024800971475, 'subsample': 0.929444802444217, 'colsample_bytree': 0.6850377246589961, 'gamma': 8.156189380525168, 'min_child_weight': 15, 'reg_alpha': 2.7342101569990533e-05, 'reg_lambda': 0.00022242315500671674}. Best is trial 8 with value: 0.9552761202865571.\n",
      "[I 2024-09-07 11:01:20,527] Trial 27 finished with value: 0.94177967468579 and parameters: {'n_estimators': 757, 'max_depth': 11, 'learning_rate': 2.123389114005411e-05, 'subsample': 0.7097363734029261, 'colsample_bytree': 0.935497289524228, 'gamma': 5.949684282124407, 'min_child_weight': 18, 'reg_alpha': 0.0015077513189954337, 'reg_lambda': 3.9320342320272636e-05}. Best is trial 8 with value: 0.9552761202865571.\n",
      "[I 2024-09-07 11:01:24,749] Trial 28 finished with value: 0.94177967468579 and parameters: {'n_estimators': 181, 'max_depth': 3, 'learning_rate': 0.00122849715073832, 'subsample': 0.5851034961810415, 'colsample_bytree': 0.8240136110983254, 'gamma': 4.69261633445731, 'min_child_weight': 12, 'reg_alpha': 0.0133052351811688, 'reg_lambda': 1.5326663251589692e-05}. Best is trial 8 with value: 0.9552761202865571.\n",
      "[I 2024-09-07 11:01:52,055] Trial 29 finished with value: 0.9330630795386041 and parameters: {'n_estimators': 528, 'max_depth': 9, 'learning_rate': 0.003491578269072307, 'subsample': 0.8300867446103314, 'colsample_bytree': 0.5919215173416132, 'gamma': 6.747546419106951, 'min_child_weight': 9, 'reg_alpha': 0.000486938698277484, 'reg_lambda': 0.0013589401141756248}. Best is trial 8 with value: 0.9552761202865571.\n",
      "[I 2024-09-07 11:02:03,109] Trial 30 finished with value: 0.94177967468579 and parameters: {'n_estimators': 302, 'max_depth': 6, 'learning_rate': 0.0004850533642694149, 'subsample': 0.7729272602359605, 'colsample_bytree': 0.8972598272945512, 'gamma': 8.936620920286185, 'min_child_weight': 6, 'reg_alpha': 0.11874662975744131, 'reg_lambda': 0.0003648192090703538}. Best is trial 8 with value: 0.9552761202865571.\n",
      "[I 2024-09-07 11:02:26,545] Trial 31 finished with value: 0.94177967468579 and parameters: {'n_estimators': 775, 'max_depth': 6, 'learning_rate': 0.00012083877091897759, 'subsample': 0.6790747289384549, 'colsample_bytree': 0.8585865056591864, 'gamma': 7.931512388219804, 'min_child_weight': 13, 'reg_alpha': 3.7400486582338354e-05, 'reg_lambda': 3.3812769122044394e-05}. Best is trial 8 with value: 0.9552761202865571.\n",
      "[I 2024-09-07 11:02:45,227] Trial 32 finished with value: 0.9495324335349978 and parameters: {'n_estimators': 656, 'max_depth': 5, 'learning_rate': 0.0004977075076128088, 'subsample': 0.747608123503007, 'colsample_bytree': 0.7576585055288066, 'gamma': 9.900301277181365, 'min_child_weight': 14, 'reg_alpha': 5.174354717711447e-05, 'reg_lambda': 6.620814078790197e-05}. Best is trial 8 with value: 0.9552761202865571.\n",
      "[I 2024-09-07 11:04:48,162] Trial 37 finished with value: 0.9439754591054179 and parameters: {'n_estimators': 939, 'max_depth': 6, 'learning_rate': 0.0011493687889377272, 'subsample': 0.8624366090395673, 'colsample_bytree': 0.8839473219380439, 'gamma': 7.5369388843136695, 'min_child_weight': 12, 'reg_alpha': 1.2453958925801478e-05, 'reg_lambda': 0.009605528164635243}. Best is trial 8 with value: 0.9552761202865571.\n",
      "[I 2024-09-07 11:05:08,065] Trial 38 finished with value: 0.9334124468103141 and parameters: {'n_estimators': 858, 'max_depth': 4, 'learning_rate': 0.007978925630704467, 'subsample': 0.7162586213710824, 'colsample_bytree': 0.6657422656590966, 'gamma': 9.24345796314066, 'min_child_weight': 19, 'reg_alpha': 0.003238642383392832, 'reg_lambda': 2.525393720326314e-05}. Best is trial 8 with value: 0.9552761202865571.\n",
      "[I 2024-09-07 11:06:03,057] Trial 39 finished with value: 0.9249793446277996 and parameters: {'n_estimators': 993, 'max_depth': 10, 'learning_rate': 0.0033267223701647355, 'subsample': 0.5092694976099327, 'colsample_bytree': 0.8233899704015434, 'gamma': 8.617566278732369, 'min_child_weight': 16, 'reg_alpha': 0.0011565752238482832, 'reg_lambda': 0.0026541184827989874}. Best is trial 8 with value: 0.9552761202865571.\n",
      "[I 2024-09-07 11:06:30,729] Trial 40 finished with value: 0.9532814489699618 and parameters: {'n_estimators': 751, 'max_depth': 7, 'learning_rate': 0.0006301500297951969, 'subsample': 0.9021600396109949, 'colsample_bytree': 0.7695660444408623, 'gamma': 7.91441874399906, 'min_child_weight': 8, 'reg_alpha': 0.0002643626075721542, 'reg_lambda': 7.838096770924734}. Best is trial 8 with value: 0.9552761202865571.\n",
      "[I 2024-09-07 11:06:58,151] Trial 41 finished with value: 0.9520041408066561 and parameters: {'n_estimators': 796, 'max_depth': 7, 'learning_rate': 0.0005152282436548278, 'subsample': 0.9106601107322422, 'colsample_bytree': 0.7847356886939864, 'gamma': 7.843822739382244, 'min_child_weight': 6, 'reg_alpha': 0.0003172749394602829, 'reg_lambda': 71.7402470187648}. Best is trial 8 with value: 0.9552761202865571.\n",
      "[I 2024-09-07 11:07:22,955] Trial 42 finished with value: 0.94177967468579 and parameters: {'n_estimators': 736, 'max_depth': 7, 'learning_rate': 0.00020775842958969576, 'subsample': 0.8886652853756932, 'colsample_bytree': 0.7288690219022771, 'gamma': 5.698034567260036, 'min_child_weight': 7, 'reg_alpha': 0.00010212123311752482, 'reg_lambda': 8.732633055734912}. Best is trial 8 with value: 0.9552761202865571.\n",
      "[I 2024-09-07 11:07:56,573] Trial 43 finished with value: 0.9462879999734222 and parameters: {'n_estimators': 676, 'max_depth': 9, 'learning_rate': 0.0013672803317722586, 'subsample': 0.8583006395426178, 'colsample_bytree': 0.8666150254135357, 'gamma': 8.037789243992151, 'min_child_weight': 1, 'reg_alpha': 1.6006625649076213e-05, 'reg_lambda': 10.432897702220215}. Best is trial 8 with value: 0.9552761202865571.\n",
      "[I 2024-09-07 11:08:18,163] Trial 44 finished with value: 0.9506901882744159 and parameters: {'n_estimators': 850, 'max_depth': 5, 'learning_rate': 0.000665217026309837, 'subsample': 0.9175675961344023, 'colsample_bytree': 0.8247458779966664, 'gamma': 7.080618042707168, 'min_child_weight': 9, 'reg_alpha': 2.9070836580273153e-05, 'reg_lambda': 0.07701492607123439}. Best is trial 8 with value: 0.9552761202865571.\n",
      "[I 2024-09-07 11:08:44,494] Trial 45 finished with value: 0.94177967468579 and parameters: {'n_estimators': 586, 'max_depth': 8, 'learning_rate': 0.0003192952825956243, 'subsample': 0.663259881799753, 'colsample_bytree': 0.786235804840273, 'gamma': 5.001879802777067, 'min_child_weight': 4, 'reg_alpha': 0.000525410079352247, 'reg_lambda': 6.891906888154396e-05}. Best is trial 8 with value: 0.9552761202865571.\n",
      "[I 2024-09-07 11:09:45,761] Trial 46 finished with value: 0.9280561944469508 and parameters: {'n_estimators': 918, 'max_depth': 13, 'learning_rate': 0.0022072241449141057, 'subsample': 0.9616245148914915, 'colsample_bytree': 0.4457545262227571, 'gamma': 6.69041440186442, 'min_child_weight': 13, 'reg_alpha': 0.02013212046894562, 'reg_lambda': 1.0219913840236847}. Best is trial 8 with value: 0.9552761202865571.\n",
      "[I 2024-09-07 11:09:59,586] Trial 47 finished with value: 0.94177967468579 and parameters: {'n_estimators': 465, 'max_depth': 6, 'learning_rate': 8.481533477862365e-05, 'subsample': 0.8392821434297661, 'colsample_bytree': 0.6993955124937936, 'gamma': 9.42360999524755, 'min_child_weight': 14, 'reg_alpha': 0.004571176081707628, 'reg_lambda': 0.0005619501688474634}. Best is trial 8 with value: 0.9552761202865571.\n",
      "[I 2024-09-07 11:10:27,044] Trial 48 finished with value: 0.9479561486628764 and parameters: {'n_estimators': 692, 'max_depth': 7, 'learning_rate': 0.0010022651794287646, 'subsample': 0.7359929929308189, 'colsample_bytree': 0.9955662214323096, 'gamma': 8.547681566090448, 'min_child_weight': 12, 'reg_alpha': 0.00011805580588761048, 'reg_lambda': 4.300220753027804}. Best is trial 8 with value: 0.9552761202865571.\n",
      "[I 2024-09-07 11:11:06,346] Trial 49 finished with value: 0.94177967468579 and parameters: {'n_estimators': 811, 'max_depth': 9, 'learning_rate': 0.00019030421996781466, 'subsample': 0.8847636868893101, 'colsample_bytree': 0.740674791202357, 'gamma': 7.272581171828214, 'min_child_weight': 2, 'reg_alpha': 1.137265657483709, 'reg_lambda': 0.04264270335371658}. Best is trial 8 with value: 0.9552761202865571.\n"
     ]
    }
   ],
   "source": [
    "study = optuna.create_study(direction='maximize')\n",
    "study.optimize(objective, n_trials=50, show_progress_bar=True)\n",
    "\n",
    "df = study.trials_dataframe()"
   ]
  },
  {
   "cell_type": "code",
   "execution_count": 52,
   "metadata": {
    "execution": {
     "iopub.execute_input": "2024-09-07T11:11:06.361830Z",
     "iopub.status.busy": "2024-09-07T11:11:06.361300Z",
     "iopub.status.idle": "2024-09-07T11:11:06.372235Z",
     "shell.execute_reply": "2024-09-07T11:11:06.370878Z",
     "shell.execute_reply.started": "2024-09-07T11:11:06.361755Z"
    }
   },
   "outputs": [
    {
     "data": {
      "text/plain": [
       "{'n_estimators': 299,\n",
       " 'max_depth': 11,\n",
       " 'learning_rate': 0.0014860208273383185,\n",
       " 'subsample': 0.9075887273443851,\n",
       " 'colsample_bytree': 0.8025038021582105,\n",
       " 'gamma': 7.5856507280313155,\n",
       " 'min_child_weight': 20,\n",
       " 'reg_alpha': 0.00014965316709248853,\n",
       " 'reg_lambda': 0.00015781395873920237}"
      ]
     },
     "execution_count": 52,
     "metadata": {},
     "output_type": "execute_result"
    }
   ],
   "source": [
    "study.best_params"
   ]
  },
  {
   "cell_type": "code",
   "execution_count": 53,
   "metadata": {
    "execution": {
     "iopub.execute_input": "2024-09-07T11:11:06.374940Z",
     "iopub.status.busy": "2024-09-07T11:11:06.374516Z",
     "iopub.status.idle": "2024-09-07T11:11:52.263253Z",
     "shell.execute_reply": "2024-09-07T11:11:52.261883Z",
     "shell.execute_reply.started": "2024-09-07T11:11:06.374897Z"
    }
   },
   "outputs": [
    {
     "data": {
      "text/html": [
       "<style>#sk-container-id-2 {color: black;background-color: white;}#sk-container-id-2 pre{padding: 0;}#sk-container-id-2 div.sk-toggleable {background-color: white;}#sk-container-id-2 label.sk-toggleable__label {cursor: pointer;display: block;width: 100%;margin-bottom: 0;padding: 0.3em;box-sizing: border-box;text-align: center;}#sk-container-id-2 label.sk-toggleable__label-arrow:before {content: \"▸\";float: left;margin-right: 0.25em;color: #696969;}#sk-container-id-2 label.sk-toggleable__label-arrow:hover:before {color: black;}#sk-container-id-2 div.sk-estimator:hover label.sk-toggleable__label-arrow:before {color: black;}#sk-container-id-2 div.sk-toggleable__content {max-height: 0;max-width: 0;overflow: hidden;text-align: left;background-color: #f0f8ff;}#sk-container-id-2 div.sk-toggleable__content pre {margin: 0.2em;color: black;border-radius: 0.25em;background-color: #f0f8ff;}#sk-container-id-2 input.sk-toggleable__control:checked~div.sk-toggleable__content {max-height: 200px;max-width: 100%;overflow: auto;}#sk-container-id-2 input.sk-toggleable__control:checked~label.sk-toggleable__label-arrow:before {content: \"▾\";}#sk-container-id-2 div.sk-estimator input.sk-toggleable__control:checked~label.sk-toggleable__label {background-color: #d4ebff;}#sk-container-id-2 div.sk-label input.sk-toggleable__control:checked~label.sk-toggleable__label {background-color: #d4ebff;}#sk-container-id-2 input.sk-hidden--visually {border: 0;clip: rect(1px 1px 1px 1px);clip: rect(1px, 1px, 1px, 1px);height: 1px;margin: -1px;overflow: hidden;padding: 0;position: absolute;width: 1px;}#sk-container-id-2 div.sk-estimator {font-family: monospace;background-color: #f0f8ff;border: 1px dotted black;border-radius: 0.25em;box-sizing: border-box;margin-bottom: 0.5em;}#sk-container-id-2 div.sk-estimator:hover {background-color: #d4ebff;}#sk-container-id-2 div.sk-parallel-item::after {content: \"\";width: 100%;border-bottom: 1px solid gray;flex-grow: 1;}#sk-container-id-2 div.sk-label:hover label.sk-toggleable__label {background-color: #d4ebff;}#sk-container-id-2 div.sk-serial::before {content: \"\";position: absolute;border-left: 1px solid gray;box-sizing: border-box;top: 0;bottom: 0;left: 50%;z-index: 0;}#sk-container-id-2 div.sk-serial {display: flex;flex-direction: column;align-items: center;background-color: white;padding-right: 0.2em;padding-left: 0.2em;position: relative;}#sk-container-id-2 div.sk-item {position: relative;z-index: 1;}#sk-container-id-2 div.sk-parallel {display: flex;align-items: stretch;justify-content: center;background-color: white;position: relative;}#sk-container-id-2 div.sk-item::before, #sk-container-id-2 div.sk-parallel-item::before {content: \"\";position: absolute;border-left: 1px solid gray;box-sizing: border-box;top: 0;bottom: 0;left: 50%;z-index: -1;}#sk-container-id-2 div.sk-parallel-item {display: flex;flex-direction: column;z-index: 1;position: relative;background-color: white;}#sk-container-id-2 div.sk-parallel-item:first-child::after {align-self: flex-end;width: 50%;}#sk-container-id-2 div.sk-parallel-item:last-child::after {align-self: flex-start;width: 50%;}#sk-container-id-2 div.sk-parallel-item:only-child::after {width: 0;}#sk-container-id-2 div.sk-dashed-wrapped {border: 1px dashed gray;margin: 0 0.4em 0.5em 0.4em;box-sizing: border-box;padding-bottom: 0.4em;background-color: white;}#sk-container-id-2 div.sk-label label {font-family: monospace;font-weight: bold;display: inline-block;line-height: 1.2em;}#sk-container-id-2 div.sk-label-container {text-align: center;}#sk-container-id-2 div.sk-container {/* jupyter's `normalize.less` sets `[hidden] { display: none; }` but bootstrap.min.css set `[hidden] { display: none !important; }` so we also need the `!important` here to be able to override the default hidden behavior on the sphinx rendered scikit-learn.org. See: https://github.com/scikit-learn/scikit-learn/issues/21755 */display: inline-block !important;position: relative;}#sk-container-id-2 div.sk-text-repr-fallback {display: none;}</style><div id=\"sk-container-id-2\" class=\"sk-top-container\"><div class=\"sk-text-repr-fallback\"><pre>XGBClassifier(base_score=None, booster=None, callbacks=None,\n",
       "              colsample_bylevel=None, colsample_bynode=None,\n",
       "              colsample_bytree=0.41725202729936983, device=None,\n",
       "              early_stopping_rounds=None, enable_categorical=False,\n",
       "              eval_metric=None, feature_types=None, gamma=4.115840568094673,\n",
       "              grow_policy=None, importance_type=None,\n",
       "              interaction_constraints=None, learning_rate=0.0010952901075629408,\n",
       "              max_bin=None, max_cat_threshold=None, max_cat_to_onehot=None,\n",
       "              max_delta_step=None, max_depth=15, max_leaves=None,\n",
       "              min_child_weight=13, missing=nan, monotone_constraints=None,\n",
       "              multi_strategy=None, n_estimators=412, n_jobs=None,\n",
       "              num_parallel_tree=None, random_state=None, ...)</pre><b>In a Jupyter environment, please rerun this cell to show the HTML representation or trust the notebook. <br />On GitHub, the HTML representation is unable to render, please try loading this page with nbviewer.org.</b></div><div class=\"sk-container\" hidden><div class=\"sk-item\"><div class=\"sk-estimator sk-toggleable\"><input class=\"sk-toggleable__control sk-hidden--visually\" id=\"sk-estimator-id-2\" type=\"checkbox\" checked><label for=\"sk-estimator-id-2\" class=\"sk-toggleable__label sk-toggleable__label-arrow\">XGBClassifier</label><div class=\"sk-toggleable__content\"><pre>XGBClassifier(base_score=None, booster=None, callbacks=None,\n",
       "              colsample_bylevel=None, colsample_bynode=None,\n",
       "              colsample_bytree=0.41725202729936983, device=None,\n",
       "              early_stopping_rounds=None, enable_categorical=False,\n",
       "              eval_metric=None, feature_types=None, gamma=4.115840568094673,\n",
       "              grow_policy=None, importance_type=None,\n",
       "              interaction_constraints=None, learning_rate=0.0010952901075629408,\n",
       "              max_bin=None, max_cat_threshold=None, max_cat_to_onehot=None,\n",
       "              max_delta_step=None, max_depth=15, max_leaves=None,\n",
       "              min_child_weight=13, missing=nan, monotone_constraints=None,\n",
       "              multi_strategy=None, n_estimators=412, n_jobs=None,\n",
       "              num_parallel_tree=None, random_state=None, ...)</pre></div></div></div></div></div>"
      ],
      "text/plain": [
       "XGBClassifier(base_score=None, booster=None, callbacks=None,\n",
       "              colsample_bylevel=None, colsample_bynode=None,\n",
       "              colsample_bytree=0.41725202729936983, device=None,\n",
       "              early_stopping_rounds=None, enable_categorical=False,\n",
       "              eval_metric=None, feature_types=None, gamma=4.115840568094673,\n",
       "              grow_policy=None, importance_type=None,\n",
       "              interaction_constraints=None, learning_rate=0.0010952901075629408,\n",
       "              max_bin=None, max_cat_threshold=None, max_cat_to_onehot=None,\n",
       "              max_delta_step=None, max_depth=15, max_leaves=None,\n",
       "              min_child_weight=13, missing=nan, monotone_constraints=None,\n",
       "              multi_strategy=None, n_estimators=412, n_jobs=None,\n",
       "              num_parallel_tree=None, random_state=None, ...)"
      ]
     },
     "execution_count": 53,
     "metadata": {},
     "output_type": "execute_result"
    }
   ],
   "source": [
    "params = {'n_estimators': 299,\n",
    " 'max_depth': 11,\n",
    " 'learning_rate': 0.0014860208273383185,\n",
    " 'subsample': 0.9075887273443851,\n",
    " 'colsample_bytree': 0.8025038021582105,\n",
    " 'gamma': 7.5856507280313155,\n",
    " 'min_child_weight': 20,\n",
    " 'reg_alpha': 0.00014965316709248853,\n",
    " 'reg_lambda': 0.00015781395873920237}\n",
    "\n",
    "xgb_model = XGBClassifier(**params)\n",
    "xgb_model.fit(X_train, y_train, verbose=False)"
   ]
  },
  {
   "cell_type": "code",
   "execution_count": 54,
   "metadata": {
    "execution": {
     "iopub.execute_input": "2024-09-07T11:11:52.265232Z",
     "iopub.status.busy": "2024-09-07T11:11:52.264716Z",
     "iopub.status.idle": "2024-09-07T11:11:59.267544Z",
     "shell.execute_reply": "2024-09-07T11:11:59.265633Z",
     "shell.execute_reply.started": "2024-09-07T11:11:52.265180Z"
    }
   },
   "outputs": [],
   "source": [
    "xgb_prediction = xgb_model.predict_proba(X_test)"
   ]
  },
  {
   "cell_type": "code",
   "execution_count": 55,
   "metadata": {
    "execution": {
     "iopub.execute_input": "2024-09-07T11:11:59.270112Z",
     "iopub.status.busy": "2024-09-07T11:11:59.269340Z",
     "iopub.status.idle": "2024-09-07T11:11:59.278978Z",
     "shell.execute_reply": "2024-09-07T11:11:59.277669Z",
     "shell.execute_reply.started": "2024-09-07T11:11:59.270063Z"
    }
   },
   "outputs": [
    {
     "data": {
      "text/plain": [
       "array([0.72868663, 0.66551125, 0.70614153, ..., 0.52039796, 0.72342235,\n",
       "       0.70251113], dtype=float32)"
      ]
     },
     "execution_count": 55,
     "metadata": {},
     "output_type": "execute_result"
    }
   ],
   "source": [
    "xgb_prediction = xgb_prediction[:, 1]\n",
    "xgb_prediction"
   ]
  },
  {
   "cell_type": "code",
   "execution_count": 56,
   "metadata": {
    "execution": {
     "iopub.execute_input": "2024-09-07T11:11:59.281636Z",
     "iopub.status.busy": "2024-09-07T11:11:59.281136Z",
     "iopub.status.idle": "2024-09-07T11:11:59.359818Z",
     "shell.execute_reply": "2024-09-07T11:11:59.358609Z",
     "shell.execute_reply.started": "2024-09-07T11:11:59.281581Z"
    }
   },
   "outputs": [],
   "source": [
    "df_final = pd.concat([train, test], axis = 0, ignore_index = True)"
   ]
  },
  {
   "cell_type": "code",
   "execution_count": 57,
   "metadata": {
    "execution": {
     "iopub.execute_input": "2024-09-07T11:11:59.362192Z",
     "iopub.status.busy": "2024-09-07T11:11:59.361621Z",
     "iopub.status.idle": "2024-09-07T11:12:00.422954Z",
     "shell.execute_reply": "2024-09-07T11:12:00.421607Z",
     "shell.execute_reply.started": "2024-09-07T11:11:59.362091Z"
    }
   },
   "outputs": [],
   "source": [
    "for col in cat_features:\n",
    "    df_final[col] = encoder.fit_transform(df_final[col])\n",
    "    \n",
    "for col in cat_features:\n",
    "    df_final[col] = df_final[col].astype('int')"
   ]
  },
  {
   "cell_type": "code",
   "execution_count": 58,
   "metadata": {
    "execution": {
     "iopub.execute_input": "2024-09-07T11:12:00.424948Z",
     "iopub.status.busy": "2024-09-07T11:12:00.424545Z",
     "iopub.status.idle": "2024-09-07T11:12:00.439371Z",
     "shell.execute_reply": "2024-09-07T11:12:00.438070Z",
     "shell.execute_reply.started": "2024-09-07T11:12:00.424908Z"
    }
   },
   "outputs": [],
   "source": [
    "for col in cat_features:\n",
    "    solution[col] = encoder.fit_transform(solution[col])\n",
    "    \n",
    "for col in cat_features:\n",
    "    solution[col] = solution[col].astype('int')"
   ]
  },
  {
   "cell_type": "code",
   "execution_count": 59,
   "metadata": {
    "execution": {
     "iopub.execute_input": "2024-09-07T11:12:00.441173Z",
     "iopub.status.busy": "2024-09-07T11:12:00.440759Z",
     "iopub.status.idle": "2024-09-07T11:12:00.593811Z",
     "shell.execute_reply": "2024-09-07T11:12:00.592391Z",
     "shell.execute_reply.started": "2024-09-07T11:12:00.441133Z"
    }
   },
   "outputs": [],
   "source": [
    "X = df_final.drop('result', axis=1)\n",
    "y = df_final['result']"
   ]
  },
  {
   "cell_type": "code",
   "execution_count": 60,
   "metadata": {
    "collapsed": true,
    "execution": {
     "iopub.execute_input": "2024-09-07T11:12:00.595974Z",
     "iopub.status.busy": "2024-09-07T11:12:00.595387Z",
     "iopub.status.idle": "2024-09-07T11:14:03.420547Z",
     "shell.execute_reply": "2024-09-07T11:14:03.419237Z",
     "shell.execute_reply.started": "2024-09-07T11:12:00.595915Z"
    },
    "jupyter": {
     "outputs_hidden": true
    }
   },
   "outputs": [
    {
     "data": {
      "text/html": [
       "<style>#sk-container-id-3 {color: black;background-color: white;}#sk-container-id-3 pre{padding: 0;}#sk-container-id-3 div.sk-toggleable {background-color: white;}#sk-container-id-3 label.sk-toggleable__label {cursor: pointer;display: block;width: 100%;margin-bottom: 0;padding: 0.3em;box-sizing: border-box;text-align: center;}#sk-container-id-3 label.sk-toggleable__label-arrow:before {content: \"▸\";float: left;margin-right: 0.25em;color: #696969;}#sk-container-id-3 label.sk-toggleable__label-arrow:hover:before {color: black;}#sk-container-id-3 div.sk-estimator:hover label.sk-toggleable__label-arrow:before {color: black;}#sk-container-id-3 div.sk-toggleable__content {max-height: 0;max-width: 0;overflow: hidden;text-align: left;background-color: #f0f8ff;}#sk-container-id-3 div.sk-toggleable__content pre {margin: 0.2em;color: black;border-radius: 0.25em;background-color: #f0f8ff;}#sk-container-id-3 input.sk-toggleable__control:checked~div.sk-toggleable__content {max-height: 200px;max-width: 100%;overflow: auto;}#sk-container-id-3 input.sk-toggleable__control:checked~label.sk-toggleable__label-arrow:before {content: \"▾\";}#sk-container-id-3 div.sk-estimator input.sk-toggleable__control:checked~label.sk-toggleable__label {background-color: #d4ebff;}#sk-container-id-3 div.sk-label input.sk-toggleable__control:checked~label.sk-toggleable__label {background-color: #d4ebff;}#sk-container-id-3 input.sk-hidden--visually {border: 0;clip: rect(1px 1px 1px 1px);clip: rect(1px, 1px, 1px, 1px);height: 1px;margin: -1px;overflow: hidden;padding: 0;position: absolute;width: 1px;}#sk-container-id-3 div.sk-estimator {font-family: monospace;background-color: #f0f8ff;border: 1px dotted black;border-radius: 0.25em;box-sizing: border-box;margin-bottom: 0.5em;}#sk-container-id-3 div.sk-estimator:hover {background-color: #d4ebff;}#sk-container-id-3 div.sk-parallel-item::after {content: \"\";width: 100%;border-bottom: 1px solid gray;flex-grow: 1;}#sk-container-id-3 div.sk-label:hover label.sk-toggleable__label {background-color: #d4ebff;}#sk-container-id-3 div.sk-serial::before {content: \"\";position: absolute;border-left: 1px solid gray;box-sizing: border-box;top: 0;bottom: 0;left: 50%;z-index: 0;}#sk-container-id-3 div.sk-serial {display: flex;flex-direction: column;align-items: center;background-color: white;padding-right: 0.2em;padding-left: 0.2em;position: relative;}#sk-container-id-3 div.sk-item {position: relative;z-index: 1;}#sk-container-id-3 div.sk-parallel {display: flex;align-items: stretch;justify-content: center;background-color: white;position: relative;}#sk-container-id-3 div.sk-item::before, #sk-container-id-3 div.sk-parallel-item::before {content: \"\";position: absolute;border-left: 1px solid gray;box-sizing: border-box;top: 0;bottom: 0;left: 50%;z-index: -1;}#sk-container-id-3 div.sk-parallel-item {display: flex;flex-direction: column;z-index: 1;position: relative;background-color: white;}#sk-container-id-3 div.sk-parallel-item:first-child::after {align-self: flex-end;width: 50%;}#sk-container-id-3 div.sk-parallel-item:last-child::after {align-self: flex-start;width: 50%;}#sk-container-id-3 div.sk-parallel-item:only-child::after {width: 0;}#sk-container-id-3 div.sk-dashed-wrapped {border: 1px dashed gray;margin: 0 0.4em 0.5em 0.4em;box-sizing: border-box;padding-bottom: 0.4em;background-color: white;}#sk-container-id-3 div.sk-label label {font-family: monospace;font-weight: bold;display: inline-block;line-height: 1.2em;}#sk-container-id-3 div.sk-label-container {text-align: center;}#sk-container-id-3 div.sk-container {/* jupyter's `normalize.less` sets `[hidden] { display: none; }` but bootstrap.min.css set `[hidden] { display: none !important; }` so we also need the `!important` here to be able to override the default hidden behavior on the sphinx rendered scikit-learn.org. See: https://github.com/scikit-learn/scikit-learn/issues/21755 */display: inline-block !important;position: relative;}#sk-container-id-3 div.sk-text-repr-fallback {display: none;}</style><div id=\"sk-container-id-3\" class=\"sk-top-container\"><div class=\"sk-text-repr-fallback\"><pre>XGBClassifier(base_score=None, booster=None, callbacks=None,\n",
       "              colsample_bylevel=None, colsample_bynode=None,\n",
       "              colsample_bytree=0.41725202729936983, device=None,\n",
       "              early_stopping_rounds=None, enable_categorical=False,\n",
       "              eval_metric=None, feature_types=None, gamma=4.115840568094673,\n",
       "              grow_policy=None, importance_type=None,\n",
       "              interaction_constraints=None, learning_rate=0.0010952901075629408,\n",
       "              max_bin=None, max_cat_threshold=None, max_cat_to_onehot=None,\n",
       "              max_delta_step=None, max_depth=15, max_leaves=None,\n",
       "              min_child_weight=13, missing=nan, monotone_constraints=None,\n",
       "              multi_strategy=None, n_estimators=412, n_jobs=None,\n",
       "              num_parallel_tree=None, random_state=None, ...)</pre><b>In a Jupyter environment, please rerun this cell to show the HTML representation or trust the notebook. <br />On GitHub, the HTML representation is unable to render, please try loading this page with nbviewer.org.</b></div><div class=\"sk-container\" hidden><div class=\"sk-item\"><div class=\"sk-estimator sk-toggleable\"><input class=\"sk-toggleable__control sk-hidden--visually\" id=\"sk-estimator-id-3\" type=\"checkbox\" checked><label for=\"sk-estimator-id-3\" class=\"sk-toggleable__label sk-toggleable__label-arrow\">XGBClassifier</label><div class=\"sk-toggleable__content\"><pre>XGBClassifier(base_score=None, booster=None, callbacks=None,\n",
       "              colsample_bylevel=None, colsample_bynode=None,\n",
       "              colsample_bytree=0.41725202729936983, device=None,\n",
       "              early_stopping_rounds=None, enable_categorical=False,\n",
       "              eval_metric=None, feature_types=None, gamma=4.115840568094673,\n",
       "              grow_policy=None, importance_type=None,\n",
       "              interaction_constraints=None, learning_rate=0.0010952901075629408,\n",
       "              max_bin=None, max_cat_threshold=None, max_cat_to_onehot=None,\n",
       "              max_delta_step=None, max_depth=15, max_leaves=None,\n",
       "              min_child_weight=13, missing=nan, monotone_constraints=None,\n",
       "              multi_strategy=None, n_estimators=412, n_jobs=None,\n",
       "              num_parallel_tree=None, random_state=None, ...)</pre></div></div></div></div></div>"
      ],
      "text/plain": [
       "XGBClassifier(base_score=None, booster=None, callbacks=None,\n",
       "              colsample_bylevel=None, colsample_bynode=None,\n",
       "              colsample_bytree=0.41725202729936983, device=None,\n",
       "              early_stopping_rounds=None, enable_categorical=False,\n",
       "              eval_metric=None, feature_types=None, gamma=4.115840568094673,\n",
       "              grow_policy=None, importance_type=None,\n",
       "              interaction_constraints=None, learning_rate=0.0010952901075629408,\n",
       "              max_bin=None, max_cat_threshold=None, max_cat_to_onehot=None,\n",
       "              max_delta_step=None, max_depth=15, max_leaves=None,\n",
       "              min_child_weight=13, missing=nan, monotone_constraints=None,\n",
       "              multi_strategy=None, n_estimators=412, n_jobs=None,\n",
       "              num_parallel_tree=None, random_state=None, ...)"
      ]
     },
     "execution_count": 60,
     "metadata": {},
     "output_type": "execute_result"
    }
   ],
   "source": [
    "params = {'n_estimators': 299,\n",
    " 'max_depth': 11,\n",
    " 'learning_rate': 0.0014860208273383185,\n",
    " 'subsample': 0.9075887273443851,\n",
    " 'colsample_bytree': 0.8025038021582105,\n",
    " 'gamma': 7.5856507280313155,\n",
    " 'min_child_weight': 20,\n",
    " 'reg_alpha': 0.00014965316709248853,\n",
    " 'reg_lambda': 0.00015781395873920237}\n",
    "\n",
    "final_xgb_model = XGBClassifier(**params)\n",
    "final_xgb_model.fit(X, y, verbose=False)"
   ]
  },
  {
   "cell_type": "code",
   "execution_count": 61,
   "metadata": {
    "execution": {
     "iopub.execute_input": "2024-09-07T11:14:03.422625Z",
     "iopub.status.busy": "2024-09-07T11:14:03.422240Z",
     "iopub.status.idle": "2024-09-07T11:14:03.454749Z",
     "shell.execute_reply": "2024-09-07T11:14:03.453808Z",
     "shell.execute_reply.started": "2024-09-07T11:14:03.422587Z"
    }
   },
   "outputs": [],
   "source": [
    "final_xgb_prediction = final_xgb_model.predict_proba(solution)"
   ]
  },
  {
   "cell_type": "code",
   "execution_count": 62,
   "metadata": {
    "collapsed": true,
    "execution": {
     "iopub.execute_input": "2024-09-07T11:14:03.456542Z",
     "iopub.status.busy": "2024-09-07T11:14:03.455951Z",
     "iopub.status.idle": "2024-09-07T11:14:03.467702Z",
     "shell.execute_reply": "2024-09-07T11:14:03.466190Z",
     "shell.execute_reply.started": "2024-09-07T11:14:03.456499Z"
    },
    "jupyter": {
     "outputs_hidden": true
    }
   },
   "outputs": [
    {
     "data": {
      "text/plain": [
       "array([0.79590136, 0.70105535, 0.75217414, 0.8154675 , 0.6489998 ,\n",
       "       0.51096356, 0.81984425, 0.7848547 , 0.8219542 , 0.69697714,\n",
       "       0.799045  , 0.74284905, 0.5208732 , 0.80549115, 0.49988714,\n",
       "       0.8063885 , 0.59847105, 0.78990173, 0.8055647 , 0.8141787 ,\n",
       "       0.7238877 , 0.82387245, 0.7770881 , 0.64291835, 0.77670515,\n",
       "       0.7831655 , 0.49858636, 0.80874383, 0.7154634 , 0.51212317,\n",
       "       0.8237738 , 0.80054665, 0.79089874, 0.81966937, 0.7968664 ,\n",
       "       0.7467841 , 0.8237276 , 0.80776495, 0.8039408 , 0.79067886,\n",
       "       0.6304739 , 0.7757555 , 0.8219248 , 0.6768695 , 0.75197667,\n",
       "       0.7983356 , 0.5828197 , 0.8151895 , 0.7579323 , 0.6523451 ,\n",
       "       0.7756315 , 0.7941587 , 0.8099554 , 0.7775227 , 0.82100475,\n",
       "       0.64272404, 0.82109886, 0.80347234, 0.71851134, 0.8214272 ,\n",
       "       0.8197634 , 0.80762523, 0.81069857, 0.8149333 , 0.7128265 ,\n",
       "       0.82325524, 0.81936234, 0.8030402 , 0.8154711 , 0.8002423 ,\n",
       "       0.80312175, 0.8157592 , 0.8221579 , 0.7137693 , 0.60302126,\n",
       "       0.8135098 , 0.7954471 , 0.60301256, 0.6194395 , 0.81849086,\n",
       "       0.56690216, 0.689714  , 0.8210852 , 0.8152325 , 0.81412256,\n",
       "       0.53255916, 0.7918133 , 0.8211759 , 0.82274455, 0.49767283,\n",
       "       0.54914564, 0.73014015, 0.81802064, 0.8140769 , 0.8030666 ,\n",
       "       0.8004518 , 0.8221708 , 0.7176493 , 0.81151885, 0.66088617,\n",
       "       0.81590617, 0.5211631 , 0.76398396, 0.8123108 , 0.81844616,\n",
       "       0.8225485 , 0.8175995 , 0.81234074, 0.78356963, 0.7503543 ,\n",
       "       0.80425566, 0.6916345 , 0.7946311 , 0.80297303, 0.7982232 ,\n",
       "       0.8057482 , 0.48931608, 0.74016434, 0.822846  , 0.81929505,\n",
       "       0.788651  , 0.8238261 , 0.8135978 , 0.7616581 , 0.82254785,\n",
       "       0.80564547, 0.7615773 , 0.78242445, 0.6485495 , 0.8015117 ,\n",
       "       0.7741511 , 0.7794588 , 0.81576663, 0.74051195, 0.77858406,\n",
       "       0.75912005, 0.7513936 , 0.81070703, 0.5795572 , 0.82323563,\n",
       "       0.67373836, 0.8110706 , 0.8190481 , 0.7564706 , 0.81671244,\n",
       "       0.8222684 , 0.77494675, 0.81808686, 0.5251887 , 0.8105601 ,\n",
       "       0.80453354, 0.81018406, 0.79729193, 0.8231864 , 0.77108973,\n",
       "       0.8215931 , 0.8092794 , 0.8084801 , 0.671037  , 0.79215074,\n",
       "       0.806649  , 0.70883495, 0.7055153 , 0.80991095, 0.7413673 ,\n",
       "       0.58076406, 0.813967  , 0.7084519 , 0.7441443 , 0.67887706,\n",
       "       0.77608454, 0.796998  , 0.503652  , 0.7845755 , 0.79653424,\n",
       "       0.7382185 , 0.7979909 , 0.821885  , 0.5811356 , 0.72904164,\n",
       "       0.76865256, 0.7488246 , 0.8056742 , 0.8238674 , 0.77764845,\n",
       "       0.79923064, 0.5928693 , 0.81162256, 0.6860702 , 0.80648935,\n",
       "       0.8144737 , 0.79773587, 0.81707966, 0.81961983, 0.82096493,\n",
       "       0.7507289 , 0.8070626 , 0.8092117 , 0.6524045 , 0.79701567,\n",
       "       0.7890719 , 0.7888299 , 0.7839998 , 0.8146711 , 0.8230489 ,\n",
       "       0.5654982 , 0.6234047 , 0.8192446 , 0.76311857, 0.7951338 ,\n",
       "       0.8225656 , 0.7688674 , 0.81574136, 0.8098854 , 0.8221336 ,\n",
       "       0.8158715 , 0.82341015, 0.823853  , 0.78083044, 0.81163013,\n",
       "       0.7763101 , 0.5782972 , 0.8238266 , 0.8001689 , 0.6420815 ,\n",
       "       0.8168962 , 0.8034031 , 0.76716846, 0.8104251 , 0.81457895,\n",
       "       0.8080035 , 0.8108481 , 0.71279585, 0.5839078 , 0.81023306,\n",
       "       0.73014575, 0.80868065, 0.81812733, 0.809445  , 0.81851065,\n",
       "       0.78483737, 0.8224717 , 0.7412982 , 0.8206192 , 0.8232596 ,\n",
       "       0.8236646 , 0.71897304, 0.7964546 , 0.8162119 , 0.74338233,\n",
       "       0.59715104, 0.54771477, 0.6408731 , 0.8094818 , 0.80943155,\n",
       "       0.81940323, 0.7740698 , 0.78181076, 0.81885916, 0.7827519 ,\n",
       "       0.5010485 , 0.5201726 , 0.814087  , 0.81560594, 0.681173  ,\n",
       "       0.81779104, 0.72517633, 0.7869909 , 0.8131714 , 0.82131165,\n",
       "       0.8113617 , 0.8119239 , 0.5897412 , 0.78571826, 0.8165114 ,\n",
       "       0.80768347, 0.71315044, 0.8061535 , 0.7909351 , 0.82361025,\n",
       "       0.8195951 , 0.82179695, 0.817333  , 0.8127824 , 0.71704084,\n",
       "       0.817297  , 0.8185788 , 0.80261415, 0.8237289 , 0.56884974,\n",
       "       0.81139404, 0.7901013 , 0.8192908 , 0.51012695, 0.807663  ,\n",
       "       0.8091559 , 0.8238213 , 0.79913825, 0.80195075, 0.78908825,\n",
       "       0.76249313, 0.7656925 , 0.8161545 , 0.7767937 , 0.81904477,\n",
       "       0.8128247 , 0.7840564 , 0.82387245, 0.8108432 , 0.79475415,\n",
       "       0.7566122 , 0.60170484, 0.7980398 , 0.73512745, 0.8229083 ,\n",
       "       0.82331365, 0.77856266, 0.817503  , 0.813495  , 0.81821066,\n",
       "       0.82142586, 0.8154    , 0.8121174 , 0.7862562 , 0.8091657 ,\n",
       "       0.8231723 , 0.8201069 , 0.822343  , 0.6854305 , 0.82387245,\n",
       "       0.7232397 , 0.59425837, 0.8074267 , 0.77382475, 0.80245984,\n",
       "       0.82178813, 0.8226825 , 0.77378064, 0.80715245, 0.80231345,\n",
       "       0.79211503, 0.81415987], dtype=float32)"
      ]
     },
     "execution_count": 62,
     "metadata": {},
     "output_type": "execute_result"
    }
   ],
   "source": [
    "final_xgb_prediction = final_xgb_prediction[:, 1]\n",
    "final_xgb_prediction"
   ]
  },
  {
   "cell_type": "code",
   "execution_count": 63,
   "metadata": {
    "execution": {
     "iopub.execute_input": "2024-09-07T11:14:03.470337Z",
     "iopub.status.busy": "2024-09-07T11:14:03.469689Z",
     "iopub.status.idle": "2024-09-07T11:14:03.507381Z",
     "shell.execute_reply": "2024-09-07T11:14:03.506401Z",
     "shell.execute_reply.started": "2024-09-07T11:14:03.470279Z"
    }
   },
   "outputs": [],
   "source": [
    "submission = pd.DataFrame({'ID':solution.index})\n",
    "submission['result'] = final_xgb_model.predict(solution)"
   ]
  },
  {
   "cell_type": "code",
   "execution_count": 64,
   "metadata": {
    "execution": {
     "iopub.execute_input": "2024-09-07T11:14:03.509968Z",
     "iopub.status.busy": "2024-09-07T11:14:03.508735Z",
     "iopub.status.idle": "2024-09-07T11:14:03.519751Z",
     "shell.execute_reply": "2024-09-07T11:14:03.518372Z",
     "shell.execute_reply.started": "2024-09-07T11:14:03.509915Z"
    }
   },
   "outputs": [
    {
     "data": {
      "text/plain": [
       "result\n",
       "1    338\n",
       "0      4\n",
       "Name: count, dtype: int64"
      ]
     },
     "execution_count": 64,
     "metadata": {},
     "output_type": "execute_result"
    }
   ],
   "source": [
    "submission['result'].value_counts()"
   ]
  },
  {
   "cell_type": "code",
   "execution_count": 65,
   "metadata": {
    "execution": {
     "iopub.execute_input": "2024-09-07T11:14:03.521914Z",
     "iopub.status.busy": "2024-09-07T11:14:03.521413Z",
     "iopub.status.idle": "2024-09-07T11:14:03.536787Z",
     "shell.execute_reply": "2024-09-07T11:14:03.535573Z",
     "shell.execute_reply.started": "2024-09-07T11:14:03.521861Z"
    }
   },
   "outputs": [],
   "source": [
    "submission.to_csv('Tuned_XGBoost', index=False)"
   ]
  },
  {
   "cell_type": "markdown",
   "metadata": {},
   "source": [
    "## Baseline LightGBM for feature importance"
   ]
  },
  {
   "cell_type": "code",
   "execution_count": 66,
   "metadata": {
    "execution": {
     "iopub.execute_input": "2024-09-07T11:14:03.538628Z",
     "iopub.status.busy": "2024-09-07T11:14:03.538229Z",
     "iopub.status.idle": "2024-09-07T11:14:03.547192Z",
     "shell.execute_reply": "2024-09-07T11:14:03.545866Z",
     "shell.execute_reply.started": "2024-09-07T11:14:03.538589Z"
    }
   },
   "outputs": [],
   "source": [
    "encoder = LabelEncoder()"
   ]
  },
  {
   "cell_type": "code",
   "execution_count": 67,
   "metadata": {
    "execution": {
     "iopub.execute_input": "2024-09-07T11:14:03.549220Z",
     "iopub.status.busy": "2024-09-07T11:14:03.548739Z",
     "iopub.status.idle": "2024-09-07T11:14:03.863747Z",
     "shell.execute_reply": "2024-09-07T11:14:03.862747Z",
     "shell.execute_reply.started": "2024-09-07T11:14:03.549165Z"
    }
   },
   "outputs": [],
   "source": [
    "for col in cat_features:\n",
    "    X_train[col] = encoder.fit_transform(X_train[col])\n",
    "    X_test[col] = encoder.transform(X_test[col])\n",
    "    \n",
    "for col in cat_features:\n",
    "    X_train[col] = X_train[col].astype('int')\n",
    "    X_test[col] = X_test[col].astype('int')"
   ]
  },
  {
   "cell_type": "code",
   "execution_count": 68,
   "metadata": {
    "execution": {
     "iopub.execute_input": "2024-09-07T11:14:03.865767Z",
     "iopub.status.busy": "2024-09-07T11:14:03.865287Z",
     "iopub.status.idle": "2024-09-07T11:14:13.301520Z",
     "shell.execute_reply": "2024-09-07T11:14:13.300185Z",
     "shell.execute_reply.started": "2024-09-07T11:14:03.865713Z"
    }
   },
   "outputs": [
    {
     "name": "stdout",
     "output_type": "stream",
     "text": [
      "[LightGBM] [Info] Number of positive: 248591, number of negative: 149155\n",
      "[LightGBM] [Info] Auto-choosing row-wise multi-threading, the overhead of testing was 0.067117 seconds.\n",
      "You can set `force_row_wise=true` to remove the overhead.\n",
      "And if memory is not enough, you can set `force_col_wise=true`.\n",
      "[LightGBM] [Info] Total Bins 4879\n",
      "[LightGBM] [Info] Number of data points in the train set: 397746, number of used features: 29\n",
      "[LightGBM] [Info] [binary:BoostFromScore]: pavg=0.624999 -> initscore=0.510823\n",
      "[LightGBM] [Info] Start training from score 0.510823\n"
     ]
    },
    {
     "data": {
      "image/png": "[encoded data removed]",
      "text/plain": [
       "<Figure size 1200x1000 with 1 Axes>"
      ]
     },
     "metadata": {},
     "output_type": "display_data"
    }
   ],
   "source": [
    "LGB = LGBMClassifier(metric='F1')\n",
    "LGB.fit(X_train, y_train, categorical_feature=cat_features, eval_metric='F1')\n",
    "lgb.plot_importance(LGB, importance_type=\"gain\", figsize=(12,10), max_num_features=12,\n",
    "                    title=\"LightGBM Feature Importance (Gain)\")\n",
    "plt.show()"
   ]
  },
  {
   "cell_type": "code",
   "execution_count": 69,
   "metadata": {
    "execution": {
     "iopub.execute_input": "2024-09-07T11:14:13.303584Z",
     "iopub.status.busy": "2024-09-07T11:14:13.303186Z",
     "iopub.status.idle": "2024-09-07T11:14:13.313450Z",
     "shell.execute_reply": "2024-09-07T11:14:13.312024Z",
     "shell.execute_reply.started": "2024-09-07T11:14:13.303544Z"
    }
   },
   "outputs": [],
   "source": [
    "importance_values = LGB.booster_.feature_importance(importance_type='gain')\n",
    "\n",
    "feature_importance_df = pd.DataFrame({\n",
    "    'Feature': X_train.columns,\n",
    "    'Importance': importance_values\n",
    "})\n",
    "\n",
    "feature_importance_df = feature_importance_df.sort_values(by='Importance', ascending=False)\n",
    "\n",
    "best_features_1 = feature_importance_df.head(15)['Feature']"
   ]
  },
  {
   "cell_type": "markdown",
   "metadata": {},
   "source": [
    "## Tuned LightGBM"
   ]
  },
  {
   "cell_type": "code",
   "execution_count": 70,
   "metadata": {
    "execution": {
     "iopub.execute_input": "2024-09-07T11:14:13.315302Z",
     "iopub.status.busy": "2024-09-07T11:14:13.314920Z",
     "iopub.status.idle": "2024-09-07T11:35:02.391744Z",
     "shell.execute_reply": "2024-09-07T11:35:02.390298Z",
     "shell.execute_reply.started": "2024-09-07T11:14:13.315262Z"
    }
   },
   "outputs": [],
   "source": [
    "perm_importance = permutation_importance(LGB, X_train, y_train, n_repeats=10, random_state=42)"
   ]
  },
  {
   "cell_type": "code",
   "execution_count": 71,
   "metadata": {
    "execution": {
     "iopub.execute_input": "2024-09-07T11:35:02.393766Z",
     "iopub.status.busy": "2024-09-07T11:35:02.393384Z",
     "iopub.status.idle": "2024-09-07T11:35:02.776007Z",
     "shell.execute_reply": "2024-09-07T11:35:02.774604Z",
     "shell.execute_reply.started": "2024-09-07T11:35:02.393726Z"
    }
   },
   "outputs": [
    {
     "data": {
      "image/png": "[encoded data removed]",
      "text/plain": [
       "<Figure size 1200x600 with 1 Axes>"
      ]
     },
     "metadata": {},
     "output_type": "display_data"
    }
   ],
   "source": [
    "sorted_idx = perm_importance.importances_mean.argsort()[-n_features:]\n",
    "best_features_2 = X_train.columns[sorted_idx][-n_features:].values\n",
    "\n",
    "fig = plt.figure(figsize=(12, 6))\n",
    "plt.barh(range(len(sorted_idx)), perm_importance.importances_mean[sorted_idx], align='center')\n",
    "plt.yticks(range(len(sorted_idx)), np.array(X_train.columns)[sorted_idx])\n",
    "plt.title('Permutation Importance');"
   ]
  },
  {
   "cell_type": "code",
   "execution_count": 72,
   "metadata": {
    "execution": {
     "iopub.execute_input": "2024-09-07T11:35:02.777956Z",
     "iopub.status.busy": "2024-09-07T11:35:02.777561Z",
     "iopub.status.idle": "2024-09-07T11:35:02.785841Z",
     "shell.execute_reply": "2024-09-07T11:35:02.784597Z",
     "shell.execute_reply.started": "2024-09-07T11:35:02.777916Z"
    }
   },
   "outputs": [],
   "source": [
    "best_features = [i for i in best_features_1 if i in best_features_2]"
   ]
  },
  {
   "cell_type": "code",
   "execution_count": 73,
   "metadata": {
    "execution": {
     "iopub.execute_input": "2024-09-07T11:35:02.788626Z",
     "iopub.status.busy": "2024-09-07T11:35:02.788067Z",
     "iopub.status.idle": "2024-09-07T11:35:02.800239Z",
     "shell.execute_reply": "2024-09-07T11:35:02.798855Z",
     "shell.execute_reply.started": "2024-09-07T11:35:02.788571Z"
    }
   },
   "outputs": [],
   "source": [
    "logging.basicConfig(level=logging.INFO)\n",
    "\n",
    "def objective(trial: Trial):\n",
    "    params = {\n",
    "        'n_estimators': trial.suggest_int('n_estimators', 50, 1000),\n",
    "        'max_depth': trial.suggest_int('max_depth', -1, 15),\n",
    "        'learning_rate': trial.suggest_float('learning_rate', 1e-5, 0.3, log=True),\n",
    "        'num_leaves': trial.suggest_int('num_leaves', 20, 150),\n",
    "        'feature_fraction': trial.suggest_float('feature_fraction', 0.5, 1.0),\n",
    "        'bagging_fraction': trial.suggest_float('bagging_fraction', 0.5, 1.0),\n",
    "        'bagging_freq': trial.suggest_int('bagging_freq', 1, 7),\n",
    "        'min_child_samples': trial.suggest_int('min_child_samples', 5, 100),\n",
    "        'reg_alpha': trial.suggest_float('reg_alpha', 1e-5, 100, log=True),\n",
    "        'reg_lambda': trial.suggest_float('reg_lambda', 1e-5, 100, log=True),\n",
    "        'verbosity': -1\n",
    "    }\n",
    "\n",
    "    lightgbm_model = LGBMClassifier(**params)\n",
    "    lightgbm_model.fit(X_train[best_features], y_train)\n",
    "    prediction = lightgbm_model.predict(X_test[best_features])\n",
    "    \n",
    "    score = f1_score(y_test, prediction)\n",
    "    logging.info(f\"Trial {trial.number}: params={params}, score={score}\")\n",
    "    \n",
    "    return score"
   ]
  },
  {
   "cell_type": "code",
   "execution_count": 74,
   "metadata": {
    "collapsed": true,
    "execution": {
     "iopub.execute_input": "2024-09-07T11:35:02.802767Z",
     "iopub.status.busy": "2024-09-07T11:35:02.801828Z",
     "iopub.status.idle": "2024-09-07T12:59:02.095057Z",
     "shell.execute_reply": "2024-09-07T12:59:02.093394Z",
     "shell.execute_reply.started": "2024-09-07T11:35:02.802713Z"
    },
    "jupyter": {
     "outputs_hidden": true
    }
   },
   "outputs": [
    {
     "name": "stderr",
     "output_type": "stream",
     "text": [
      "[I 2024-09-07 11:35:02,817] A new study created in memory with name: no-name-78379062-c0a8-422d-b0c7-2502db402d02\n"
     ]
    },
    {
     "data": {
      "application/vnd.jupyter.widget-view+json": {
       "model_id": "dd33e0eea51e4c56aa8fd3bc734df3eb",
       "version_major": 2,
       "version_minor": 0
      },
      "text/plain": [
       "  0%|          | 0/50 [00:00<?, ?it/s]"
      ]
     },
     "metadata": {},
     "output_type": "display_data"
    },
    {
     "name": "stdout",
     "output_type": "stream",
     "text": [
      "[I 2024-09-07 11:37:09,251] Trial 0 finished with value: 0.9473644411201435 and parameters: {'n_estimators': 954, 'max_depth': 11, 'learning_rate': 0.0005714749625885501, 'num_leaves': 32, 'feature_fraction': 0.8268962923895, 'bagging_fraction': 0.7100080379792898, 'bagging_freq': 5, 'min_child_samples': 87, 'reg_alpha': 0.005236962276650092, 'reg_lambda': 2.903516483974994}. Best is trial 0 with value: 0.9473644411201435.\n",
      "[I 2024-09-07 11:37:58,083] Trial 1 finished with value: 0.933652105789232 and parameters: {'n_estimators': 834, 'max_depth': 2, 'learning_rate': 0.016003209156457233, 'num_leaves': 52, 'feature_fraction': 0.7494109192722049, 'bagging_fraction': 0.7453227364387561, 'bagging_freq': 1, 'min_child_samples': 66, 'reg_alpha': 0.004460444540423867, 'reg_lambda': 7.097462723025672}. Best is trial 0 with value: 0.9473644411201435.\n",
      "[I 2024-09-07 11:38:13,658] Trial 2 finished with value: 0.9358292571467257 and parameters: {'n_estimators': 293, 'max_depth': 2, 'learning_rate': 0.142154597569567, 'num_leaves': 63, 'feature_fraction': 0.6730246959183721, 'bagging_fraction': 0.6972515717561896, 'bagging_freq': 5, 'min_child_samples': 74, 'reg_alpha': 0.11982311179844916, 'reg_lambda': 1.6162093127033166e-05}. Best is trial 0 with value: 0.9473644411201435.\n",
      "[I 2024-09-07 11:38:43,833] Trial 3 finished with value: 0.9287271324419316 and parameters: {'n_estimators': 233, 'max_depth': 6, 'learning_rate': 0.019035465302216857, 'num_leaves': 128, 'feature_fraction': 0.7882634411693001, 'bagging_fraction': 0.9655592461627587, 'bagging_freq': 7, 'min_child_samples': 18, 'reg_alpha': 64.00199474506519, 'reg_lambda': 0.11171752586069063}. Best is trial 0 with value: 0.9473644411201435.\n",
      "[I 2024-09-07 11:39:37,615] Trial 4 finished with value: 0.94177967468579 and parameters: {'n_estimators': 316, 'max_depth': -1, 'learning_rate': 0.00044598481336449773, 'num_leaves': 78, 'feature_fraction': 0.9551945247135315, 'bagging_fraction': 0.8168819548951366, 'bagging_freq': 4, 'min_child_samples': 38, 'reg_alpha': 0.0002211223614909718, 'reg_lambda': 0.0013864327927597532}. Best is trial 0 with value: 0.9473644411201435.\n",
      "[I 2024-09-07 11:40:22,754] Trial 5 finished with value: 0.94177967468579 and parameters: {'n_estimators': 796, 'max_depth': 2, 'learning_rate': 0.00023833625666630785, 'num_leaves': 77, 'feature_fraction': 0.8197257029695546, 'bagging_fraction': 0.8747318557453582, 'bagging_freq': 4, 'min_child_samples': 8, 'reg_alpha': 4.121444782727431e-05, 'reg_lambda': 0.001824561295489829}. Best is trial 0 with value: 0.9473644411201435.\n",
      "[I 2024-09-07 11:42:50,966] Trial 6 finished with value: 0.9151981113351231 and parameters: {'n_estimators': 858, 'max_depth': 10, 'learning_rate': 0.10620139596092762, 'num_leaves': 117, 'feature_fraction': 0.6932682233723784, 'bagging_fraction': 0.6787314191628845, 'bagging_freq': 5, 'min_child_samples': 64, 'reg_alpha': 0.00011669588032047489, 'reg_lambda': 37.76028881323074}. Best is trial 0 with value: 0.9473644411201435.\n",
      "[I 2024-09-07 11:43:44,458] Trial 7 finished with value: 0.927378328977263 and parameters: {'n_estimators': 385, 'max_depth': 6, 'learning_rate': 0.010004828083834882, 'num_leaves': 34, 'feature_fraction': 0.9187665341708118, 'bagging_fraction': 0.9831157390881726, 'bagging_freq': 3, 'min_child_samples': 54, 'reg_alpha': 0.00021397629429827813, 'reg_lambda': 3.5203684194757885e-05}. Best is trial 0 with value: 0.9473644411201435.\n",
      "[I 2024-09-07 11:45:38,110] Trial 8 finished with value: 0.9463717498405692 and parameters: {'n_estimators': 678, 'max_depth': 9, 'learning_rate': 0.0009232513036541662, 'num_leaves': 117, 'feature_fraction': 0.8863958377841852, 'bagging_fraction': 0.8843258841407455, 'bagging_freq': 3, 'min_child_samples': 91, 'reg_alpha': 2.0053248300134674e-05, 'reg_lambda': 66.14311738122825}. Best is trial 0 with value: 0.9473644411201435.\n",
      "[I 2024-09-07 11:46:46,265] Trial 9 finished with value: 0.94177967468579 and parameters: {'n_estimators': 868, 'max_depth': 4, 'learning_rate': 1.4888157946333012e-05, 'num_leaves': 76, 'feature_fraction': 0.6914434127571272, 'bagging_fraction': 0.890779363987145, 'bagging_freq': 6, 'min_child_samples': 70, 'reg_alpha': 0.016823945199699167, 'reg_lambda': 9.970320807841307e-05}. Best is trial 0 with value: 0.9473644411201435.\n",
      "[I 2024-09-07 11:48:38,422] Trial 10 finished with value: 0.94177967468579 and parameters: {'n_estimators': 992, 'max_depth': 15, 'learning_rate': 4.2832431413147853e-05, 'num_leaves': 29, 'feature_fraction': 0.5316840822916691, 'bagging_fraction': 0.5252301190566966, 'bagging_freq': 1, 'min_child_samples': 91, 'reg_alpha': 1.7803413647726756, 'reg_lambda': 0.633436937021434}. Best is trial 0 with value: 0.9473644411201435.\n",
      "[I 2024-09-07 11:50:15,312] Trial 11 finished with value: 0.9368422646537756 and parameters: {'n_estimators': 602, 'max_depth': 11, 'learning_rate': 0.0015397535002277802, 'num_leaves': 110, 'feature_fraction': 0.8841362095610485, 'bagging_fraction': 0.603418019807715, 'bagging_freq': 3, 'min_child_samples': 88, 'reg_alpha': 1.415681329543769e-05, 'reg_lambda': 89.57064368021256}. Best is trial 0 with value: 0.9473644411201435.\n",
      "[I 2024-09-07 11:52:14,595] Trial 12 finished with value: 0.94177967468579 and parameters: {'n_estimators': 603, 'max_depth': 11, 'learning_rate': 0.00015953654731351455, 'num_leaves': 145, 'feature_fraction': 0.8652968426043391, 'bagging_fraction': 0.7986017886458081, 'bagging_freq': 2, 'min_child_samples': 100, 'reg_alpha': 0.002393842401571748, 'reg_lambda': 3.1600867056806248}. Best is trial 0 with value: 0.9473644411201435.\n",
      "[I 2024-09-07 11:54:28,862] Trial 13 finished with value: 0.9208453420123527 and parameters: {'n_estimators': 702, 'max_depth': 14, 'learning_rate': 0.0033628255954363698, 'num_leaves': 101, 'feature_fraction': 0.9621179295415143, 'bagging_fraction': 0.6306650421898322, 'bagging_freq': 5, 'min_child_samples': 83, 'reg_alpha': 0.20056986395216458, 'reg_lambda': 0.6018133485694089}. Best is trial 0 with value: 0.9473644411201435.\n",
      "[I 2024-09-07 11:54:47,076] Trial 14 finished with value: 0.94177967468579 and parameters: {'n_estimators': 112, 'max_depth': 9, 'learning_rate': 0.0009038204335240251, 'num_leaves': 97, 'feature_fraction': 0.8425263446288429, 'bagging_fraction': 0.8953925235695059, 'bagging_freq': 3, 'min_child_samples': 38, 'reg_alpha': 0.0011265225404922666, 'reg_lambda': 7.787333385491173}. Best is trial 0 with value: 0.9473644411201435.\n",
      "[I 2024-09-07 11:58:18,079] Trial 15 finished with value: 0.94177967468579 and parameters: {'n_estimators': 993, 'max_depth': 13, 'learning_rate': 8.285410761470278e-05, 'num_leaves': 149, 'feature_fraction': 0.9949875538351479, 'bagging_fraction': 0.7827589551624884, 'bagging_freq': 6, 'min_child_samples': 79, 'reg_alpha': 2.7748888668542717, 'reg_lambda': 0.04653799188204944}. Best is trial 0 with value: 0.9473644411201435.\n",
      "[I 2024-09-07 11:59:07,183] Trial 16 finished with value: 0.9293679793141452 and parameters: {'n_estimators': 459, 'max_depth': 8, 'learning_rate': 0.004000811105985317, 'num_leaves': 20, 'feature_fraction': 0.5628245046480349, 'bagging_fraction': 0.7347580521117718, 'bagging_freq': 2, 'min_child_samples': 100, 'reg_alpha': 1.1448331441943653e-05, 'reg_lambda': 25.41501127176138}. Best is trial 0 with value: 0.9473644411201435.\n",
      "[I 2024-09-07 12:00:59,184] Trial 17 finished with value: 0.948932310665063 and parameters: {'n_estimators': 717, 'max_depth': 12, 'learning_rate': 0.0007682704047739091, 'num_leaves': 48, 'feature_fraction': 0.7610652034328932, 'bagging_fraction': 0.840584031922436, 'bagging_freq': 6, 'min_child_samples': 51, 'reg_alpha': 0.013182954356661296, 'reg_lambda': 1.2488139627373378}. Best is trial 17 with value: 0.948932310665063.\n",
      "[I 2024-09-07 12:02:33,203] Trial 18 finished with value: 0.94177967468579 and parameters: {'n_estimators': 725, 'max_depth': 12, 'learning_rate': 2.8185550590035622e-05, 'num_leaves': 48, 'feature_fraction': 0.6226596335453165, 'bagging_fraction': 0.5472872774861968, 'bagging_freq': 7, 'min_child_samples': 42, 'reg_alpha': 0.024625145685901136, 'reg_lambda': 0.6373400335153487}. Best is trial 17 with value: 0.948932310665063.\n",
      "[I 2024-09-07 12:04:53,805] Trial 19 finished with value: 0.9489074529899464 and parameters: {'n_estimators': 912, 'max_depth': 13, 'learning_rate': 0.0003406849855144116, 'num_leaves': 47, 'feature_fraction': 0.7609968804011271, 'bagging_fraction': 0.8334364731464913, 'bagging_freq': 6, 'min_child_samples': 52, 'reg_alpha': 0.19252413027125928, 'reg_lambda': 0.006100537149994677}. Best is trial 17 with value: 0.948932310665063.\n",
      "[I 2024-09-07 12:06:22,566] Trial 20 finished with value: 0.94177967468579 and parameters: {'n_estimators': 535, 'max_depth': 15, 'learning_rate': 0.00017237796371878753, 'num_leaves': 59, 'feature_fraction': 0.7580188755088985, 'bagging_fraction': 0.8379193981702197, 'bagging_freq': 6, 'min_child_samples': 50, 'reg_alpha': 1.3155704615589823, 'reg_lambda': 0.00495842490517204}. Best is trial 17 with value: 0.948932310665063.\n",
      "[I 2024-09-07 12:08:47,546] Trial 21 finished with value: 0.948766335632848 and parameters: {'n_estimators': 927, 'max_depth': 13, 'learning_rate': 0.0005865851691778616, 'num_leaves': 38, 'feature_fraction': 0.7419915034854351, 'bagging_fraction': 0.9288526236478056, 'bagging_freq': 6, 'min_child_samples': 53, 'reg_alpha': 0.1460962355214496, 'reg_lambda': 0.011968065514351185}. Best is trial 17 with value: 0.948932310665063.\n",
      "[I 2024-09-07 12:11:10,127] Trial 22 finished with value: 0.94177967468579 and parameters: {'n_estimators': 910, 'max_depth': 13, 'learning_rate': 0.00028309611567561675, 'num_leaves': 42, 'feature_fraction': 0.7350251701647894, 'bagging_fraction': 0.9410587711793886, 'bagging_freq': 7, 'min_child_samples': 27, 'reg_alpha': 0.19800757283457, 'reg_lambda': 0.009665937233257689}. Best is trial 17 with value: 0.948932310665063.\n",
      "[I 2024-09-07 12:13:24,333] Trial 23 finished with value: 0.9256746472200892 and parameters: {'n_estimators': 756, 'max_depth': 13, 'learning_rate': 0.0024449897882341883, 'num_leaves': 66, 'feature_fraction': 0.6380973400289092, 'bagging_fraction': 0.9200353154906844, 'bagging_freq': 6, 'min_child_samples': 57, 'reg_alpha': 12.186690476659788, 'reg_lambda': 0.0005047134988623898}. Best is trial 17 with value: 0.948932310665063.\n",
      "[I 2024-09-07 12:15:15,351] Trial 24 finished with value: 0.94177967468579 and parameters: {'n_estimators': 901, 'max_depth': 15, 'learning_rate': 6.79079369011223e-05, 'num_leaves': 20, 'feature_fraction': 0.7856610409843435, 'bagging_fraction': 0.8497995846431117, 'bagging_freq': 6, 'min_child_samples': 46, 'reg_alpha': 0.07680426531764005, 'reg_lambda': 0.02164609920705586}. Best is trial 17 with value: 0.948932310665063.\n",
      "[I 2024-09-07 12:17:28,760] Trial 25 finished with value: 0.9187425880530652 and parameters: {'n_estimators': 795, 'max_depth': 12, 'learning_rate': 0.00552703251628744, 'num_leaves': 44, 'feature_fraction': 0.716588958176214, 'bagging_fraction': 0.9967676520935194, 'bagging_freq': 7, 'min_child_samples': 30, 'reg_alpha': 0.6022675217928639, 'reg_lambda': 0.1359047090414034}. Best is trial 17 with value: 0.948932310665063.\n",
      "[I 2024-09-07 12:19:00,651] Trial 26 finished with value: 0.9367781603376659 and parameters: {'n_estimators': 641, 'max_depth': 10, 'learning_rate': 0.0014245088134474237, 'num_leaves': 38, 'feature_fraction': 0.6338240242729752, 'bagging_fraction': 0.9338109895337083, 'bagging_freq': 5, 'min_child_samples': 59, 'reg_alpha': 0.020461244174587348, 'reg_lambda': 0.00033647204934772067}. Best is trial 17 with value: 0.948932310665063.\n",
      "[I 2024-09-07 12:20:48,195] Trial 27 finished with value: 0.9155504819446935 and parameters: {'n_estimators': 920, 'max_depth': 14, 'learning_rate': 0.04741729319731774, 'num_leaves': 54, 'feature_fraction': 0.7861898370142639, 'bagging_fraction': 0.7883354795092165, 'bagging_freq': 6, 'min_child_samples': 31, 'reg_alpha': 0.5096480325866415, 'reg_lambda': 0.006972750258773205}. Best is trial 17 with value: 0.948932310665063.\n",
      "[I 2024-09-07 12:22:32,740] Trial 28 finished with value: 0.9535566162608801 and parameters: {'n_estimators': 759, 'max_depth': 8, 'learning_rate': 0.0005576844575335995, 'num_leaves': 68, 'feature_fraction': 0.5855646998632151, 'bagging_fraction': 0.8380030463661645, 'bagging_freq': 7, 'min_child_samples': 49, 'reg_alpha': 7.2643781537417675, 'reg_lambda': 0.15485952090255517}. Best is trial 28 with value: 0.9535566162608801.\n",
      "[I 2024-09-07 12:23:34,366] Trial 29 finished with value: 0.94177967468579 and parameters: {'n_estimators': 546, 'max_depth': 7, 'learning_rate': 0.00010205734327732947, 'num_leaves': 89, 'feature_fraction': 0.5018322685067776, 'bagging_fraction': 0.8294284948817128, 'bagging_freq': 7, 'min_child_samples': 43, 'reg_alpha': 12.534224122202371, 'reg_lambda': 0.08925905168889908}. Best is trial 28 with value: 0.9535566162608801.\n",
      "[I 2024-09-07 12:24:40,760] Trial 30 finished with value: 0.9474837360849689 and parameters: {'n_estimators': 776, 'max_depth': 5, 'learning_rate': 0.00043146346955915635, 'num_leaves': 66, 'feature_fraction': 0.5644134766192752, 'bagging_fraction': 0.7554424864585568, 'bagging_freq': 5, 'min_child_samples': 61, 'reg_alpha': 6.230395744482201, 'reg_lambda': 0.26747881139930646}. Best is trial 28 with value: 0.9535566162608801.\n",
      "[I 2024-09-07 12:26:46,917] Trial 31 finished with value: 0.9516986838564161 and parameters: {'n_estimators': 944, 'max_depth': 12, 'learning_rate': 0.00046494389899942075, 'num_leaves': 29, 'feature_fraction': 0.5951804176205727, 'bagging_fraction': 0.8605273452148721, 'bagging_freq': 7, 'min_child_samples': 50, 'reg_alpha': 75.84019998836433, 'reg_lambda': 0.02725954515866399}. Best is trial 28 with value: 0.9535566162608801.\n",
      "[I 2024-09-07 12:28:38,994] Trial 32 finished with value: 0.945659814394898 and parameters: {'n_estimators': 856, 'max_depth': 10, 'learning_rate': 0.0009321189786247756, 'num_leaves': 30, 'feature_fraction': 0.6073696796684039, 'bagging_fraction': 0.8415443689839056, 'bagging_freq': 7, 'min_child_samples': 50, 'reg_alpha': 41.45575927548631, 'reg_lambda': 0.042567207697378026}. Best is trial 28 with value: 0.9535566162608801.\n",
      "[I 2024-09-07 12:30:47,187] Trial 33 finished with value: 0.9484736425040564 and parameters: {'n_estimators': 832, 'max_depth': 12, 'learning_rate': 0.0004086898988279797, 'num_leaves': 54, 'feature_fraction': 0.5922216284697072, 'bagging_fraction': 0.8665335785062235, 'bagging_freq': 7, 'min_child_samples': 69, 'reg_alpha': 95.47738385164081, 'reg_lambda': 2.401078013536884}. Best is trial 28 with value: 0.9535566162608801.\n",
      "[I 2024-09-07 12:33:02,788] Trial 34 finished with value: 0.9284669544266511 and parameters: {'n_estimators': 964, 'max_depth': 8, 'learning_rate': 0.002018847876417905, 'num_leaves': 70, 'feature_fraction': 0.6605715309175377, 'bagging_fraction': 0.7573582197940878, 'bagging_freq': 7, 'min_child_samples': 38, 'reg_alpha': 26.185225995837214, 'reg_lambda': 0.0028884668903061015}. Best is trial 28 with value: 0.9535566162608801.\n",
      "[I 2024-09-07 12:34:47,722] Trial 35 finished with value: 0.94177967468579 and parameters: {'n_estimators': 719, 'max_depth': 11, 'learning_rate': 0.00014551221867371256, 'num_leaves': 49, 'feature_fraction': 0.5795693078768738, 'bagging_fraction': 0.807007261946823, 'bagging_freq': 6, 'min_child_samples': 45, 'reg_alpha': 0.007568406995433151, 'reg_lambda': 0.3035476458598392}. Best is trial 28 with value: 0.9535566162608801.\n",
      "[I 2024-09-07 12:35:43,067] Trial 36 finished with value: 0.939053137375221 and parameters: {'n_estimators': 834, 'max_depth': 3, 'learning_rate': 0.006463662120401731, 'num_leaves': 60, 'feature_fraction': 0.8193549211089713, 'bagging_fraction': 0.7050789559741797, 'bagging_freq': 7, 'min_child_samples': 64, 'reg_alpha': 0.05042907736028869, 'reg_lambda': 2.211119153451564}. Best is trial 28 with value: 0.9535566162608801.\n",
      "[I 2024-09-07 12:37:45,790] Trial 37 finished with value: 0.94177967468579 and parameters: {'n_estimators': 651, 'max_depth': -1, 'learning_rate': 0.00028016654555650225, 'num_leaves': 85, 'feature_fraction': 0.6676033909091639, 'bagging_fraction': 0.8601714147789623, 'bagging_freq': 4, 'min_child_samples': 34, 'reg_alpha': 4.828233955066317, 'reg_lambda': 0.025260755557336218}. Best is trial 28 with value: 0.9535566162608801.\n",
      "[I 2024-09-07 12:38:45,825] Trial 38 finished with value: 0.9486026654904062 and parameters: {'n_estimators': 469, 'max_depth': 14, 'learning_rate': 0.00070761836432233, 'num_leaves': 26, 'feature_fraction': 0.7671747681850754, 'bagging_fraction': 0.9050056747902014, 'bagging_freq': 5, 'min_child_samples': 48, 'reg_alpha': 0.0009530348485924391, 'reg_lambda': 0.0008648119785041537}. Best is trial 28 with value: 0.9535566162608801.\n",
      "[I 2024-09-07 12:40:45,470] Trial 39 finished with value: 0.9193212523216626 and parameters: {'n_estimators': 762, 'max_depth': 8, 'learning_rate': 0.017191994419513856, 'num_leaves': 44, 'feature_fraction': 0.7081597150305725, 'bagging_fraction': 0.9553870812197596, 'bagging_freq': 6, 'min_child_samples': 22, 'reg_alpha': 21.085973249406976, 'reg_lambda': 0.09769726210423788}. Best is trial 28 with value: 0.9535566162608801.\n",
      "[I 2024-09-07 12:41:20,510] Trial 40 finished with value: 0.9344140750564143 and parameters: {'n_estimators': 962, 'max_depth': 1, 'learning_rate': 0.001253144926095275, 'num_leaves': 73, 'feature_fraction': 0.5193123129584147, 'bagging_fraction': 0.8145087373753879, 'bagging_freq': 7, 'min_child_samples': 56, 'reg_alpha': 0.5103629856287389, 'reg_lambda': 8.764560502225939}. Best is trial 28 with value: 0.9535566162608801.\n",
      "[I 2024-09-07 12:43:38,423] Trial 41 finished with value: 0.9520779684744322 and parameters: {'n_estimators': 921, 'max_depth': 13, 'learning_rate': 0.0004895680390551022, 'num_leaves': 34, 'feature_fraction': 0.725751881460757, 'bagging_fraction': 0.9079167749872259, 'bagging_freq': 6, 'min_child_samples': 53, 'reg_alpha': 0.007539559798245726, 'reg_lambda': 0.017186324206154045}. Best is trial 28 with value: 0.9535566162608801.\n",
      "[I 2024-09-07 12:45:49,818] Trial 42 finished with value: 0.9461571299231128 and parameters: {'n_estimators': 880, 'max_depth': 12, 'learning_rate': 0.00032851166399453896, 'num_leaves': 37, 'feature_fraction': 0.8085401317924321, 'bagging_fraction': 0.874179408077886, 'bagging_freq': 6, 'min_child_samples': 61, 'reg_alpha': 0.007590060190472861, 'reg_lambda': 0.0036113376675198337}. Best is trial 28 with value: 0.9535566162608801.\n",
      "[I 2024-09-07 12:47:59,665] Trial 43 finished with value: 0.953099228346151 and parameters: {'n_estimators': 819, 'max_depth': 10, 'learning_rate': 0.0005412774336788628, 'num_leaves': 56, 'feature_fraction': 0.689424368014746, 'bagging_fraction': 0.8969822726498355, 'bagging_freq': 5, 'min_child_samples': 75, 'reg_alpha': 0.0013059095568442615, 'reg_lambda': 0.016500543058692124}. Best is trial 28 with value: 0.9535566162608801.\n",
      "[I 2024-09-07 12:50:06,233] Trial 44 finished with value: 0.9522707625108062 and parameters: {'n_estimators': 818, 'max_depth': 9, 'learning_rate': 0.0006096380295517701, 'num_leaves': 55, 'feature_fraction': 0.6931131593739998, 'bagging_fraction': 0.9625492461026259, 'bagging_freq': 5, 'min_child_samples': 75, 'reg_alpha': 0.0007920860839646683, 'reg_lambda': 0.016468089280479686}. Best is trial 28 with value: 0.9535566162608801.\n",
      "[I 2024-09-07 12:52:09,933] Trial 45 finished with value: 0.94177967468579 and parameters: {'n_estimators': 819, 'max_depth': 9, 'learning_rate': 0.00019583400358328898, 'num_leaves': 59, 'feature_fraction': 0.6533790282244528, 'bagging_fraction': 0.9670369912216055, 'bagging_freq': 5, 'min_child_samples': 76, 'reg_alpha': 0.0004822217402995875, 'reg_lambda': 0.023269278516033907}. Best is trial 28 with value: 0.9535566162608801.\n",
      "[I 2024-09-07 12:53:59,249] Trial 46 finished with value: 0.9535351061103922 and parameters: {'n_estimators': 801, 'max_depth': 7, 'learning_rate': 0.0005715840820818944, 'num_leaves': 80, 'feature_fraction': 0.6859587852331485, 'bagging_fraction': 0.9091801130547266, 'bagging_freq': 4, 'min_child_samples': 70, 'reg_alpha': 9.181355810568711e-05, 'reg_lambda': 0.06659620876381919}. Best is trial 28 with value: 0.9535566162608801.\n",
      "[I 2024-09-07 12:56:03,361] Trial 47 finished with value: 0.9291275615416551 and parameters: {'n_estimators': 811, 'max_depth': 7, 'learning_rate': 0.0027601533596318486, 'num_leaves': 84, 'feature_fraction': 0.6947736667272906, 'bagging_fraction': 0.9117505376411771, 'bagging_freq': 4, 'min_child_samples': 72, 'reg_alpha': 3.596251808715386e-05, 'reg_lambda': 0.20331798749300448}. Best is trial 28 with value: 0.9535566162608801.\n",
      "[I 2024-09-07 12:57:57,137] Trial 48 finished with value: 0.9452160225630738 and parameters: {'n_estimators': 861, 'max_depth': 6, 'learning_rate': 0.0012481035850163643, 'num_leaves': 76, 'feature_fraction': 0.6831392619596777, 'bagging_fraction': 0.9747265032043049, 'bagging_freq': 4, 'min_child_samples': 83, 'reg_alpha': 0.00013964954227279139, 'reg_lambda': 0.05272291384461411}. Best is trial 28 with value: 0.9535566162608801.\n",
      "[I 2024-09-07 12:59:02,077] Trial 49 finished with value: 0.94177967468579 and parameters: {'n_estimators': 673, 'max_depth': 5, 'learning_rate': 4.805525120641685e-05, 'num_leaves': 92, 'feature_fraction': 0.7144307649941077, 'bagging_fraction': 0.9488145048499871, 'bagging_freq': 4, 'min_child_samples': 67, 'reg_alpha': 0.002410844333188551, 'reg_lambda': 0.0015456338691948205}. Best is trial 28 with value: 0.9535566162608801.\n"
     ]
    }
   ],
   "source": [
    "study = optuna.create_study(direction='maximize')\n",
    "study.optimize(objective, n_trials=50, show_progress_bar=True)\n",
    "\n",
    "df = study.trials_dataframe()"
   ]
  },
  {
   "cell_type": "code",
   "execution_count": 75,
   "metadata": {
    "execution": {
     "iopub.execute_input": "2024-09-07T12:59:02.097753Z",
     "iopub.status.busy": "2024-09-07T12:59:02.097262Z",
     "iopub.status.idle": "2024-09-07T12:59:02.111038Z",
     "shell.execute_reply": "2024-09-07T12:59:02.109741Z",
     "shell.execute_reply.started": "2024-09-07T12:59:02.097699Z"
    }
   },
   "outputs": [
    {
     "data": {
      "text/plain": [
       "{'n_estimators': 759,\n",
       " 'max_depth': 8,\n",
       " 'learning_rate': 0.0005576844575335995,\n",
       " 'num_leaves': 68,\n",
       " 'feature_fraction': 0.5855646998632151,\n",
       " 'bagging_fraction': 0.8380030463661645,\n",
       " 'bagging_freq': 7,\n",
       " 'min_child_samples': 49,\n",
       " 'reg_alpha': 7.2643781537417675,\n",
       " 'reg_lambda': 0.15485952090255517}"
      ]
     },
     "execution_count": 75,
     "metadata": {},
     "output_type": "execute_result"
    }
   ],
   "source": [
    "study.best_params"
   ]
  },
  {
   "cell_type": "code",
   "execution_count": 76,
   "metadata": {
    "collapsed": true,
    "execution": {
     "iopub.execute_input": "2024-09-07T12:59:02.112814Z",
     "iopub.status.busy": "2024-09-07T12:59:02.112431Z",
     "iopub.status.idle": "2024-09-07T13:01:53.503113Z",
     "shell.execute_reply": "2024-09-07T13:01:53.501593Z",
     "shell.execute_reply.started": "2024-09-07T12:59:02.112757Z"
    },
    "jupyter": {
     "outputs_hidden": true
    }
   },
   "outputs": [
    {
     "name": "stdout",
     "output_type": "stream",
     "text": [
      "[LightGBM] [Warning] feature_fraction is set=0.8712187238496423, colsample_bytree=1.0 will be ignored. Current value: feature_fraction=0.8712187238496423\n",
      "[LightGBM] [Warning] bagging_fraction is set=0.8737360320599473, subsample=1.0 will be ignored. Current value: bagging_fraction=0.8737360320599473\n",
      "[LightGBM] [Warning] bagging_freq is set=1, subsample_freq=0 will be ignored. Current value: bagging_freq=1\n",
      "[LightGBM] [Warning] feature_fraction is set=0.8712187238496423, colsample_bytree=1.0 will be ignored. Current value: feature_fraction=0.8712187238496423\n",
      "[LightGBM] [Warning] bagging_fraction is set=0.8737360320599473, subsample=1.0 will be ignored. Current value: bagging_fraction=0.8737360320599473\n",
      "[LightGBM] [Warning] bagging_freq is set=1, subsample_freq=0 will be ignored. Current value: bagging_freq=1\n",
      "[LightGBM] [Info] Number of positive: 248591, number of negative: 149155\n",
      "[LightGBM] [Info] Auto-choosing col-wise multi-threading, the overhead of testing was 0.218426 seconds.\n",
      "You can set `force_col_wise=true` to remove the overhead.\n",
      "[LightGBM] [Info] Total Bins 4872\n",
      "[LightGBM] [Info] Number of data points in the train set: 397746, number of used features: 29\n",
      "[LightGBM] [Info] [binary:BoostFromScore]: pavg=0.624999 -> initscore=0.510823\n",
      "[LightGBM] [Info] Start training from score 0.510823\n"
     ]
    },
    {
     "data": {
      "text/html": [
       "<style>#sk-container-id-4 {color: black;background-color: white;}#sk-container-id-4 pre{padding: 0;}#sk-container-id-4 div.sk-toggleable {background-color: white;}#sk-container-id-4 label.sk-toggleable__label {cursor: pointer;display: block;width: 100%;margin-bottom: 0;padding: 0.3em;box-sizing: border-box;text-align: center;}#sk-container-id-4 label.sk-toggleable__label-arrow:before {content: \"▸\";float: left;margin-right: 0.25em;color: #696969;}#sk-container-id-4 label.sk-toggleable__label-arrow:hover:before {color: black;}#sk-container-id-4 div.sk-estimator:hover label.sk-toggleable__label-arrow:before {color: black;}#sk-container-id-4 div.sk-toggleable__content {max-height: 0;max-width: 0;overflow: hidden;text-align: left;background-color: #f0f8ff;}#sk-container-id-4 div.sk-toggleable__content pre {margin: 0.2em;color: black;border-radius: 0.25em;background-color: #f0f8ff;}#sk-container-id-4 input.sk-toggleable__control:checked~div.sk-toggleable__content {max-height: 200px;max-width: 100%;overflow: auto;}#sk-container-id-4 input.sk-toggleable__control:checked~label.sk-toggleable__label-arrow:before {content: \"▾\";}#sk-container-id-4 div.sk-estimator input.sk-toggleable__control:checked~label.sk-toggleable__label {background-color: #d4ebff;}#sk-container-id-4 div.sk-label input.sk-toggleable__control:checked~label.sk-toggleable__label {background-color: #d4ebff;}#sk-container-id-4 input.sk-hidden--visually {border: 0;clip: rect(1px 1px 1px 1px);clip: rect(1px, 1px, 1px, 1px);height: 1px;margin: -1px;overflow: hidden;padding: 0;position: absolute;width: 1px;}#sk-container-id-4 div.sk-estimator {font-family: monospace;background-color: #f0f8ff;border: 1px dotted black;border-radius: 0.25em;box-sizing: border-box;margin-bottom: 0.5em;}#sk-container-id-4 div.sk-estimator:hover {background-color: #d4ebff;}#sk-container-id-4 div.sk-parallel-item::after {content: \"\";width: 100%;border-bottom: 1px solid gray;flex-grow: 1;}#sk-container-id-4 div.sk-label:hover label.sk-toggleable__label {background-color: #d4ebff;}#sk-container-id-4 div.sk-serial::before {content: \"\";position: absolute;border-left: 1px solid gray;box-sizing: border-box;top: 0;bottom: 0;left: 50%;z-index: 0;}#sk-container-id-4 div.sk-serial {display: flex;flex-direction: column;align-items: center;background-color: white;padding-right: 0.2em;padding-left: 0.2em;position: relative;}#sk-container-id-4 div.sk-item {position: relative;z-index: 1;}#sk-container-id-4 div.sk-parallel {display: flex;align-items: stretch;justify-content: center;background-color: white;position: relative;}#sk-container-id-4 div.sk-item::before, #sk-container-id-4 div.sk-parallel-item::before {content: \"\";position: absolute;border-left: 1px solid gray;box-sizing: border-box;top: 0;bottom: 0;left: 50%;z-index: -1;}#sk-container-id-4 div.sk-parallel-item {display: flex;flex-direction: column;z-index: 1;position: relative;background-color: white;}#sk-container-id-4 div.sk-parallel-item:first-child::after {align-self: flex-end;width: 50%;}#sk-container-id-4 div.sk-parallel-item:last-child::after {align-self: flex-start;width: 50%;}#sk-container-id-4 div.sk-parallel-item:only-child::after {width: 0;}#sk-container-id-4 div.sk-dashed-wrapped {border: 1px dashed gray;margin: 0 0.4em 0.5em 0.4em;box-sizing: border-box;padding-bottom: 0.4em;background-color: white;}#sk-container-id-4 div.sk-label label {font-family: monospace;font-weight: bold;display: inline-block;line-height: 1.2em;}#sk-container-id-4 div.sk-label-container {text-align: center;}#sk-container-id-4 div.sk-container {/* jupyter's `normalize.less` sets `[hidden] { display: none; }` but bootstrap.min.css set `[hidden] { display: none !important; }` so we also need the `!important` here to be able to override the default hidden behavior on the sphinx rendered scikit-learn.org. See: https://github.com/scikit-learn/scikit-learn/issues/21755 */display: inline-block !important;position: relative;}#sk-container-id-4 div.sk-text-repr-fallback {display: none;}</style><div id=\"sk-container-id-4\" class=\"sk-top-container\"><div class=\"sk-text-repr-fallback\"><pre>LGBMClassifier(bagging_fraction=0.8737360320599473, bagging_freq=1,\n",
       "               feature_fraction=0.8712187238496423,\n",
       "               learning_rate=0.0004356282039193776, max_depth=11,\n",
       "               min_child_samples=46, n_estimators=881, num_leaves=143,\n",
       "               reg_alpha=0.19787532331002414, reg_lambda=4.625210195673949)</pre><b>In a Jupyter environment, please rerun this cell to show the HTML representation or trust the notebook. <br />On GitHub, the HTML representation is unable to render, please try loading this page with nbviewer.org.</b></div><div class=\"sk-container\" hidden><div class=\"sk-item\"><div class=\"sk-estimator sk-toggleable\"><input class=\"sk-toggleable__control sk-hidden--visually\" id=\"sk-estimator-id-4\" type=\"checkbox\" checked><label for=\"sk-estimator-id-4\" class=\"sk-toggleable__label sk-toggleable__label-arrow\">LGBMClassifier</label><div class=\"sk-toggleable__content\"><pre>LGBMClassifier(bagging_fraction=0.8737360320599473, bagging_freq=1,\n",
       "               feature_fraction=0.8712187238496423,\n",
       "               learning_rate=0.0004356282039193776, max_depth=11,\n",
       "               min_child_samples=46, n_estimators=881, num_leaves=143,\n",
       "               reg_alpha=0.19787532331002414, reg_lambda=4.625210195673949)</pre></div></div></div></div></div>"
      ],
      "text/plain": [
       "LGBMClassifier(bagging_fraction=0.8737360320599473, bagging_freq=1,\n",
       "               feature_fraction=0.8712187238496423,\n",
       "               learning_rate=0.0004356282039193776, max_depth=11,\n",
       "               min_child_samples=46, n_estimators=881, num_leaves=143,\n",
       "               reg_alpha=0.19787532331002414, reg_lambda=4.625210195673949)"
      ]
     },
     "execution_count": 76,
     "metadata": {},
     "output_type": "execute_result"
    }
   ],
   "source": [
    "best_params = {'n_estimators': 759,\n",
    " 'max_depth': 8,\n",
    " 'learning_rate': 0.0005576844575335995,\n",
    " 'num_leaves': 68,\n",
    " 'feature_fraction': 0.5855646998632151,\n",
    " 'bagging_fraction': 0.8380030463661645,\n",
    " 'bagging_freq': 7,\n",
    " 'min_child_samples': 49,\n",
    " 'reg_alpha': 7.2643781537417675,\n",
    " 'reg_lambda': 0.15485952090255517}\n",
    "\n",
    "lightgbm_model = LGBMClassifier(**best_params)\n",
    "lightgbm_model.fit(X_train, y_train)"
   ]
  },
  {
   "cell_type": "code",
   "execution_count": 77,
   "metadata": {
    "execution": {
     "iopub.execute_input": "2024-09-07T13:01:53.504903Z",
     "iopub.status.busy": "2024-09-07T13:01:53.504503Z",
     "iopub.status.idle": "2024-09-07T13:02:49.063470Z",
     "shell.execute_reply": "2024-09-07T13:02:49.062219Z",
     "shell.execute_reply.started": "2024-09-07T13:01:53.504863Z"
    }
   },
   "outputs": [
    {
     "name": "stdout",
     "output_type": "stream",
     "text": [
      "[LightGBM] [Warning] feature_fraction is set=0.8712187238496423, colsample_bytree=1.0 will be ignored. Current value: feature_fraction=0.8712187238496423\n",
      "[LightGBM] [Warning] bagging_fraction is set=0.8737360320599473, subsample=1.0 will be ignored. Current value: bagging_fraction=0.8737360320599473\n",
      "[LightGBM] [Warning] bagging_freq is set=1, subsample_freq=0 will be ignored. Current value: bagging_freq=1\n"
     ]
    }
   ],
   "source": [
    "lgbm_prediction = lightgbm_model.predict_proba(X_test)"
   ]
  },
  {
   "cell_type": "code",
   "execution_count": 78,
   "metadata": {
    "execution": {
     "iopub.execute_input": "2024-09-07T13:02:49.065624Z",
     "iopub.status.busy": "2024-09-07T13:02:49.065134Z",
     "iopub.status.idle": "2024-09-07T13:02:49.074364Z",
     "shell.execute_reply": "2024-09-07T13:02:49.073203Z",
     "shell.execute_reply.started": "2024-09-07T13:02:49.065570Z"
    }
   },
   "outputs": [
    {
     "data": {
      "text/plain": [
       "array([0.72224663, 0.64113125, 0.69250189, ..., 0.47653387, 0.71461668,\n",
       "       0.69047573])"
      ]
     },
     "execution_count": 78,
     "metadata": {},
     "output_type": "execute_result"
    }
   ],
   "source": [
    "lgbm_prediction = lgbm_prediction[:, 1]\n",
    "lgbm_prediction"
   ]
  },
  {
   "cell_type": "code",
   "execution_count": 79,
   "metadata": {
    "collapsed": true,
    "execution": {
     "iopub.execute_input": "2024-09-07T13:02:49.076303Z",
     "iopub.status.busy": "2024-09-07T13:02:49.075828Z",
     "iopub.status.idle": "2024-09-07T13:10:58.512933Z",
     "shell.execute_reply": "2024-09-07T13:10:58.511666Z",
     "shell.execute_reply.started": "2024-09-07T13:02:49.076249Z"
    },
    "jupyter": {
     "outputs_hidden": true
    }
   },
   "outputs": [
    {
     "name": "stdout",
     "output_type": "stream",
     "text": [
      "[LightGBM] [Warning] feature_fraction is set=0.8712187238496423, colsample_bytree=1.0 will be ignored. Current value: feature_fraction=0.8712187238496423\n",
      "[LightGBM] [Warning] bagging_fraction is set=0.8737360320599473, subsample=1.0 will be ignored. Current value: bagging_fraction=0.8737360320599473\n",
      "[LightGBM] [Warning] bagging_freq is set=1, subsample_freq=0 will be ignored. Current value: bagging_freq=1\n",
      "[LightGBM] [Warning] feature_fraction is set=0.8712187238496423, colsample_bytree=1.0 will be ignored. Current value: feature_fraction=0.8712187238496423\n",
      "[LightGBM] [Warning] bagging_fraction is set=0.8737360320599473, subsample=1.0 will be ignored. Current value: bagging_fraction=0.8737360320599473\n",
      "[LightGBM] [Warning] bagging_freq is set=1, subsample_freq=0 will be ignored. Current value: bagging_freq=1\n",
      "[LightGBM] [Info] Number of positive: 552217, number of negative: 186695\n",
      "[LightGBM] [Info] Auto-choosing col-wise multi-threading, the overhead of testing was 0.776050 seconds.\n",
      "You can set `force_col_wise=true` to remove the overhead.\n",
      "[LightGBM] [Info] Total Bins 9972\n",
      "[LightGBM] [Info] Number of data points in the train set: 738912, number of used features: 49\n",
      "[LightGBM] [Info] [binary:BoostFromScore]: pavg=0.747338 -> initscore=1.084465\n",
      "[LightGBM] [Info] Start training from score 1.084465\n"
     ]
    },
    {
     "data": {
      "text/html": [
       "<style>#sk-container-id-5 {color: black;background-color: white;}#sk-container-id-5 pre{padding: 0;}#sk-container-id-5 div.sk-toggleable {background-color: white;}#sk-container-id-5 label.sk-toggleable__label {cursor: pointer;display: block;width: 100%;margin-bottom: 0;padding: 0.3em;box-sizing: border-box;text-align: center;}#sk-container-id-5 label.sk-toggleable__label-arrow:before {content: \"▸\";float: left;margin-right: 0.25em;color: #696969;}#sk-container-id-5 label.sk-toggleable__label-arrow:hover:before {color: black;}#sk-container-id-5 div.sk-estimator:hover label.sk-toggleable__label-arrow:before {color: black;}#sk-container-id-5 div.sk-toggleable__content {max-height: 0;max-width: 0;overflow: hidden;text-align: left;background-color: #f0f8ff;}#sk-container-id-5 div.sk-toggleable__content pre {margin: 0.2em;color: black;border-radius: 0.25em;background-color: #f0f8ff;}#sk-container-id-5 input.sk-toggleable__control:checked~div.sk-toggleable__content {max-height: 200px;max-width: 100%;overflow: auto;}#sk-container-id-5 input.sk-toggleable__control:checked~label.sk-toggleable__label-arrow:before {content: \"▾\";}#sk-container-id-5 div.sk-estimator input.sk-toggleable__control:checked~label.sk-toggleable__label {background-color: #d4ebff;}#sk-container-id-5 div.sk-label input.sk-toggleable__control:checked~label.sk-toggleable__label {background-color: #d4ebff;}#sk-container-id-5 input.sk-hidden--visually {border: 0;clip: rect(1px 1px 1px 1px);clip: rect(1px, 1px, 1px, 1px);height: 1px;margin: -1px;overflow: hidden;padding: 0;position: absolute;width: 1px;}#sk-container-id-5 div.sk-estimator {font-family: monospace;background-color: #f0f8ff;border: 1px dotted black;border-radius: 0.25em;box-sizing: border-box;margin-bottom: 0.5em;}#sk-container-id-5 div.sk-estimator:hover {background-color: #d4ebff;}#sk-container-id-5 div.sk-parallel-item::after {content: \"\";width: 100%;border-bottom: 1px solid gray;flex-grow: 1;}#sk-container-id-5 div.sk-label:hover label.sk-toggleable__label {background-color: #d4ebff;}#sk-container-id-5 div.sk-serial::before {content: \"\";position: absolute;border-left: 1px solid gray;box-sizing: border-box;top: 0;bottom: 0;left: 50%;z-index: 0;}#sk-container-id-5 div.sk-serial {display: flex;flex-direction: column;align-items: center;background-color: white;padding-right: 0.2em;padding-left: 0.2em;position: relative;}#sk-container-id-5 div.sk-item {position: relative;z-index: 1;}#sk-container-id-5 div.sk-parallel {display: flex;align-items: stretch;justify-content: center;background-color: white;position: relative;}#sk-container-id-5 div.sk-item::before, #sk-container-id-5 div.sk-parallel-item::before {content: \"\";position: absolute;border-left: 1px solid gray;box-sizing: border-box;top: 0;bottom: 0;left: 50%;z-index: -1;}#sk-container-id-5 div.sk-parallel-item {display: flex;flex-direction: column;z-index: 1;position: relative;background-color: white;}#sk-container-id-5 div.sk-parallel-item:first-child::after {align-self: flex-end;width: 50%;}#sk-container-id-5 div.sk-parallel-item:last-child::after {align-self: flex-start;width: 50%;}#sk-container-id-5 div.sk-parallel-item:only-child::after {width: 0;}#sk-container-id-5 div.sk-dashed-wrapped {border: 1px dashed gray;margin: 0 0.4em 0.5em 0.4em;box-sizing: border-box;padding-bottom: 0.4em;background-color: white;}#sk-container-id-5 div.sk-label label {font-family: monospace;font-weight: bold;display: inline-block;line-height: 1.2em;}#sk-container-id-5 div.sk-label-container {text-align: center;}#sk-container-id-5 div.sk-container {/* jupyter's `normalize.less` sets `[hidden] { display: none; }` but bootstrap.min.css set `[hidden] { display: none !important; }` so we also need the `!important` here to be able to override the default hidden behavior on the sphinx rendered scikit-learn.org. See: https://github.com/scikit-learn/scikit-learn/issues/21755 */display: inline-block !important;position: relative;}#sk-container-id-5 div.sk-text-repr-fallback {display: none;}</style><div id=\"sk-container-id-5\" class=\"sk-top-container\"><div class=\"sk-text-repr-fallback\"><pre>LGBMClassifier(bagging_fraction=0.8737360320599473, bagging_freq=1,\n",
       "               feature_fraction=0.8712187238496423,\n",
       "               learning_rate=0.0004356282039193776, max_depth=11,\n",
       "               min_child_samples=46, n_estimators=881, num_leaves=143,\n",
       "               reg_alpha=0.19787532331002414, reg_lambda=4.625210195673949)</pre><b>In a Jupyter environment, please rerun this cell to show the HTML representation or trust the notebook. <br />On GitHub, the HTML representation is unable to render, please try loading this page with nbviewer.org.</b></div><div class=\"sk-container\" hidden><div class=\"sk-item\"><div class=\"sk-estimator sk-toggleable\"><input class=\"sk-toggleable__control sk-hidden--visually\" id=\"sk-estimator-id-5\" type=\"checkbox\" checked><label for=\"sk-estimator-id-5\" class=\"sk-toggleable__label sk-toggleable__label-arrow\">LGBMClassifier</label><div class=\"sk-toggleable__content\"><pre>LGBMClassifier(bagging_fraction=0.8737360320599473, bagging_freq=1,\n",
       "               feature_fraction=0.8712187238496423,\n",
       "               learning_rate=0.0004356282039193776, max_depth=11,\n",
       "               min_child_samples=46, n_estimators=881, num_leaves=143,\n",
       "               reg_alpha=0.19787532331002414, reg_lambda=4.625210195673949)</pre></div></div></div></div></div>"
      ],
      "text/plain": [
       "LGBMClassifier(bagging_fraction=0.8737360320599473, bagging_freq=1,\n",
       "               feature_fraction=0.8712187238496423,\n",
       "               learning_rate=0.0004356282039193776, max_depth=11,\n",
       "               min_child_samples=46, n_estimators=881, num_leaves=143,\n",
       "               reg_alpha=0.19787532331002414, reg_lambda=4.625210195673949)"
      ]
     },
     "execution_count": 79,
     "metadata": {},
     "output_type": "execute_result"
    }
   ],
   "source": [
    "best_params = {'n_estimators': 759,\n",
    " 'max_depth': 8,\n",
    " 'learning_rate': 0.0005576844575335995,\n",
    " 'num_leaves': 68,\n",
    " 'feature_fraction': 0.5855646998632151,\n",
    " 'bagging_fraction': 0.8380030463661645,\n",
    " 'bagging_freq': 7,\n",
    " 'min_child_samples': 49,\n",
    " 'reg_alpha': 7.2643781537417675,\n",
    " 'reg_lambda': 0.15485952090255517}\n",
    "\n",
    "final_lightgbm_model = LGBMClassifier(**best_params)\n",
    "final_lightgbm_model.fit(X, y)"
   ]
  },
  {
   "cell_type": "code",
   "execution_count": 80,
   "metadata": {
    "execution": {
     "iopub.execute_input": "2024-09-07T13:10:58.514608Z",
     "iopub.status.busy": "2024-09-07T13:10:58.514239Z",
     "iopub.status.idle": "2024-09-07T13:10:58.577342Z",
     "shell.execute_reply": "2024-09-07T13:10:58.576212Z",
     "shell.execute_reply.started": "2024-09-07T13:10:58.514570Z"
    }
   },
   "outputs": [
    {
     "name": "stdout",
     "output_type": "stream",
     "text": [
      "[LightGBM] [Warning] feature_fraction is set=0.8712187238496423, colsample_bytree=1.0 will be ignored. Current value: feature_fraction=0.8712187238496423\n",
      "[LightGBM] [Warning] bagging_fraction is set=0.8737360320599473, subsample=1.0 will be ignored. Current value: bagging_fraction=0.8737360320599473\n",
      "[LightGBM] [Warning] bagging_freq is set=1, subsample_freq=0 will be ignored. Current value: bagging_freq=1\n"
     ]
    }
   ],
   "source": [
    "final_lightgbm_prediction = final_lightgbm_model.predict_proba(solution)"
   ]
  },
  {
   "cell_type": "code",
   "execution_count": 81,
   "metadata": {
    "collapsed": true,
    "execution": {
     "iopub.execute_input": "2024-09-07T13:10:58.579094Z",
     "iopub.status.busy": "2024-09-07T13:10:58.578602Z",
     "iopub.status.idle": "2024-09-07T13:10:58.589901Z",
     "shell.execute_reply": "2024-09-07T13:10:58.588545Z",
     "shell.execute_reply.started": "2024-09-07T13:10:58.579053Z"
    },
    "jupyter": {
     "outputs_hidden": true
    }
   },
   "outputs": [
    {
     "data": {
      "text/plain": [
       "array([0.80985668, 0.72191155, 0.75763305, 0.82299129, 0.57107764,\n",
       "       0.54969606, 0.82335943, 0.79932164, 0.82349383, 0.66594768,\n",
       "       0.8030652 , 0.70412933, 0.54232684, 0.81192835, 0.56155802,\n",
       "       0.81522532, 0.62044745, 0.79232263, 0.81660915, 0.8181664 ,\n",
       "       0.75876125, 0.82349913, 0.785419  , 0.67156326, 0.78403007,\n",
       "       0.80509776, 0.54799693, 0.81659553, 0.72558111, 0.55424656,\n",
       "       0.82349913, 0.81553562, 0.80272761, 0.82338198, 0.80733042,\n",
       "       0.7495281 , 0.82349913, 0.81330366, 0.81548656, 0.79354788,\n",
       "       0.67751359, 0.77811503, 0.82345061, 0.73508108, 0.77748267,\n",
       "       0.80920145, 0.6361464 , 0.8198979 , 0.77214455, 0.68376817,\n",
       "       0.75017757, 0.80313279, 0.80776383, 0.78025071, 0.82345546,\n",
       "       0.64367601, 0.82336554, 0.81572424, 0.75403794, 0.82342329,\n",
       "       0.82323249, 0.80389116, 0.81683666, 0.81800062, 0.73469835,\n",
       "       0.82349913, 0.8232852 , 0.81112664, 0.81660109, 0.80909829,\n",
       "       0.81482079, 0.82299129, 0.82348777, 0.76432136, 0.62308849,\n",
       "       0.81247558, 0.81088527, 0.6355136 , 0.6852944 , 0.82319341,\n",
       "       0.60455712, 0.69442601, 0.82338214, 0.82193446, 0.82151727,\n",
       "       0.54113622, 0.80525496, 0.82336112, 0.82349913, 0.54202898,\n",
       "       0.61146057, 0.73663101, 0.82311057, 0.81732367, 0.81585857,\n",
       "       0.81084582, 0.82349913, 0.64110089, 0.82029679, 0.69146279,\n",
       "       0.82147673, 0.57124378, 0.78140917, 0.81771833, 0.82315377,\n",
       "       0.82349913, 0.81995489, 0.80510164, 0.81520671, 0.67001094,\n",
       "       0.81108282, 0.71116614, 0.80039713, 0.81795667, 0.8126695 ,\n",
       "       0.80500682, 0.54202898, 0.77190601, 0.82348845, 0.82172014,\n",
       "       0.80427624, 0.82349913, 0.81609892, 0.78151034, 0.82349913,\n",
       "       0.81567658, 0.78483699, 0.79312161, 0.68605004, 0.80513171,\n",
       "       0.73046851, 0.79308769, 0.81643182, 0.78583108, 0.78949202,\n",
       "       0.7511243 , 0.77722356, 0.81410826, 0.54799974, 0.82348777,\n",
       "       0.7044042 , 0.82042787, 0.82158808, 0.80724389, 0.80817014,\n",
       "       0.82349913, 0.7699523 , 0.82319872, 0.56083035, 0.81728543,\n",
       "       0.81602713, 0.8186298 , 0.81168978, 0.82349913, 0.79547933,\n",
       "       0.82347189, 0.81286862, 0.81627057, 0.70210002, 0.81004485,\n",
       "       0.81806589, 0.72363297, 0.73606124, 0.78770517, 0.73566703,\n",
       "       0.61826254, 0.818279  , 0.74815659, 0.76346099, 0.689221  ,\n",
       "       0.80046217, 0.80710223, 0.57122299, 0.79395479, 0.79146806,\n",
       "       0.73538058, 0.81529676, 0.82349913, 0.61655514, 0.75508894,\n",
       "       0.7664982 , 0.68580978, 0.81571794, 0.82349913, 0.80032648,\n",
       "       0.81134311, 0.63126188, 0.81632518, 0.68747381, 0.81530035,\n",
       "       0.8022202 , 0.81001122, 0.81992299, 0.82333955, 0.82339216,\n",
       "       0.77909973, 0.81694931, 0.80790761, 0.70022487, 0.80044731,\n",
       "       0.80429516, 0.8044516 , 0.78921246, 0.81853687, 0.82349913,\n",
       "       0.58165861, 0.6421918 , 0.82320591, 0.77954607, 0.80737361,\n",
       "       0.82349913, 0.78386403, 0.82005698, 0.8117812 , 0.82349913,\n",
       "       0.8200365 , 0.82349913, 0.82349913, 0.79808544, 0.81670615,\n",
       "       0.74400278, 0.56427627, 0.82349913, 0.81342739, 0.58475463,\n",
       "       0.8185522 , 0.81489173, 0.78034905, 0.81673859, 0.82008295,\n",
       "       0.81336546, 0.80048541, 0.65898028, 0.58026513, 0.81559395,\n",
       "       0.74178824, 0.81196689, 0.82333067, 0.81783845, 0.82174966,\n",
       "       0.79780722, 0.82349913, 0.75502431, 0.82337135, 0.82349913,\n",
       "       0.82349913, 0.74599415, 0.7293023 , 0.81859474, 0.76806197,\n",
       "       0.61354281, 0.54627876, 0.64948986, 0.80405542, 0.81580456,\n",
       "       0.81861616, 0.78747848, 0.79386649, 0.82319872, 0.79906389,\n",
       "       0.53737803, 0.56380613, 0.81994531, 0.81941146, 0.60208004,\n",
       "       0.82322343, 0.71368463, 0.80572441, 0.81701316, 0.82335563,\n",
       "       0.81722358, 0.81857934, 0.5500848 , 0.79833675, 0.82170186,\n",
       "       0.81716712, 0.71883335, 0.81648849, 0.80398879, 0.82349913,\n",
       "       0.82327562, 0.82348777, 0.81788523, 0.81729651, 0.7409052 ,\n",
       "       0.82249598, 0.81846626, 0.81302013, 0.82349913, 0.60781985,\n",
       "       0.82189153, 0.80844965, 0.82317507, 0.53295606, 0.81227104,\n",
       "       0.81726547, 0.82349913, 0.80413923, 0.80146368, 0.81205406,\n",
       "       0.77211545, 0.77490807, 0.81806   , 0.79976108, 0.82328096,\n",
       "       0.81888688, 0.78279843, 0.82349913, 0.81381241, 0.80899724,\n",
       "       0.78808504, 0.61658122, 0.81096896, 0.76104048, 0.82349913,\n",
       "       0.82349913, 0.77954131, 0.82319872, 0.816751  , 0.82198098,\n",
       "       0.82349913, 0.8218758 , 0.81895061, 0.81212275, 0.81428986,\n",
       "       0.82348777, 0.82150608, 0.82349913, 0.70495209, 0.82349913,\n",
       "       0.73458879, 0.61872022, 0.81536224, 0.79095537, 0.80646602,\n",
       "       0.82349913, 0.82349913, 0.78184116, 0.81359493, 0.81227795,\n",
       "       0.8142925 , 0.8215887 ])"
      ]
     },
     "execution_count": 81,
     "metadata": {},
     "output_type": "execute_result"
    }
   ],
   "source": [
    "final_lightgbm_prediction = final_lightgbm_prediction[:, 1]\n",
    "final_lightgbm_prediction"
   ]
  },
  {
   "cell_type": "code",
   "execution_count": 83,
   "metadata": {
    "execution": {
     "iopub.execute_input": "2024-09-07T13:24:29.817682Z",
     "iopub.status.busy": "2024-09-07T13:24:29.817211Z",
     "iopub.status.idle": "2024-09-07T13:24:29.885677Z",
     "shell.execute_reply": "2024-09-07T13:24:29.884319Z",
     "shell.execute_reply.started": "2024-09-07T13:24:29.817624Z"
    }
   },
   "outputs": [
    {
     "name": "stdout",
     "output_type": "stream",
     "text": [
      "[LightGBM] [Warning] feature_fraction is set=0.8712187238496423, colsample_bytree=1.0 will be ignored. Current value: feature_fraction=0.8712187238496423\n",
      "[LightGBM] [Warning] bagging_fraction is set=0.8737360320599473, subsample=1.0 will be ignored. Current value: bagging_fraction=0.8737360320599473\n",
      "[LightGBM] [Warning] bagging_freq is set=1, subsample_freq=0 will be ignored. Current value: bagging_freq=1\n"
     ]
    }
   ],
   "source": [
    "submission = pd.DataFrame({'ID':solution.index})\n",
    "submission['result'] = final_lightgbm_model.predict(solution)"
   ]
  },
  {
   "cell_type": "code",
   "execution_count": 84,
   "metadata": {
    "execution": {
     "iopub.execute_input": "2024-09-07T13:24:33.367028Z",
     "iopub.status.busy": "2024-09-07T13:24:33.366600Z",
     "iopub.status.idle": "2024-09-07T13:24:33.379626Z",
     "shell.execute_reply": "2024-09-07T13:24:33.378239Z",
     "shell.execute_reply.started": "2024-09-07T13:24:33.366989Z"
    }
   },
   "outputs": [
    {
     "data": {
      "text/plain": [
       "result\n",
       "1    342\n",
       "Name: count, dtype: int64"
      ]
     },
     "execution_count": 84,
     "metadata": {},
     "output_type": "execute_result"
    }
   ],
   "source": [
    "submission['result'].value_counts()"
   ]
  },
  {
   "cell_type": "code",
   "execution_count": null,
   "metadata": {
    "execution": {
     "iopub.status.busy": "2024-09-07T13:10:59.368462Z",
     "iopub.status.idle": "2024-09-07T13:10:59.369155Z",
     "shell.execute_reply": "2024-09-07T13:10:59.368845Z",
     "shell.execute_reply.started": "2024-09-07T13:10:59.368812Z"
    }
   },
   "outputs": [],
   "source": [
    "submission.to_csv('Tuned_LightGBM.csv', index=False)"
   ]
  },
  {
   "cell_type": "markdown",
   "metadata": {},
   "source": [
    "# Ensembles"
   ]
  },
  {
   "cell_type": "markdown",
   "metadata": {},
   "source": [
    "## Ensemble with LogisticRegression"
   ]
  },
  {
   "cell_type": "code",
   "execution_count": 85,
   "metadata": {
    "execution": {
     "iopub.execute_input": "2024-09-07T13:24:47.027851Z",
     "iopub.status.busy": "2024-09-07T13:24:47.027420Z",
     "iopub.status.idle": "2024-09-07T13:24:47.039144Z",
     "shell.execute_reply": "2024-09-07T13:24:47.037369Z",
     "shell.execute_reply.started": "2024-09-07T13:24:47.027805Z"
    }
   },
   "outputs": [],
   "source": [
    "train_meta = pd.DataFrame({\n",
    "    'cat': cat_prediction,\n",
    "    'xgb': xgb_prediction,\n",
    "    'lgbm': lgbm_prediction\n",
    "})"
   ]
  },
  {
   "cell_type": "code",
   "execution_count": 86,
   "metadata": {
    "execution": {
     "iopub.execute_input": "2024-09-07T13:24:49.495307Z",
     "iopub.status.busy": "2024-09-07T13:24:49.494907Z",
     "iopub.status.idle": "2024-09-07T13:24:49.502884Z",
     "shell.execute_reply": "2024-09-07T13:24:49.501194Z",
     "shell.execute_reply.started": "2024-09-07T13:24:49.495269Z"
    }
   },
   "outputs": [],
   "source": [
    "test_meta = pd.DataFrame({\n",
    "    'cat': final_cat_prediction, \n",
    "    'xgb': final_xgb_prediction,\n",
    "    'lgbm': final_lightgbm_prediction\n",
    "})"
   ]
  },
  {
   "cell_type": "code",
   "execution_count": 87,
   "metadata": {
    "execution": {
     "iopub.execute_input": "2024-09-07T13:24:51.186992Z",
     "iopub.status.busy": "2024-09-07T13:24:51.186362Z",
     "iopub.status.idle": "2024-09-07T13:24:51.716569Z",
     "shell.execute_reply": "2024-09-07T13:24:51.715292Z",
     "shell.execute_reply.started": "2024-09-07T13:24:51.186767Z"
    }
   },
   "outputs": [
    {
     "data": {
      "text/html": [
       "<style>#sk-container-id-6 {color: black;background-color: white;}#sk-container-id-6 pre{padding: 0;}#sk-container-id-6 div.sk-toggleable {background-color: white;}#sk-container-id-6 label.sk-toggleable__label {cursor: pointer;display: block;width: 100%;margin-bottom: 0;padding: 0.3em;box-sizing: border-box;text-align: center;}#sk-container-id-6 label.sk-toggleable__label-arrow:before {content: \"▸\";float: left;margin-right: 0.25em;color: #696969;}#sk-container-id-6 label.sk-toggleable__label-arrow:hover:before {color: black;}#sk-container-id-6 div.sk-estimator:hover label.sk-toggleable__label-arrow:before {color: black;}#sk-container-id-6 div.sk-toggleable__content {max-height: 0;max-width: 0;overflow: hidden;text-align: left;background-color: #f0f8ff;}#sk-container-id-6 div.sk-toggleable__content pre {margin: 0.2em;color: black;border-radius: 0.25em;background-color: #f0f8ff;}#sk-container-id-6 input.sk-toggleable__control:checked~div.sk-toggleable__content {max-height: 200px;max-width: 100%;overflow: auto;}#sk-container-id-6 input.sk-toggleable__control:checked~label.sk-toggleable__label-arrow:before {content: \"▾\";}#sk-container-id-6 div.sk-estimator input.sk-toggleable__control:checked~label.sk-toggleable__label {background-color: #d4ebff;}#sk-container-id-6 div.sk-label input.sk-toggleable__control:checked~label.sk-toggleable__label {background-color: #d4ebff;}#sk-container-id-6 input.sk-hidden--visually {border: 0;clip: rect(1px 1px 1px 1px);clip: rect(1px, 1px, 1px, 1px);height: 1px;margin: -1px;overflow: hidden;padding: 0;position: absolute;width: 1px;}#sk-container-id-6 div.sk-estimator {font-family: monospace;background-color: #f0f8ff;border: 1px dotted black;border-radius: 0.25em;box-sizing: border-box;margin-bottom: 0.5em;}#sk-container-id-6 div.sk-estimator:hover {background-color: #d4ebff;}#sk-container-id-6 div.sk-parallel-item::after {content: \"\";width: 100%;border-bottom: 1px solid gray;flex-grow: 1;}#sk-container-id-6 div.sk-label:hover label.sk-toggleable__label {background-color: #d4ebff;}#sk-container-id-6 div.sk-serial::before {content: \"\";position: absolute;border-left: 1px solid gray;box-sizing: border-box;top: 0;bottom: 0;left: 50%;z-index: 0;}#sk-container-id-6 div.sk-serial {display: flex;flex-direction: column;align-items: center;background-color: white;padding-right: 0.2em;padding-left: 0.2em;position: relative;}#sk-container-id-6 div.sk-item {position: relative;z-index: 1;}#sk-container-id-6 div.sk-parallel {display: flex;align-items: stretch;justify-content: center;background-color: white;position: relative;}#sk-container-id-6 div.sk-item::before, #sk-container-id-6 div.sk-parallel-item::before {content: \"\";position: absolute;border-left: 1px solid gray;box-sizing: border-box;top: 0;bottom: 0;left: 50%;z-index: -1;}#sk-container-id-6 div.sk-parallel-item {display: flex;flex-direction: column;z-index: 1;position: relative;background-color: white;}#sk-container-id-6 div.sk-parallel-item:first-child::after {align-self: flex-end;width: 50%;}#sk-container-id-6 div.sk-parallel-item:last-child::after {align-self: flex-start;width: 50%;}#sk-container-id-6 div.sk-parallel-item:only-child::after {width: 0;}#sk-container-id-6 div.sk-dashed-wrapped {border: 1px dashed gray;margin: 0 0.4em 0.5em 0.4em;box-sizing: border-box;padding-bottom: 0.4em;background-color: white;}#sk-container-id-6 div.sk-label label {font-family: monospace;font-weight: bold;display: inline-block;line-height: 1.2em;}#sk-container-id-6 div.sk-label-container {text-align: center;}#sk-container-id-6 div.sk-container {/* jupyter's `normalize.less` sets `[hidden] { display: none; }` but bootstrap.min.css set `[hidden] { display: none !important; }` so we also need the `!important` here to be able to override the default hidden behavior on the sphinx rendered scikit-learn.org. See: https://github.com/scikit-learn/scikit-learn/issues/21755 */display: inline-block !important;position: relative;}#sk-container-id-6 div.sk-text-repr-fallback {display: none;}</style><div id=\"sk-container-id-6\" class=\"sk-top-container\"><div class=\"sk-text-repr-fallback\"><pre>LogisticRegression(fit_intercept=False)</pre><b>In a Jupyter environment, please rerun this cell to show the HTML representation or trust the notebook. <br />On GitHub, the HTML representation is unable to render, please try loading this page with nbviewer.org.</b></div><div class=\"sk-container\" hidden><div class=\"sk-item\"><div class=\"sk-estimator sk-toggleable\"><input class=\"sk-toggleable__control sk-hidden--visually\" id=\"sk-estimator-id-6\" type=\"checkbox\" checked><label for=\"sk-estimator-id-6\" class=\"sk-toggleable__label sk-toggleable__label-arrow\">LogisticRegression</label><div class=\"sk-toggleable__content\"><pre>LogisticRegression(fit_intercept=False)</pre></div></div></div></div></div>"
      ],
      "text/plain": [
       "LogisticRegression(fit_intercept=False)"
      ]
     },
     "execution_count": 87,
     "metadata": {},
     "output_type": "execute_result"
    }
   ],
   "source": [
    "metamodel = LogisticRegression(fit_intercept=False)\n",
    "metamodel.fit(train_meta, test['result'])"
   ]
  },
  {
   "cell_type": "code",
   "execution_count": 88,
   "metadata": {
    "execution": {
     "iopub.execute_input": "2024-09-07T13:24:53.767357Z",
     "iopub.status.busy": "2024-09-07T13:24:53.766842Z",
     "iopub.status.idle": "2024-09-07T13:24:53.779629Z",
     "shell.execute_reply": "2024-09-07T13:24:53.778329Z",
     "shell.execute_reply.started": "2024-09-07T13:24:53.767316Z"
    }
   },
   "outputs": [],
   "source": [
    "meta_predictions = metamodel.predict(test_meta)\n",
    "meta_probabilities = metamodel.predict_proba(test_meta)[:, 1]"
   ]
  },
  {
   "cell_type": "code",
   "execution_count": 89,
   "metadata": {
    "execution": {
     "iopub.execute_input": "2024-09-07T13:24:59.552769Z",
     "iopub.status.busy": "2024-09-07T13:24:59.552290Z",
     "iopub.status.idle": "2024-09-07T13:24:59.560495Z",
     "shell.execute_reply": "2024-09-07T13:24:59.559371Z",
     "shell.execute_reply.started": "2024-09-07T13:24:59.552725Z"
    }
   },
   "outputs": [
    {
     "data": {
      "text/plain": [
       "32"
      ]
     },
     "execution_count": 89,
     "metadata": {},
     "output_type": "execute_result"
    }
   ],
   "source": [
    "len(meta_predictions) - meta_predictions.sum()"
   ]
  },
  {
   "cell_type": "markdown",
   "metadata": {},
   "source": [
    "## Ensemple with Boosting"
   ]
  },
  {
   "cell_type": "code",
   "execution_count": 90,
   "metadata": {
    "execution": {
     "iopub.execute_input": "2024-09-07T13:25:03.852455Z",
     "iopub.status.busy": "2024-09-07T13:25:03.852044Z",
     "iopub.status.idle": "2024-09-07T13:26:14.368391Z",
     "shell.execute_reply": "2024-09-07T13:26:14.367235Z",
     "shell.execute_reply.started": "2024-09-07T13:25:03.852415Z"
    }
   },
   "outputs": [
    {
     "data": {
      "text/html": [
       "<style>#sk-container-id-7 {color: black;background-color: white;}#sk-container-id-7 pre{padding: 0;}#sk-container-id-7 div.sk-toggleable {background-color: white;}#sk-container-id-7 label.sk-toggleable__label {cursor: pointer;display: block;width: 100%;margin-bottom: 0;padding: 0.3em;box-sizing: border-box;text-align: center;}#sk-container-id-7 label.sk-toggleable__label-arrow:before {content: \"▸\";float: left;margin-right: 0.25em;color: #696969;}#sk-container-id-7 label.sk-toggleable__label-arrow:hover:before {color: black;}#sk-container-id-7 div.sk-estimator:hover label.sk-toggleable__label-arrow:before {color: black;}#sk-container-id-7 div.sk-toggleable__content {max-height: 0;max-width: 0;overflow: hidden;text-align: left;background-color: #f0f8ff;}#sk-container-id-7 div.sk-toggleable__content pre {margin: 0.2em;color: black;border-radius: 0.25em;background-color: #f0f8ff;}#sk-container-id-7 input.sk-toggleable__control:checked~div.sk-toggleable__content {max-height: 200px;max-width: 100%;overflow: auto;}#sk-container-id-7 input.sk-toggleable__control:checked~label.sk-toggleable__label-arrow:before {content: \"▾\";}#sk-container-id-7 div.sk-estimator input.sk-toggleable__control:checked~label.sk-toggleable__label {background-color: #d4ebff;}#sk-container-id-7 div.sk-label input.sk-toggleable__control:checked~label.sk-toggleable__label {background-color: #d4ebff;}#sk-container-id-7 input.sk-hidden--visually {border: 0;clip: rect(1px 1px 1px 1px);clip: rect(1px, 1px, 1px, 1px);height: 1px;margin: -1px;overflow: hidden;padding: 0;position: absolute;width: 1px;}#sk-container-id-7 div.sk-estimator {font-family: monospace;background-color: #f0f8ff;border: 1px dotted black;border-radius: 0.25em;box-sizing: border-box;margin-bottom: 0.5em;}#sk-container-id-7 div.sk-estimator:hover {background-color: #d4ebff;}#sk-container-id-7 div.sk-parallel-item::after {content: \"\";width: 100%;border-bottom: 1px solid gray;flex-grow: 1;}#sk-container-id-7 div.sk-label:hover label.sk-toggleable__label {background-color: #d4ebff;}#sk-container-id-7 div.sk-serial::before {content: \"\";position: absolute;border-left: 1px solid gray;box-sizing: border-box;top: 0;bottom: 0;left: 50%;z-index: 0;}#sk-container-id-7 div.sk-serial {display: flex;flex-direction: column;align-items: center;background-color: white;padding-right: 0.2em;padding-left: 0.2em;position: relative;}#sk-container-id-7 div.sk-item {position: relative;z-index: 1;}#sk-container-id-7 div.sk-parallel {display: flex;align-items: stretch;justify-content: center;background-color: white;position: relative;}#sk-container-id-7 div.sk-item::before, #sk-container-id-7 div.sk-parallel-item::before {content: \"\";position: absolute;border-left: 1px solid gray;box-sizing: border-box;top: 0;bottom: 0;left: 50%;z-index: -1;}#sk-container-id-7 div.sk-parallel-item {display: flex;flex-direction: column;z-index: 1;position: relative;background-color: white;}#sk-container-id-7 div.sk-parallel-item:first-child::after {align-self: flex-end;width: 50%;}#sk-container-id-7 div.sk-parallel-item:last-child::after {align-self: flex-start;width: 50%;}#sk-container-id-7 div.sk-parallel-item:only-child::after {width: 0;}#sk-container-id-7 div.sk-dashed-wrapped {border: 1px dashed gray;margin: 0 0.4em 0.5em 0.4em;box-sizing: border-box;padding-bottom: 0.4em;background-color: white;}#sk-container-id-7 div.sk-label label {font-family: monospace;font-weight: bold;display: inline-block;line-height: 1.2em;}#sk-container-id-7 div.sk-label-container {text-align: center;}#sk-container-id-7 div.sk-container {/* jupyter's `normalize.less` sets `[hidden] { display: none; }` but bootstrap.min.css set `[hidden] { display: none !important; }` so we also need the `!important` here to be able to override the default hidden behavior on the sphinx rendered scikit-learn.org. See: https://github.com/scikit-learn/scikit-learn/issues/21755 */display: inline-block !important;position: relative;}#sk-container-id-7 div.sk-text-repr-fallback {display: none;}</style><div id=\"sk-container-id-7\" class=\"sk-top-container\"><div class=\"sk-text-repr-fallback\"><pre>GradientBoostingClassifier()</pre><b>In a Jupyter environment, please rerun this cell to show the HTML representation or trust the notebook. <br />On GitHub, the HTML representation is unable to render, please try loading this page with nbviewer.org.</b></div><div class=\"sk-container\" hidden><div class=\"sk-item\"><div class=\"sk-estimator sk-toggleable\"><input class=\"sk-toggleable__control sk-hidden--visually\" id=\"sk-estimator-id-7\" type=\"checkbox\" checked><label for=\"sk-estimator-id-7\" class=\"sk-toggleable__label sk-toggleable__label-arrow\">GradientBoostingClassifier</label><div class=\"sk-toggleable__content\"><pre>GradientBoostingClassifier()</pre></div></div></div></div></div>"
      ],
      "text/plain": [
       "GradientBoostingClassifier()"
      ]
     },
     "execution_count": 90,
     "metadata": {},
     "output_type": "execute_result"
    }
   ],
   "source": [
    "boosting_metamodel = GradientBoostingClassifier()\n",
    "boosting_metamodel.fit(train_meta, test['result'])"
   ]
  },
  {
   "cell_type": "code",
   "execution_count": 91,
   "metadata": {
    "execution": {
     "iopub.execute_input": "2024-09-07T13:26:14.371678Z",
     "iopub.status.busy": "2024-09-07T13:26:14.371168Z",
     "iopub.status.idle": "2024-09-07T13:26:14.384345Z",
     "shell.execute_reply": "2024-09-07T13:26:14.382615Z",
     "shell.execute_reply.started": "2024-09-07T13:26:14.371623Z"
    }
   },
   "outputs": [],
   "source": [
    "boost_meta_predictions = boosting_metamodel.predict(test_meta)\n",
    "boost_meta_probabilities = boosting_metamodel.predict_proba(test_meta)[:, 1]"
   ]
  },
  {
   "cell_type": "code",
   "execution_count": 92,
   "metadata": {
    "execution": {
     "iopub.execute_input": "2024-09-07T13:26:14.386297Z",
     "iopub.status.busy": "2024-09-07T13:26:14.385812Z",
     "iopub.status.idle": "2024-09-07T13:26:14.403092Z",
     "shell.execute_reply": "2024-09-07T13:26:14.401304Z",
     "shell.execute_reply.started": "2024-09-07T13:26:14.386253Z"
    },
    "jupyter": {
     "source_hidden": true
    }
   },
   "outputs": [
    {
     "name": "stdout",
     "output_type": "stream",
     "text": [
      "12\n",
      "14\n",
      "89\n",
      "116\n"
     ]
    }
   ],
   "source": [
    "for i in range(len(boost_meta_predictions)):\n",
    "    if (boost_meta_predictions == 0)[i] == True:\n",
    "        print(i)"
   ]
  },
  {
   "cell_type": "markdown",
   "metadata": {},
   "source": [
    "**Authors:**\n",
    "* Andrew Nizow ([github](https://github.com/AndrewsCollider) and [kaggle](https://www.kaggle.com/andrewnizov))\n",
    "* Nikita Chuikin ([github](https://github.com/AnalyseOptimize) and [kaggle](https://www.kaggle.com/chuikinnikita))"
   ]
  }
 ],
 "metadata": {
  "kaggle": {
   "accelerator": "none",
   "dataSources": [
    {
     "datasetId": 5638567,
     "sourceId": 9310469,
     "sourceType": "datasetVersion"
    }
   ],
   "dockerImageVersionId": 30761,
   "isGpuEnabled": false,
   "isInternetEnabled": true,
   "language": "python",
   "sourceType": "notebook"
  },
  "kernelspec": {
   "display_name": "Python 3 (ipykernel)",
   "language": "python",
   "name": "python3"
  },
  "language_info": {
   "codemirror_mode": {
    "name": "ipython",
    "version": 3
   },
   "file_extension": ".py",
   "mimetype": "text/x-python",
   "name": "python",
   "nbconvert_exporter": "python",
   "pygments_lexer": "ipython3",
   "version": "3.11.4"
  }
 },
 "nbformat": 4,
 "nbformat_minor": 4
}
